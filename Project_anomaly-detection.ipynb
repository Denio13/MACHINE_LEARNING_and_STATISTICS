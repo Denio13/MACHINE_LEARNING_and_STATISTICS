{
 "cells": [
  {
   "cell_type": "markdown",
   "id": "124cede0",
   "metadata": {},
   "source": [
    "<br>\n",
    "\n",
    "<center><img src=\"https://keras.io/img/logo.png\"></center>\n",
    "\n",
    "\n",
    "<br>\n",
    "\n",
    "***\n",
    "<h4 style=\"text-align: left\">Project:</h4>\n",
    "\n",
    "<center><h1 style=\"color: rgb(0, 94, 25);\">Keras</h1></center>\n",
    "<center><h2>Timeseries anomaly detection</h2></center>\n",
    "\n",
    "***\n",
    "    \n",
    "*__<div style=\"text-align: right\"> Author: Denis Sarf </div>__*\n"
   ]
  },
  {
   "cell_type": "markdown",
   "id": "4c8a4ff2",
   "metadata": {},
   "source": [
    "### Table of Contents\n",
    "\n",
    "***\n",
    "* [1.Project task](#Project_task)\n",
    "* [2.Introduction](#Introduction)\n",
    "* [3. ](#Question_1)\n",
    "* [4. ](#Question_2)\n",
    "* [References](#References)"
   ]
  },
  {
   "cell_type": "markdown",
   "id": "bf54c545",
   "metadata": {},
   "source": [
    "## 1. Project task <a class=\"anchor\" id=\"Project_task\"></a>\n",
    "***\n",
    "\n",
    "<div class=\"alert alert-info\"><h5>On the keras website$^{[1]}$, there is an example of time-series anomaly detection$^{[2]}$. Re-create this example in a notebook of your own, explaining the concepts.</h5></div>"
   ]
  },
  {
   "cell_type": "markdown",
   "id": "4b4f0064",
   "metadata": {},
   "source": [
    "## 2. Introduction <a class=\"anchor\" id=\"Introduction\"></a>\n",
    "***"
   ]
  },
  {
   "cell_type": "markdown",
   "id": "e1bf2dcd",
   "metadata": {},
   "source": [
    "**Keras** is an open-source software library that provides a _Python_ interface for artificial neural networks. **Keras** acts as an interface for the _TensorFlow_ library.  As of version 2.4, only TensorFlow is supported. Designed to enable fast experimentation with deep neural networks, it focuses on being user-friendly, modular, and extensible. It was developed as part of the research effort of project ONEIROS (Open-ended Neuro-Electronic Intelligent Robot Operating System) and its primary author and maintainer is [François Chollet](https://en.wikipedia.org/wiki/Fran%C3%A7ois_Chollet), a Google engineer.\n",
    "Keras contains numerous implementations of commonly used neural-network building blocks such as layers, objectives, activation functions, optimizers, and a host of tools to make working with image and text data easier to simplify the coding necessary for writing deep neural network code. \n",
    "**Keras** allows users to productize deep models on smartphones (iOS and Android), on the web, or on the Java Virtual Machine.It also allows use of distributed training of deep-learning models on clusters of Graphics processing units (GPU) and tensor processing units (TPU)$^{[3]}$.\n",
    "\n",
    "**Keras** is:\n",
    "- _Simple_ - but not simplistic. Keras reduces developer cognitive load to free you to focus on the parts of the problem that really matter.\n",
    "- _Flexible_ - Keras adopts the principle of progressive disclosure of complexity: simple workflows should be quick and easy, while arbitrarily advanced workflows should be possible via a clear path that builds upon what you've already learned.\n",
    "- _Powerful_ - Keras provides industry-strength performance and scalability: it is used by organizations and companies including NASA, YouTube, or Waymo."
   ]
  },
  {
   "cell_type": "code",
   "execution_count": null,
   "id": "601efb98",
   "metadata": {},
   "outputs": [],
   "source": []
  },
  {
   "cell_type": "code",
   "execution_count": null,
   "id": "d8145529",
   "metadata": {},
   "outputs": [],
   "source": []
  },
  {
   "cell_type": "code",
   "execution_count": null,
   "id": "fbf06606",
   "metadata": {},
   "outputs": [],
   "source": []
  },
  {
   "cell_type": "code",
   "execution_count": null,
   "id": "e388e152",
   "metadata": {},
   "outputs": [],
   "source": []
  },
  {
   "cell_type": "code",
   "execution_count": null,
   "id": "d00391e5",
   "metadata": {},
   "outputs": [],
   "source": []
  },
  {
   "cell_type": "code",
   "execution_count": null,
   "id": "dc288f39",
   "metadata": {},
   "outputs": [],
   "source": []
  },
  {
   "cell_type": "code",
   "execution_count": null,
   "id": "75eb4472",
   "metadata": {},
   "outputs": [],
   "source": []
  },
  {
   "cell_type": "code",
   "execution_count": null,
   "id": "25a934ca",
   "metadata": {},
   "outputs": [],
   "source": []
  },
  {
   "cell_type": "code",
   "execution_count": null,
   "id": "b10a9efe",
   "metadata": {},
   "outputs": [],
   "source": []
  },
  {
   "cell_type": "code",
   "execution_count": null,
   "id": "8b364e54",
   "metadata": {},
   "outputs": [],
   "source": []
  },
  {
   "cell_type": "code",
   "execution_count": null,
   "id": "a44f7cc5",
   "metadata": {},
   "outputs": [],
   "source": []
  },
  {
   "cell_type": "code",
   "execution_count": null,
   "id": "e4c2c81a",
   "metadata": {},
   "outputs": [],
   "source": []
  },
  {
   "cell_type": "markdown",
   "id": "a293dbf8",
   "metadata": {},
   "source": [
    "## References<a class=\"anchor\" id=\"References\"></a>\n",
    "***\n",
    "[1] https://keras.io/\n",
    "\n",
    "[2] https://keras.io/examples/timeseries/timeseries_anomaly_detection/\n",
    "\n",
    "[3] https://en.wikipedia.org/wiki/Keras\n"
   ]
  },
  {
   "cell_type": "markdown",
   "id": "a3d64276",
   "metadata": {},
   "source": [
    "<center><h2 style=\"color: rgb(0, 94, 25);\">End</h2></center>"
   ]
  }
 ],
 "metadata": {
  "kernelspec": {
   "display_name": "Python 3 (ipykernel)",
   "language": "python",
   "name": "python3"
  },
  "language_info": {
   "codemirror_mode": {
    "name": "ipython",
    "version": 3
   },
   "file_extension": ".py",
   "mimetype": "text/x-python",
   "name": "python",
   "nbconvert_exporter": "python",
   "pygments_lexer": "ipython3",
   "version": "3.8.10"
  }
 },
 "nbformat": 4,
 "nbformat_minor": 5
}
