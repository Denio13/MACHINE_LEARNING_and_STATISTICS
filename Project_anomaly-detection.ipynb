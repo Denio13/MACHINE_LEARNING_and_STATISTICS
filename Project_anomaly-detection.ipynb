{
 "cells": [
  {
   "cell_type": "markdown",
   "id": "124cede0",
   "metadata": {},
   "source": [
    "<br>\n",
    "\n",
    "<center><img src=\"https://keras.io/img/logo.png\"></center>\n",
    "\n",
    "\n",
    "<br>\n",
    "\n",
    "***\n",
    "<h4 style=\"text-align: left\">Project:</h4>\n",
    "\n",
    "<center><h1 style=\"color: rgb(0, 94, 25);\">Keras</h1></center>\n",
    "<center><h2>Timeseries anomaly detection</h2></center>\n",
    "\n",
    "***\n",
    "    \n",
    "*__<div style=\"text-align: right\"> Author: Denis Sarf </div>__*\n"
   ]
  },
  {
   "cell_type": "markdown",
   "id": "4c8a4ff2",
   "metadata": {},
   "source": [
    "### Table of Contents\n",
    "\n",
    "***\n",
    "* [1.Project task](#Project_task)\n",
    "* [2.Introduction](#Introduction)\n",
    "    * [2.1 Overview of Keras](#Overview)\n",
    "    * [2.2 Keras Models](#Models)\n",
    "    * [2.3 Install Keras and Tensorflow](#Installation)\n",
    "* [3. Project Implementation](#Implementation)\n",
    "    * [3.1 Import libraries](#Import)\n",
    "    * [3.2 Load the data](#data)\n",
    "    * [3.3 Import libraries](#Import)\n",
    "* [4. ](#Question_2)\n",
    "* [References](#References)"
   ]
  },
  {
   "cell_type": "markdown",
   "id": "bf54c545",
   "metadata": {},
   "source": [
    "## 1.  Project task <a class=\"anchor\" id=\"Project_task\"></a>\n",
    "***\n",
    "\n",
    "<div class=\"alert alert-info\"><h5>On the keras website$^{[1]}$, there is an example of time-series anomaly detection$^{[2]}$. Re-create this example in a notebook of your own, explaining the concepts.</h5></div>"
   ]
  },
  {
   "cell_type": "markdown",
   "id": "4b4f0064",
   "metadata": {},
   "source": [
    "## 2.  Introduction <a class=\"anchor\" id=\"Introduction\"></a>\n",
    "****\n",
    "### 2.1  Overview of Keras <a class=\"anchor\" id=\"Overview\"></a>"
   ]
  },
  {
   "cell_type": "markdown",
   "id": "e1bf2dcd",
   "metadata": {},
   "source": [
    "**Keras** is an open-source software library that provides a _Python_ interface for artificial neural networks. **Keras** acts as an interface for the _TensorFlow_ library.  As of version 2.4, only  _TensorFlow_ is supported. Designed to enable fast experimentation with deep neural networks, it focuses on being user-friendly, modular, and extensible. It was developed as part of the research effort of project ONEIROS (Open-ended Neuro-Electronic Intelligent Robot Operating System) and its primary author and maintainer is [François Chollet](https://en.wikipedia.org/wiki/Fran%C3%A7ois_Chollet), a Google engineer.\n",
    "**Keras** contains numerous implementations of commonly used neural-network building blocks such as layers, objectives, activation functions, optimizers, and a host of tools to make working with image and text data easier to simplify the coding necessary for writing deep neural network code. \n",
    "**Keras** allows users to productize deep models on smartphones (iOS and Android), on the web, or on the Java Virtual Machine.It also allows use of distributed training of deep-learning models on clusters of Graphics processing units (GPU) and tensor processing units (TPU)$^{[3]}$.\n",
    "\n",
    "**Keras** is$^{[4]}$:\n",
    "- _Simple_ - but not simplistic. Keras reduces developer cognitive load to free you to focus on the parts of the problem that really matter.\n",
    "- _Flexible_ - Keras adopts the principle of progressive disclosure of complexity: simple workflows should be quick and easy, while arbitrarily advanced workflows should be possible via a clear path that builds upon what you've already learned.\n",
    "- _Powerful_ - Keras provides industry-strength performance and scalability: it is used by organizations and companies including _NASA_, _YouTube_, or _Waymo_."
   ]
  },
  {
   "cell_type": "markdown",
   "id": "ae6d1560",
   "metadata": {},
   "source": [
    "**Benefits**$^{[5]}$.\n",
    "Keras is highly powerful and dynamic framework and comes up with the following advantages\n",
    "\n",
    "- Larger community support.\n",
    "\n",
    "- Easy to test.\n",
    "\n",
    "- Keras neural networks are written in _Python_ which makes things simpler.\n",
    "\n",
    "- Keras supports both convolution and recurrent networks.\n",
    "\n",
    "- Deep learning models are discrete components, so that, you can combine into many ways."
   ]
  },
  {
   "cell_type": "markdown",
   "id": "6be4da36",
   "metadata": {},
   "source": [
    "### 2.2  Keras Models <a class=\"anchor\" id=\"Models\"></a>"
   ]
  },
  {
   "cell_type": "markdown",
   "id": "a08949bd",
   "metadata": {},
   "source": [
    "A **Keras** model is a data structure for how we stack the layers of our neural network. We can stack the layers of our neural network in basically three different ways$^{[6]}$: \n",
    "+ [Sequential](https://www.tensorflow.org/guide/keras/sequential_model)\n",
    "+ [Functional](https://www.tensorflow.org/guide/keras/functional) \n",
    "+ [Subclass](https://www.tensorflow.org/guide/keras/custom_layers_and_models)\n",
    "\n",
    "<center><img src=\"https://miro.medium.com/max/720/1*WzwKtnA0LEhiCGdWTTpLaA.webp\"></center>\n",
    "\n",
    "**Sequential Model (API)**: It is based on the concept of a sequence of layers, this is the most notorious and elementary part of Keras. It supports designing models layer-by-layer for complex problems with the limitation that _Sequential API_ doesn’t build models that share layers or exhibit multiple inputs and outputs. A sequential model can be created by simply calling *Sequential()*\n",
    "\n",
    "**Functional API**: It is the most popular method to build Keras models. It can do everything that the *Sequential API* can do. Also, it allows multiple inputs, multiple outputs, branching, and layer sharing. It is a clean and easy-to-use method, and it still allows a good level of customization flexibility. The main idea is that a deep learning model is usually a directed acyclic graph (DAG) of layers. So, the functional API is a way to build layer graphs.\n",
    "\n",
    "**Subclass model**: Inside Keras, the Model class is the root class used to define a model architecture. Since Keras utilizes object-oriented programming, we can actually subclass the Model class and then insert our architecture definition. Model subclassing is for advanced-level developers who need full control over their model, layer, and training process.\n",
    "Model subclassing is fully-customizable and enables you to implement your own custom forward pass of the model.\n",
    "However, this flexibility and customization come at a cost — model subclassing is way harder to utilize than the Sequential API or Functional API and mainly used by researchers."
   ]
  },
  {
   "cell_type": "markdown",
   "id": "d9322a06",
   "metadata": {},
   "source": [
    "### 2.3  Install Keras and Tensorflow$^{[7]}$ <a class=\"anchor\" id=\"Installation\"></a>"
   ]
  },
  {
   "cell_type": "markdown",
   "id": "14c3fa21",
   "metadata": {},
   "source": [
    "Instead of `pip` installing each package separately, the recommended approach is to install **Keras** as part of the **TensorFlow** installation. When you install **TensorFlow 2.0+**, **Keras** will be automatically installed as well.\n",
    "\n",
    "**TensorFlow** can be run on three different processor platforms, the main difference being the speed at which your neural network is trained. Each platform has different hardware requirements and offers different performance:\n",
    "- CPU – any modern computer can run this version, but it offers the slowest training speeds.\n",
    "- TPU – only available currently on Google’s Colaboratory (Colab) platform, Tensor Processing Units (TPUs) offer the highest training speeds.\n",
    "- GPU – most high end computers feature a separate Graphics Processing Unit (GPU) from Nvidia or AMD that offer training speeds much faster than CPUs, but not as fast as TPUs. \n",
    "\n",
    "To install **TensorFlow** we can run the following command:\n",
    "\n",
    "```pip install tensorflow```\n",
    "\n",
    "##### Update Tensorflow and Keras Using Pip\n",
    "\n",
    "Installed **TensorFlow** and **Keras**, they can be updated by running the following command:\n",
    "\n",
    "```pip install -U tensorflow```\n",
    "\n",
    "We can check your **TensorFlow** installation with the following command:"
   ]
  },
  {
   "cell_type": "code",
   "execution_count": 9,
   "id": "f5681183",
   "metadata": {
    "scrolled": true
   },
   "outputs": [
    {
     "name": "stdout",
     "output_type": "stream",
     "text": [
      "2.11.0\n"
     ]
    }
   ],
   "source": [
    "# Check installed TensorFlow package version\n",
    "import tensorflow as tf; print(tf.__version__)"
   ]
  },
  {
   "cell_type": "markdown",
   "id": "0b2ed62a",
   "metadata": {},
   "source": [
    "## 3.  Project Implementation <a class=\"anchor\" id=\"Implementation\"></a>\n",
    "***"
   ]
  },
  {
   "cell_type": "markdown",
   "id": "4e5af133",
   "metadata": {},
   "source": [
    "### 3.1 Import libraries <a class=\"anchor\" id=\"Import\"></a>\n",
    "\n",
    "After installing TensorFlow and Keras, we need to import the required libraries"
   ]
  },
  {
   "cell_type": "code",
   "execution_count": 2,
   "id": "dc288f39",
   "metadata": {},
   "outputs": [],
   "source": [
    "# Importing the Keras library\n",
    "import tensorflow.keras as keras"
   ]
  },
  {
   "cell_type": "markdown",
   "id": "e8e1bbcf",
   "metadata": {},
   "source": [
    "`matplotlib.pyplot` is a collection of command style functions that make matplotlib work like _MATLAB_. Each pyplot function makes some change to a figure: e.g., creates a figure, creates a plotting area in a figure, plots some lines in a plotting area, decorates the plot with labels, etc. In `matplotlib.pyplot` various states are preserved across function calls, so that it keeps track of things like the current figure and plotting area, and the plotting functions are directed to the current axes$^{[8]}$."
   ]
  },
  {
   "cell_type": "code",
   "execution_count": 3,
   "id": "25a934ca",
   "metadata": {},
   "outputs": [],
   "source": [
    "# Import the matplotlib\n",
    "import matplotlib.pyplot as plt"
   ]
  },
  {
   "cell_type": "markdown",
   "id": "555628ea",
   "metadata": {},
   "source": [
    "_NumPy_, which stands for _Numerical Python_, is a scientific computing library built on top of the _Python_ programming language.\n",
    "The most common way to import _NumPy_ into your _Python_ environment is to use the following syntax: `import numpy as np`\n",
    "The as `np` portion of the code then tells _Python_ to give _NumPy_ the alias of `np`. This allows you to use _NumPy_ functions by simply typing `np.function_name` rather than numpy$^{[9]}$."
   ]
  },
  {
   "cell_type": "code",
   "execution_count": 4,
   "id": "8b364e54",
   "metadata": {},
   "outputs": [],
   "source": [
    "# Import the numpy package\n",
    "import numpy as np"
   ]
  },
  {
   "cell_type": "markdown",
   "id": "70217aa7",
   "metadata": {},
   "source": [
    "_pandas_ is an open source data analysis library built on top of the Python programming language. _pandas_ provides fast, flexible, and expressive data structures designed to make working with \"relational\" or \"labeled\" data simple and intuitive$^{[10]}$.\n",
    "\n",
    "The most common way to import pandas into your Python environment is to use the following syntax:```import pandas as pd```"
   ]
  },
  {
   "cell_type": "code",
   "execution_count": 5,
   "id": "e4c2c81a",
   "metadata": {},
   "outputs": [],
   "source": [
    "# Import pandas\n",
    "import pandas as pd"
   ]
  },
  {
   "cell_type": "markdown",
   "id": "5b5f4fa9",
   "metadata": {},
   "source": [
    "### 3.2 Load the data <a class=\"anchor\" id=\"data\"></a>\n",
    "\n",
    "We will use the [Numenta Anomaly Benchmark (NAB)](https://www.kaggle.com/boltzmannbrain/nab) dataset. It provides artificial time series data containing labeled anomalous periods of behavior.\n",
    "NAB is a novel benchmark for evaluating algorithms for anomaly detection in streaming, online applications. It comprises over 50 labelled real-world and artificial time-series data files plus a novel scoring mechanism designed for real-time applications. The data and code are fully open-source, with extensive documentation, and a scoreboard of anomaly detection algorithms: [github.com/numenta/NAB](https://github.com/numenta/NAB)."
   ]
  },
  {
   "cell_type": "code",
   "execution_count": 6,
   "id": "1d8930f3",
   "metadata": {},
   "outputs": [],
   "source": [
    "# The Root of URLs\n",
    "root_url = 'https://raw.githubusercontent.com/numenta/NAB/master/data/'\n",
    "\n",
    "# Data file without anomaly.\n",
    "no_anomaly_url = root_url + 'artificialNoAnomaly/art_daily_small_noise.csv'\n",
    "\n",
    "# Data file with anomaly.\n",
    "with_anomaly_url = root_url + 'artificialWithAnomaly/art_daily_jumpsup.csv'"
   ]
  },
  {
   "cell_type": "markdown",
   "id": "2992b0b3",
   "metadata": {},
   "source": [
    "The CSV files have 2 columns **timestamp** and **value**.\n",
    "\n",
    "We will use `pd.read_csv`$^{[11]}$ to read a comma-separated values (CSV) file into DataFrame."
   ]
  },
  {
   "cell_type": "code",
   "execution_count": 7,
   "id": "16c996de",
   "metadata": {},
   "outputs": [],
   "source": [
    "# Get data from CSV file using 'pd.read_csv'\n",
    "df_small_noise = pd.read_csv(no_anomaly_url, parse_dates=True, index_col=\"timestamp\")"
   ]
  },
  {
   "cell_type": "markdown",
   "id": "0232f266",
   "metadata": {},
   "source": [
    "The `DataFrame.head(n=5)` returns the first `n` rows. This is useful for quick testing if your object has the correct data type in it. If the parameter `n` is not set then it returns by default the first **5** rows"
   ]
  },
  {
   "cell_type": "code",
   "execution_count": 8,
   "id": "5c807611",
   "metadata": {},
   "outputs": [
    {
     "data": {
      "text/html": [
       "<div>\n",
       "<style scoped>\n",
       "    .dataframe tbody tr th:only-of-type {\n",
       "        vertical-align: middle;\n",
       "    }\n",
       "\n",
       "    .dataframe tbody tr th {\n",
       "        vertical-align: top;\n",
       "    }\n",
       "\n",
       "    .dataframe thead th {\n",
       "        text-align: right;\n",
       "    }\n",
       "</style>\n",
       "<table border=\"1\" class=\"dataframe\">\n",
       "  <thead>\n",
       "    <tr style=\"text-align: right;\">\n",
       "      <th></th>\n",
       "      <th>value</th>\n",
       "    </tr>\n",
       "    <tr>\n",
       "      <th>timestamp</th>\n",
       "      <th></th>\n",
       "    </tr>\n",
       "  </thead>\n",
       "  <tbody>\n",
       "    <tr>\n",
       "      <th>2014-04-01 00:00:00</th>\n",
       "      <td>18.324919</td>\n",
       "    </tr>\n",
       "    <tr>\n",
       "      <th>2014-04-01 00:05:00</th>\n",
       "      <td>21.970327</td>\n",
       "    </tr>\n",
       "    <tr>\n",
       "      <th>2014-04-01 00:10:00</th>\n",
       "      <td>18.624806</td>\n",
       "    </tr>\n",
       "    <tr>\n",
       "      <th>2014-04-01 00:15:00</th>\n",
       "      <td>21.953684</td>\n",
       "    </tr>\n",
       "    <tr>\n",
       "      <th>2014-04-01 00:20:00</th>\n",
       "      <td>21.909120</td>\n",
       "    </tr>\n",
       "  </tbody>\n",
       "</table>\n",
       "</div>"
      ],
      "text/plain": [
       "                         value\n",
       "timestamp                     \n",
       "2014-04-01 00:00:00  18.324919\n",
       "2014-04-01 00:05:00  21.970327\n",
       "2014-04-01 00:10:00  18.624806\n",
       "2014-04-01 00:15:00  21.953684\n",
       "2014-04-01 00:20:00  21.909120"
      ]
     },
     "execution_count": 8,
     "metadata": {},
     "output_type": "execute_result"
    }
   ],
   "source": [
    "# Print first 5 rows\n",
    "df_small_noise.head()"
   ]
  },
  {
   "cell_type": "code",
   "execution_count": null,
   "id": "87400518",
   "metadata": {},
   "outputs": [],
   "source": []
  },
  {
   "cell_type": "code",
   "execution_count": null,
   "id": "21583b7e",
   "metadata": {},
   "outputs": [],
   "source": []
  },
  {
   "cell_type": "markdown",
   "id": "a293dbf8",
   "metadata": {},
   "source": [
    "## References<a class=\"anchor\" id=\"References\"></a>\n",
    "***\n",
    "[1] https://keras.io/\n",
    "\n",
    "[2] https://keras.io/examples/timeseries/timeseries_anomaly_detection/\n",
    "\n",
    "[3] https://en.wikipedia.org/wiki/Keras\n",
    "\n",
    "[4] https://keras.io/about/\n",
    "\n",
    "[5] https://www.tutorialspoint.com/keras/keras_introduction.htm\n",
    "\n",
    "[6] https://medium.com/@antika.das/keras-models-cnn-functional-vs-sequential-mnist-data-set-d7a19dae9cb7\n",
    "\n",
    "[7] https://www.activestate.com/resources/quick-reads/how-to-install-keras-and-tensorflow/\n",
    "\n",
    "[8] https://matplotlib.org/2.0.2/users/pyplot_tutorial.html\n",
    "\n",
    "[9] https://numpy.org/doc/stable/reference/routines.math.html\n",
    "\n",
    "[10] https://pandas.pydata.org/docs/user_guide/10min.html\n",
    "\n",
    "[11] https://pandas.pydata.org/docs/reference/api/pandas.read_csv.html"
   ]
  },
  {
   "cell_type": "markdown",
   "id": "a3d64276",
   "metadata": {},
   "source": [
    "<center><h2 style=\"color: rgb(0, 94, 25);\">End</h2></center>"
   ]
  }
 ],
 "metadata": {
  "kernelspec": {
   "display_name": "Python 3 (ipykernel)",
   "language": "python",
   "name": "python3"
  },
  "language_info": {
   "codemirror_mode": {
    "name": "ipython",
    "version": 3
   },
   "file_extension": ".py",
   "mimetype": "text/x-python",
   "name": "python",
   "nbconvert_exporter": "python",
   "pygments_lexer": "ipython3",
   "version": "3.8.10"
  }
 },
 "nbformat": 4,
 "nbformat_minor": 5
}
