{
 "cells": [
  {
   "cell_type": "markdown",
   "id": "124cede0",
   "metadata": {},
   "source": [
    "<br>\n",
    "\n",
    "<center><img src=\"https://keras.io/img/logo.png\"></center>\n",
    "\n",
    "\n",
    "<br>\n",
    "\n",
    "***\n",
    "<h4 style=\"text-align: left\">Project:</h4>\n",
    "\n",
    "<center><h1 style=\"color: rgb(0, 94, 25);\">Keras</h1></center>\n",
    "<center><h2>Timeseries anomaly detection</h2></center>\n",
    "\n",
    "***\n",
    "    \n",
    "*__<div style=\"text-align: right\"> Author: Denis Sarf </div>__*\n"
   ]
  },
  {
   "cell_type": "markdown",
   "id": "4c8a4ff2",
   "metadata": {},
   "source": [
    "### Table of Contents\n",
    "\n",
    "***\n",
    "* [1.Project task](#Project_task)\n",
    "* [2.Introduction](#Introduction)\n",
    "    * [2.1 Overview of Keras](#Overview)\n",
    "    * [2.2 Keras Models](#Models)\n",
    "    * [2.3 Install Keras and Tensorflow](#Installation)\n",
    "* [3. Project Implementation](#Implementation)\n",
    "    * [3.1 Project Introduction](#Pr_Introduction)\n",
    "    * [3.2 Import libraries](#Import)\n",
    "    * [3.3 Load the data](#data)\n",
    "        * [3.3.1 Non-Anomaly Data](#Non-Anomaly)\n",
    "        * [3.3.2 Anomaly Data](#Anomaly)\n",
    "    * [3.4 Prepare training data](#training_data)\n",
    "    * [3.5 Neural Network](#neural_network)\n",
    "    * [3.6 Evaluation](#Evaluation)\n",
    "    * [3.7 Plot anomalies](#Plot_anomalies)\n",
    "* [4. Conclusion](#Conclusion)\n",
    "* [References](#References)"
   ]
  },
  {
   "cell_type": "markdown",
   "id": "bf54c545",
   "metadata": {},
   "source": [
    "## 1.  Project task <a class=\"anchor\" id=\"Project_task\"></a>\n",
    "***\n",
    "\n",
    "<div class=\"alert alert-info\"><h5>On the keras website$^{[1]}$, there is an example of time-series anomaly detection$^{[2]}$. Re-create this example in a notebook of your own, explaining the concepts.</h5></div>"
   ]
  },
  {
   "cell_type": "markdown",
   "id": "4b4f0064",
   "metadata": {},
   "source": [
    "## 2.  Introduction <a class=\"anchor\" id=\"Introduction\"></a>\n",
    "****\n",
    "### 2.1  Overview of Keras <a class=\"anchor\" id=\"Overview\"></a>"
   ]
  },
  {
   "cell_type": "markdown",
   "id": "e1bf2dcd",
   "metadata": {},
   "source": [
    "**Keras** is an open-source software library that provides a _Python_ interface for artificial neural networks. **Keras** acts as an interface for the _TensorFlow_ library.  As of version 2.4, only  _TensorFlow_ is supported. Designed to enable fast experimentation with deep neural networks, it focuses on being user-friendly, modular, and extensible. It was developed as part of the research effort of project ONEIROS (Open-ended Neuro-Electronic Intelligent Robot Operating System) and its primary author and maintainer is [François Chollet](https://en.wikipedia.org/wiki/Fran%C3%A7ois_Chollet), a Google engineer.\n",
    "**Keras** contains numerous implementations of commonly used neural-network building blocks such as layers, objectives, activation functions, optimizers, and a host of tools to make working with image and text data easier to simplify the coding necessary for writing deep neural network code. \n",
    "**Keras** allows users to productize deep models on smartphones (iOS and Android), on the web, or on the Java Virtual Machine.It also allows use of distributed training of deep-learning models on clusters of Graphics processing units (GPU) and tensor processing units (TPU)$^{[3]}$.\n",
    "\n",
    "**Keras** is$^{[4]}$:\n",
    "- _Simple_ - but not simplistic. Keras reduces developer cognitive load to free you to focus on the parts of the problem that really matter.\n",
    "- _Flexible_ - Keras adopts the principle of progressive disclosure of complexity: simple workflows should be quick and easy, while arbitrarily advanced workflows should be possible via a clear path that builds upon what you've already learned.\n",
    "- _Powerful_ - Keras provides industry-strength performance and scalability: it is used by organizations and companies including _NASA_, _YouTube_, or _Waymo_."
   ]
  },
  {
   "cell_type": "markdown",
   "id": "ae6d1560",
   "metadata": {},
   "source": [
    "**Benefits**$^{[5]}$.\n",
    "Keras is highly powerful and dynamic framework and comes up with the following advantages\n",
    "\n",
    "- Larger community support.\n",
    "\n",
    "- Easy to test.\n",
    "\n",
    "- Keras neural networks are written in _Python_ which makes things simpler.\n",
    "\n",
    "- Keras supports both convolution and recurrent networks.\n",
    "\n",
    "- Deep learning models are discrete components, so that, you can combine into many ways.\n",
    "\n",
    "A very useful [**Keras cheat sheet**](https://res.cloudinary.com/dyd911kmh/image/upload/v1660903348/Keras_Cheat_Sheet_gssmi8.pdf) that shows the six steps you need to follow to create neural networks in Python, with code examples."
   ]
  },
  {
   "cell_type": "markdown",
   "id": "6be4da36",
   "metadata": {},
   "source": [
    "### 2.2  Keras Models <a class=\"anchor\" id=\"Models\"></a>"
   ]
  },
  {
   "cell_type": "markdown",
   "id": "a08949bd",
   "metadata": {},
   "source": [
    "A **Keras** model is a data structure for how we stack the layers of our neural network. We can stack the layers of our neural network in basically three different ways$^{[6]}$: \n",
    "+ [Sequential](https://www.tensorflow.org/guide/keras/sequential_model)\n",
    "+ [Functional](https://www.tensorflow.org/guide/keras/functional) \n",
    "+ [Subclass](https://www.tensorflow.org/guide/keras/custom_layers_and_models)\n",
    "\n",
    "<center><img src=\"https://miro.medium.com/max/720/1*WzwKtnA0LEhiCGdWTTpLaA.webp\"></center>\n",
    "\n",
    "**Sequential Model (API)**: It is based on the concept of a sequence of layers, this is the most notorious and elementary part of Keras. It supports designing models layer-by-layer for complex problems with the limitation that _Sequential API_ doesn’t build models that share layers or exhibit multiple inputs and outputs. A sequential model can be created by simply calling *Sequential()*\n",
    "\n",
    "**Functional API**: It is the most popular method to build Keras models. It can do everything that the *Sequential API* can do. Also, it allows multiple inputs, multiple outputs, branching, and layer sharing. It is a clean and easy-to-use method, and it still allows a good level of customization flexibility. The main idea is that a deep learning model is usually a directed acyclic graph (DAG) of layers. So, the functional API is a way to build layer graphs.\n",
    "\n",
    "**Subclass model**: Inside Keras, the Model class is the root class used to define a model architecture. Since Keras utilizes object-oriented programming, we can actually subclass the Model class and then insert our architecture definition. Model subclassing is for advanced-level developers who need full control over their model, layer, and training process.\n",
    "Model subclassing is fully-customizable and enables you to implement your own custom forward pass of the model.\n",
    "However, this flexibility and customization come at a cost — model subclassing is way harder to utilize than the Sequential API or Functional API and mainly used by researchers."
   ]
  },
  {
   "cell_type": "markdown",
   "id": "d9322a06",
   "metadata": {},
   "source": [
    "### 2.3  Install Keras and Tensorflow$^{[7]}$ <a class=\"anchor\" id=\"Installation\"></a>"
   ]
  },
  {
   "cell_type": "markdown",
   "id": "14c3fa21",
   "metadata": {},
   "source": [
    "Instead of `pip` installing each package separately, the recommended approach is to install **Keras** as part of the **TensorFlow** installation. When you install **TensorFlow 2.0+**, **Keras** will be automatically installed as well.\n",
    "\n",
    "**TensorFlow** can be run on three different processor platforms, the main difference being the speed at which your neural network is trained. Each platform has different hardware requirements and offers different performance:\n",
    "- CPU – any modern computer can run this version, but it offers the slowest training speeds.\n",
    "- TPU – only available currently on Google’s Colaboratory (Colab) platform, Tensor Processing Units (TPUs) offer the highest training speeds.\n",
    "- GPU – most high end computers feature a separate Graphics Processing Unit (GPU) from Nvidia or AMD that offer training speeds much faster than CPUs, but not as fast as TPUs. \n",
    "\n",
    "To install **TensorFlow** we can run the following command:\n",
    "\n",
    "```pip install tensorflow```\n",
    "\n",
    "##### Update Tensorflow and Keras Using Pip\n",
    "\n",
    "Installed **TensorFlow** and **Keras**, they can be updated by running the following command:\n",
    "\n",
    "```pip install -U tensorflow```\n",
    "\n",
    "We can check your **TensorFlow** installation with the following command:"
   ]
  },
  {
   "cell_type": "code",
   "execution_count": 77,
   "id": "f5681183",
   "metadata": {
    "scrolled": true
   },
   "outputs": [
    {
     "name": "stdout",
     "output_type": "stream",
     "text": [
      "2.11.0\n"
     ]
    }
   ],
   "source": [
    "# Check installed TensorFlow package version.\n",
    "import tensorflow as tf; print(tf.__version__)"
   ]
  },
  {
   "cell_type": "markdown",
   "id": "0b2ed62a",
   "metadata": {},
   "source": [
    "## 3.  Project Implementation <a class=\"anchor\" id=\"Implementation\"></a>\n",
    "***"
   ]
  },
  {
   "cell_type": "markdown",
   "id": "8586c3fd",
   "metadata": {},
   "source": [
    "### 3.1 Project Introduction <a class=\"anchor\" id=\"Pr_Introduction\"></a>\n",
    "***\n",
    "##### Time Series Data\n",
    "Time Series is a sequence of numerical data collected at different points in time in successive order. This is not cross-sectional data. This is an observation of the value of a variable at different times.\n",
    "\n",
    "##### Anomaly Detection in Time Series Data\n",
    "Anomaly Detection in the data mining field is the identification of the data of a variable or events that do not follow a certain pattern. Anomaly detection helps to identify the unexpected behaviour of the data with time so that businesses and companies can make strategies to overcome the situation. It also helps the firms to detect the error that is going to happen at a particular time, or it helps to learn from past histories of data that showed unusual behaviour.\n",
    "Applying machine learning in anomaly detection helps to increase the speed of execution. The machine learning algorithm’s implementation helps companies to find simple and effective approaches for detecting anomalies. Since machine learning algorithms are able to learn from data and make predictions so applying these algorithms in anomaly detection of time series data carries a huge impact on its performance$^{[8]}$."
   ]
  },
  {
   "cell_type": "markdown",
   "id": "4e5af133",
   "metadata": {},
   "source": [
    "### 3.2 Import libraries <a class=\"anchor\" id=\"Import\"></a>\n",
    "\n",
    "After installing TensorFlow and Keras, we need to import the required libraries"
   ]
  },
  {
   "cell_type": "code",
   "execution_count": 2,
   "id": "dc288f39",
   "metadata": {},
   "outputs": [],
   "source": [
    "# Importing the Keras library.\n",
    "import tensorflow.keras as keras"
   ]
  },
  {
   "cell_type": "markdown",
   "id": "e8e1bbcf",
   "metadata": {},
   "source": [
    "`matplotlib.pyplot` is a collection of command style functions that make matplotlib work like _MATLAB_. Each pyplot function makes some change to a figure: e.g., creates a figure, creates a plotting area in a figure, plots some lines in a plotting area, decorates the plot with labels, etc. In `matplotlib.pyplot` various states are preserved across function calls, so that it keeps track of things like the current figure and plotting area, and the plotting functions are directed to the current axes$^{[9]}$."
   ]
  },
  {
   "cell_type": "code",
   "execution_count": 3,
   "id": "25a934ca",
   "metadata": {},
   "outputs": [],
   "source": [
    "# Import the matplotlib.\n",
    "import matplotlib.pyplot as plt"
   ]
  },
  {
   "cell_type": "markdown",
   "id": "555628ea",
   "metadata": {},
   "source": [
    "_NumPy_, which stands for _Numerical Python_, is a scientific computing library built on top of the _Python_ programming language.\n",
    "The most common way to import _NumPy_ into your _Python_ environment is to use the following syntax: `import numpy as np`\n",
    "The as `np` portion of the code then tells _Python_ to give _NumPy_ the alias of `np`. This allows you to use _NumPy_ functions by simply typing `np.function_name` rather than numpy$^{[10]}$."
   ]
  },
  {
   "cell_type": "code",
   "execution_count": 4,
   "id": "8b364e54",
   "metadata": {},
   "outputs": [],
   "source": [
    "# Import the numpy package.\n",
    "import numpy as np"
   ]
  },
  {
   "cell_type": "markdown",
   "id": "70217aa7",
   "metadata": {},
   "source": [
    "_pandas_ is an open source data analysis library built on top of the Python programming language. _pandas_ provides fast, flexible, and expressive data structures designed to make working with \"relational\" or \"labeled\" data simple and intuitive$^{[11]}$.\n",
    "\n",
    "The most common way to import pandas into your Python environment is to use the following syntax:```import pandas as pd```"
   ]
  },
  {
   "cell_type": "code",
   "execution_count": 5,
   "id": "e4c2c81a",
   "metadata": {},
   "outputs": [],
   "source": [
    "# Import pandas.\n",
    "import pandas as pd"
   ]
  },
  {
   "cell_type": "markdown",
   "id": "582bbd12",
   "metadata": {},
   "source": [
    "The main idea of `seaborn` is that it provides high-level commands to create a variety of plot types useful for statistical data exploration, and even some statistical model fitting.\n",
    "\n",
    "The `set_theme()`, which is the preferred interface.\n",
    "\n",
    "**This function may be removed in the future$^{[12]}$.**\n"
   ]
  },
  {
   "cell_type": "code",
   "execution_count": 6,
   "id": "9a9f7cbc",
   "metadata": {},
   "outputs": [],
   "source": [
    "# Import pandas.\n",
    "import seaborn as sns\n",
    "# Set preferred interface.\n",
    "sns.set()"
   ]
  },
  {
   "cell_type": "markdown",
   "id": "5b5f4fa9",
   "metadata": {},
   "source": [
    "### 3.3 Load the data <a class=\"anchor\" id=\"data\"></a>\n",
    "Keras models accept three types of inputs:\n",
    "- **[NumPy Arrays](https://numpy.org/doc/stable/reference/generated/numpy.array.html)** is a Python-based library. This is a good option if your data fits in memory.\n",
    "- **[TensorFlow dataset objects](https://www.tensorflow.org/guide/data)**. This is a high performance option and is more suitable for data sets that do not fit in memory.\n",
    "- **Python generators** that produce batches of data (for example, custom subclasses of the keras.utils.Sequence class).\n",
    "\n",
    "We will use the [Numenta Anomaly Benchmark (NAB)](https://www.kaggle.com/boltzmannbrain/nab) dataset. It provides artificial time series data containing labeled anomalous periods of behavior.\n",
    "NAB is a novel benchmark for evaluating algorithms for anomaly detection in streaming, online applications. It comprises over 50 labelled real-world and artificial time-series data files plus a novel scoring mechanism designed for real-time applications. The data and code are fully open-source, with extensive documentation, and a scoreboard of anomaly detection algorithms: [github.com/numenta/NAB](https://github.com/numenta/NAB)."
   ]
  },
  {
   "cell_type": "code",
   "execution_count": 7,
   "id": "1d8930f3",
   "metadata": {},
   "outputs": [],
   "source": [
    "# The Root of URLs.\n",
    "root_url = 'https://raw.githubusercontent.com/numenta/NAB/master/data/'\n",
    "\n",
    "# Data file without anomaly.\n",
    "no_anomaly_url = root_url + 'artificialNoAnomaly/art_daily_small_noise.csv'\n",
    "\n",
    "# Data file with anomaly.\n",
    "with_anomaly_url = root_url + 'artificialWithAnomaly/art_daily_jumpsup.csv'"
   ]
  },
  {
   "cell_type": "markdown",
   "id": "2992b0b3",
   "metadata": {},
   "source": [
    "#### 3.3.1 Non-Anomaly Data <a class=\"anchor\" id=\"Non-Anomaly\"></a>\n",
    "***\n",
    "First, we take the non-anomaly data and see what it looks like.\n",
    "\n",
    "We will use `pd.read_csv`$^{[13]}$ to read a comma-separated values (CSV) file into DataFrame.\n",
    "\n",
    "The CSV files have 2 columns **timestamp** and **value**."
   ]
  },
  {
   "cell_type": "code",
   "execution_count": 8,
   "id": "16c996de",
   "metadata": {},
   "outputs": [],
   "source": [
    "# Get data from CSV file using 'pd.read_csv'. \n",
    "df_small_noise = pd.read_csv(no_anomaly_url, parse_dates=True, index_col=\"timestamp\")"
   ]
  },
  {
   "cell_type": "markdown",
   "id": "0232f266",
   "metadata": {},
   "source": [
    "The `DataFrame.head(n=5)` returns the first `n` rows. This is useful for quick testing if your object has the correct data type in it. If the parameter `n` is not set then it returns by default the first **5** rows"
   ]
  },
  {
   "cell_type": "code",
   "execution_count": 9,
   "id": "5c807611",
   "metadata": {},
   "outputs": [
    {
     "data": {
      "text/html": [
       "<div>\n",
       "<style scoped>\n",
       "    .dataframe tbody tr th:only-of-type {\n",
       "        vertical-align: middle;\n",
       "    }\n",
       "\n",
       "    .dataframe tbody tr th {\n",
       "        vertical-align: top;\n",
       "    }\n",
       "\n",
       "    .dataframe thead th {\n",
       "        text-align: right;\n",
       "    }\n",
       "</style>\n",
       "<table border=\"1\" class=\"dataframe\">\n",
       "  <thead>\n",
       "    <tr style=\"text-align: right;\">\n",
       "      <th></th>\n",
       "      <th>value</th>\n",
       "    </tr>\n",
       "    <tr>\n",
       "      <th>timestamp</th>\n",
       "      <th></th>\n",
       "    </tr>\n",
       "  </thead>\n",
       "  <tbody>\n",
       "    <tr>\n",
       "      <th>2014-04-01 00:00:00</th>\n",
       "      <td>18.324919</td>\n",
       "    </tr>\n",
       "    <tr>\n",
       "      <th>2014-04-01 00:05:00</th>\n",
       "      <td>21.970327</td>\n",
       "    </tr>\n",
       "    <tr>\n",
       "      <th>2014-04-01 00:10:00</th>\n",
       "      <td>18.624806</td>\n",
       "    </tr>\n",
       "    <tr>\n",
       "      <th>2014-04-01 00:15:00</th>\n",
       "      <td>21.953684</td>\n",
       "    </tr>\n",
       "    <tr>\n",
       "      <th>2014-04-01 00:20:00</th>\n",
       "      <td>21.909120</td>\n",
       "    </tr>\n",
       "  </tbody>\n",
       "</table>\n",
       "</div>"
      ],
      "text/plain": [
       "                         value\n",
       "timestamp                     \n",
       "2014-04-01 00:00:00  18.324919\n",
       "2014-04-01 00:05:00  21.970327\n",
       "2014-04-01 00:10:00  18.624806\n",
       "2014-04-01 00:15:00  21.953684\n",
       "2014-04-01 00:20:00  21.909120"
      ]
     },
     "execution_count": 9,
     "metadata": {},
     "output_type": "execute_result"
    }
   ],
   "source": [
    "# Print first 5 rows.\n",
    "df_small_noise.head()"
   ]
  },
  {
   "cell_type": "markdown",
   "id": "44f5bfb8",
   "metadata": {},
   "source": [
    "<a id=\"describe\"></a>\n",
    "To check the DataFrame it will be useful to use ``describe()`` method of pandas.\n",
    "The ``describe()`` method returns a description of the data in the DataFrame. If the DataFrame contains numerical data, the description contains this information for each column: **count** - The number of not-empty values. **mean** - The average (mean) value."
   ]
  },
  {
   "cell_type": "code",
   "execution_count": 10,
   "id": "87400518",
   "metadata": {},
   "outputs": [
    {
     "data": {
      "text/html": [
       "<div>\n",
       "<style scoped>\n",
       "    .dataframe tbody tr th:only-of-type {\n",
       "        vertical-align: middle;\n",
       "    }\n",
       "\n",
       "    .dataframe tbody tr th {\n",
       "        vertical-align: top;\n",
       "    }\n",
       "\n",
       "    .dataframe thead th {\n",
       "        text-align: right;\n",
       "    }\n",
       "</style>\n",
       "<table border=\"1\" class=\"dataframe\">\n",
       "  <thead>\n",
       "    <tr style=\"text-align: right;\">\n",
       "      <th></th>\n",
       "      <th>value</th>\n",
       "    </tr>\n",
       "  </thead>\n",
       "  <tbody>\n",
       "    <tr>\n",
       "      <th>count</th>\n",
       "      <td>4032.000000</td>\n",
       "    </tr>\n",
       "    <tr>\n",
       "      <th>mean</th>\n",
       "      <td>42.438353</td>\n",
       "    </tr>\n",
       "    <tr>\n",
       "      <th>std</th>\n",
       "      <td>28.077122</td>\n",
       "    </tr>\n",
       "    <tr>\n",
       "      <th>min</th>\n",
       "      <td>18.000964</td>\n",
       "    </tr>\n",
       "    <tr>\n",
       "      <th>25%</th>\n",
       "      <td>19.841390</td>\n",
       "    </tr>\n",
       "    <tr>\n",
       "      <th>50%</th>\n",
       "      <td>21.608487</td>\n",
       "    </tr>\n",
       "    <tr>\n",
       "      <th>75%</th>\n",
       "      <td>75.450282</td>\n",
       "    </tr>\n",
       "    <tr>\n",
       "      <th>max</th>\n",
       "      <td>87.976128</td>\n",
       "    </tr>\n",
       "  </tbody>\n",
       "</table>\n",
       "</div>"
      ],
      "text/plain": [
       "             value\n",
       "count  4032.000000\n",
       "mean     42.438353\n",
       "std      28.077122\n",
       "min      18.000964\n",
       "25%      19.841390\n",
       "50%      21.608487\n",
       "75%      75.450282\n",
       "max      87.976128"
      ]
     },
     "execution_count": 10,
     "metadata": {},
     "output_type": "execute_result"
    }
   ],
   "source": [
    "# Check the info of dataframe.\n",
    "df_small_noise.describe()"
   ]
  },
  {
   "cell_type": "markdown",
   "id": "bec4850b",
   "metadata": {},
   "source": [
    "The `shape` returns a tuple with the number of rows, and the number of columns for the data in the DataFrame. The `ndim` which gives the number of dimensions in our data."
   ]
  },
  {
   "cell_type": "code",
   "execution_count": 11,
   "id": "21583b7e",
   "metadata": {},
   "outputs": [
    {
     "data": {
      "text/plain": [
       "(4032, 1)"
      ]
     },
     "execution_count": 11,
     "metadata": {},
     "output_type": "execute_result"
    }
   ],
   "source": [
    "# Check rows and columns.\n",
    "df_small_noise.shape"
   ]
  },
  {
   "cell_type": "code",
   "execution_count": 12,
   "id": "732063a2",
   "metadata": {
    "scrolled": true
   },
   "outputs": [
    {
     "data": {
      "text/plain": [
       "2"
      ]
     },
     "execution_count": 12,
     "metadata": {},
     "output_type": "execute_result"
    }
   ],
   "source": [
    "# Check the number of dimensions.\n",
    "df_small_noise.ndim"
   ]
  },
  {
   "cell_type": "markdown",
   "id": "0c6bcca0",
   "metadata": {},
   "source": [
    "The `iloc` indexer is used for integer-location-based indexing/selection by position."
   ]
  },
  {
   "cell_type": "code",
   "execution_count": 13,
   "id": "7d9acfce",
   "metadata": {},
   "outputs": [
    {
     "data": {
      "text/plain": [
       "value    18.324919\n",
       "Name: 2014-04-01 00:00:00, dtype: float64"
      ]
     },
     "execution_count": 13,
     "metadata": {},
     "output_type": "execute_result"
    }
   ],
   "source": [
    "# Check the first element from dataframe.\n",
    "df_small_noise.iloc[0]"
   ]
  },
  {
   "cell_type": "code",
   "execution_count": 14,
   "id": "8372d7a4",
   "metadata": {},
   "outputs": [
    {
     "data": {
      "text/plain": [
       "18.3249185392"
      ]
     },
     "execution_count": 14,
     "metadata": {},
     "output_type": "execute_result"
    }
   ],
   "source": [
    "# Take the first element from 'value' column.\n",
    "df_small_noise.iloc[0]['value']"
   ]
  },
  {
   "cell_type": "code",
   "execution_count": 15,
   "id": "1f644159",
   "metadata": {},
   "outputs": [
    {
     "data": {
      "text/plain": [
       "18.3249185392"
      ]
     },
     "execution_count": 15,
     "metadata": {},
     "output_type": "execute_result"
    }
   ],
   "source": [
    "# Take the first element from the value element.\n",
    "df_small_noise.iloc[0].values[0]"
   ]
  },
  {
   "cell_type": "markdown",
   "id": "a7ac8052",
   "metadata": {},
   "source": [
    "<a id=\"plot\"></a>\n",
    "The `plot()` function is used to draw points in a diagram and, the `plot()` draws a line from point to point by default. The function takes parameters for specifying points in the diagram.We are going to create a plot from our data."
   ]
  },
  {
   "cell_type": "code",
   "execution_count": 16,
   "id": "72658dc4",
   "metadata": {
    "scrolled": false
   },
   "outputs": [
    {
     "data": {
      "image/png": "[encoded data removed]",
      "text/plain": [
       "<Figure size 1152x432 with 1 Axes>"
      ]
     },
     "metadata": {},
     "output_type": "display_data"
    }
   ],
   "source": [
    "# Create a plot and set the size.\n",
    "fig, ax = plt.subplots(figsize=(16,6))\n",
    "\n",
    "# Use pandas to plot data frame.\n",
    "df_small_noise.plot(legend=False, ax=ax);"
   ]
  },
  {
   "cell_type": "markdown",
   "id": "01ea4a35",
   "metadata": {},
   "source": [
    "#### 3.3.2 Anomaly Data <a class=\"anchor\" id=\"Anomaly\"></a>\n",
    "***\n",
    "The next, we take the with-anomaly data and see what it looks like."
   ]
  },
  {
   "cell_type": "code",
   "execution_count": 17,
   "id": "0f7c7306",
   "metadata": {},
   "outputs": [],
   "source": [
    "# Create 'df_daily_jumpsup' variable and take anomalous data.\n",
    "df_daily_jumpsup = pd.read_csv(with_anomaly_url, parse_dates=True, index_col=\"timestamp\")"
   ]
  },
  {
   "cell_type": "code",
   "execution_count": 18,
   "id": "c11b62f7",
   "metadata": {},
   "outputs": [
    {
     "data": {
      "text/html": [
       "<div>\n",
       "<style scoped>\n",
       "    .dataframe tbody tr th:only-of-type {\n",
       "        vertical-align: middle;\n",
       "    }\n",
       "\n",
       "    .dataframe tbody tr th {\n",
       "        vertical-align: top;\n",
       "    }\n",
       "\n",
       "    .dataframe thead th {\n",
       "        text-align: right;\n",
       "    }\n",
       "</style>\n",
       "<table border=\"1\" class=\"dataframe\">\n",
       "  <thead>\n",
       "    <tr style=\"text-align: right;\">\n",
       "      <th></th>\n",
       "      <th>value</th>\n",
       "    </tr>\n",
       "    <tr>\n",
       "      <th>timestamp</th>\n",
       "      <th></th>\n",
       "    </tr>\n",
       "  </thead>\n",
       "  <tbody>\n",
       "    <tr>\n",
       "      <th>2014-04-01 00:00:00</th>\n",
       "      <td>19.761252</td>\n",
       "    </tr>\n",
       "    <tr>\n",
       "      <th>2014-04-01 00:05:00</th>\n",
       "      <td>20.500833</td>\n",
       "    </tr>\n",
       "    <tr>\n",
       "      <th>2014-04-01 00:10:00</th>\n",
       "      <td>19.961641</td>\n",
       "    </tr>\n",
       "    <tr>\n",
       "      <th>2014-04-01 00:15:00</th>\n",
       "      <td>21.490266</td>\n",
       "    </tr>\n",
       "    <tr>\n",
       "      <th>2014-04-01 00:20:00</th>\n",
       "      <td>20.187739</td>\n",
       "    </tr>\n",
       "    <tr>\n",
       "      <th>2014-04-01 00:25:00</th>\n",
       "      <td>19.923126</td>\n",
       "    </tr>\n",
       "    <tr>\n",
       "      <th>2014-04-01 00:30:00</th>\n",
       "      <td>21.698404</td>\n",
       "    </tr>\n",
       "  </tbody>\n",
       "</table>\n",
       "</div>"
      ],
      "text/plain": [
       "                         value\n",
       "timestamp                     \n",
       "2014-04-01 00:00:00  19.761252\n",
       "2014-04-01 00:05:00  20.500833\n",
       "2014-04-01 00:10:00  19.961641\n",
       "2014-04-01 00:15:00  21.490266\n",
       "2014-04-01 00:20:00  20.187739\n",
       "2014-04-01 00:25:00  19.923126\n",
       "2014-04-01 00:30:00  21.698404"
      ]
     },
     "execution_count": 18,
     "metadata": {},
     "output_type": "execute_result"
    }
   ],
   "source": [
    "# Print first 7 rows.\n",
    "df_daily_jumpsup.head(7)"
   ]
  },
  {
   "cell_type": "markdown",
   "id": "c559c8ce",
   "metadata": {},
   "source": [
    "Checking some general information by using the [describe()](#describe) function"
   ]
  },
  {
   "cell_type": "code",
   "execution_count": 19,
   "id": "24617340",
   "metadata": {},
   "outputs": [
    {
     "data": {
      "text/html": [
       "<div>\n",
       "<style scoped>\n",
       "    .dataframe tbody tr th:only-of-type {\n",
       "        vertical-align: middle;\n",
       "    }\n",
       "\n",
       "    .dataframe tbody tr th {\n",
       "        vertical-align: top;\n",
       "    }\n",
       "\n",
       "    .dataframe thead th {\n",
       "        text-align: right;\n",
       "    }\n",
       "</style>\n",
       "<table border=\"1\" class=\"dataframe\">\n",
       "  <thead>\n",
       "    <tr style=\"text-align: right;\">\n",
       "      <th></th>\n",
       "      <th>value</th>\n",
       "    </tr>\n",
       "  </thead>\n",
       "  <tbody>\n",
       "    <tr>\n",
       "      <th>count</th>\n",
       "      <td>4032.000000</td>\n",
       "    </tr>\n",
       "    <tr>\n",
       "      <th>mean</th>\n",
       "      <td>44.494254</td>\n",
       "    </tr>\n",
       "    <tr>\n",
       "      <th>std</th>\n",
       "      <td>32.432473</td>\n",
       "    </tr>\n",
       "    <tr>\n",
       "      <th>min</th>\n",
       "      <td>18.001010</td>\n",
       "    </tr>\n",
       "    <tr>\n",
       "      <th>25%</th>\n",
       "      <td>19.991382</td>\n",
       "    </tr>\n",
       "    <tr>\n",
       "      <th>50%</th>\n",
       "      <td>21.648503</td>\n",
       "    </tr>\n",
       "    <tr>\n",
       "      <th>75%</th>\n",
       "      <td>76.435943</td>\n",
       "    </tr>\n",
       "    <tr>\n",
       "      <th>max</th>\n",
       "      <td>164.947481</td>\n",
       "    </tr>\n",
       "  </tbody>\n",
       "</table>\n",
       "</div>"
      ],
      "text/plain": [
       "             value\n",
       "count  4032.000000\n",
       "mean     44.494254\n",
       "std      32.432473\n",
       "min      18.001010\n",
       "25%      19.991382\n",
       "50%      21.648503\n",
       "75%      76.435943\n",
       "max     164.947481"
      ]
     },
     "execution_count": 19,
     "metadata": {},
     "output_type": "execute_result"
    }
   ],
   "source": [
    "# Check the info of dataframe.\n",
    "df_daily_jumpsup.describe()"
   ]
  },
  {
   "cell_type": "code",
   "execution_count": 20,
   "id": "a58d7511",
   "metadata": {},
   "outputs": [
    {
     "data": {
      "text/plain": [
       "(4032, 1)"
      ]
     },
     "execution_count": 20,
     "metadata": {},
     "output_type": "execute_result"
    }
   ],
   "source": [
    "# Check rows and columns.\n",
    "df_daily_jumpsup.shape"
   ]
  },
  {
   "cell_type": "code",
   "execution_count": 21,
   "id": "e27f29eb",
   "metadata": {},
   "outputs": [
    {
     "data": {
      "text/plain": [
       "19.761251903"
      ]
     },
     "execution_count": 21,
     "metadata": {},
     "output_type": "execute_result"
    }
   ],
   "source": [
    "# Take the first element from 'value' column.\n",
    "df_daily_jumpsup.iloc[0]['value']"
   ]
  },
  {
   "cell_type": "markdown",
   "id": "372179a7",
   "metadata": {},
   "source": [
    "Create the [plot()](#plot) with data that has an anomaly. On this chart, the anomalous peak is very clearly visible, which is between _11_ and _12_ and is twice as high as other waves."
   ]
  },
  {
   "cell_type": "code",
   "execution_count": 22,
   "id": "319c5456",
   "metadata": {},
   "outputs": [
    {
     "data": {
      "image/png": "[encoded data removed]",
      "text/plain": [
       "<Figure size 1152x432 with 1 Axes>"
      ]
     },
     "metadata": {},
     "output_type": "display_data"
    }
   ],
   "source": [
    "# Create a plot and set the size.\n",
    "fig, ax = plt.subplots(figsize=(16,6))\n",
    "\n",
    "# Use pandas to plot data frame.\n",
    "df_daily_jumpsup.plot(legend=False, ax=ax);"
   ]
  },
  {
   "cell_type": "markdown",
   "id": "dd201c11",
   "metadata": {},
   "source": [
    "### 3.4 Prepare training data <a class=\"anchor\" id=\"training_data\"></a>\n",
    "***\n",
    "\n",
    "The data is ready for preprocessing, and this means:$^{[14]}$\n",
    "- Rescaling the data to small values (in general, input values to a neural network should be close to zero -- typically we expect either data with zero-mean and unit-variance, or data in the [0, 1] range\n",
    "\n",
    "The [`DataFrame.mean()`](https://pandas.pydata.org/pandas-docs/stable/reference/api/pandas.DataFrame.mean.html) returns the mean of the values over the requested axis. Also the method returns a scalar value which is the mean value of all the observations in the dataframe and If the method is applied on a pandas dataframe object, then the method returns a pandas series object which contains the mean of the values over the specified axis."
   ]
  },
  {
   "cell_type": "code",
   "execution_count": 23,
   "id": "870f26f6",
   "metadata": {},
   "outputs": [
    {
     "data": {
      "text/plain": [
       "value    42.438353\n",
       "dtype: float64"
      ]
     },
     "execution_count": 23,
     "metadata": {},
     "output_type": "execute_result"
    }
   ],
   "source": [
    "# Get mean of non-anomaly data\n",
    "train_mean = df_small_noise.mean()\n",
    "\n",
    "train_mean"
   ]
  },
  {
   "cell_type": "markdown",
   "id": "81bd9c9d",
   "metadata": {},
   "source": [
    "The `std()` is for calculating the standard deviation of the given set of numbers, DataFrame, column, and rows."
   ]
  },
  {
   "cell_type": "code",
   "execution_count": 24,
   "id": "ea320b51",
   "metadata": {
    "scrolled": true
   },
   "outputs": [
    {
     "data": {
      "text/plain": [
       "value    28.077122\n",
       "dtype: float64"
      ]
     },
     "execution_count": 24,
     "metadata": {},
     "output_type": "execute_result"
    }
   ],
   "source": [
    "# Get the standard deviation of data\n",
    "train_std = df_small_noise.std()\n",
    "\n",
    "train_std"
   ]
  },
  {
   "cell_type": "markdown",
   "id": "20c09be7",
   "metadata": {},
   "source": [
    "Make a calculation to get the number of training samples.\n",
    "For this calculation, we take the value from the dataset, subtract the mean of the dataset and divide it all by the standard deviation of the data"
   ]
  },
  {
   "cell_type": "code",
   "execution_count": 25,
   "id": "af657a3f",
   "metadata": {},
   "outputs": [],
   "source": [
    "# Get the number of training samples\n",
    "df_train_vals = (df_small_noise - train_mean) / train_std"
   ]
  },
  {
   "cell_type": "code",
   "execution_count": 26,
   "id": "b7e4c347",
   "metadata": {
    "scrolled": true
   },
   "outputs": [
    {
     "data": {
      "text/html": [
       "<div>\n",
       "<style scoped>\n",
       "    .dataframe tbody tr th:only-of-type {\n",
       "        vertical-align: middle;\n",
       "    }\n",
       "\n",
       "    .dataframe tbody tr th {\n",
       "        vertical-align: top;\n",
       "    }\n",
       "\n",
       "    .dataframe thead th {\n",
       "        text-align: right;\n",
       "    }\n",
       "</style>\n",
       "<table border=\"1\" class=\"dataframe\">\n",
       "  <thead>\n",
       "    <tr style=\"text-align: right;\">\n",
       "      <th></th>\n",
       "      <th>value</th>\n",
       "    </tr>\n",
       "    <tr>\n",
       "      <th>timestamp</th>\n",
       "      <th></th>\n",
       "    </tr>\n",
       "  </thead>\n",
       "  <tbody>\n",
       "    <tr>\n",
       "      <th>2014-04-01 00:00:00</th>\n",
       "      <td>-0.858829</td>\n",
       "    </tr>\n",
       "    <tr>\n",
       "      <th>2014-04-01 00:05:00</th>\n",
       "      <td>-0.728993</td>\n",
       "    </tr>\n",
       "    <tr>\n",
       "      <th>2014-04-01 00:10:00</th>\n",
       "      <td>-0.848148</td>\n",
       "    </tr>\n",
       "    <tr>\n",
       "      <th>2014-04-01 00:15:00</th>\n",
       "      <td>-0.729586</td>\n",
       "    </tr>\n",
       "    <tr>\n",
       "      <th>2014-04-01 00:20:00</th>\n",
       "      <td>-0.731173</td>\n",
       "    </tr>\n",
       "  </tbody>\n",
       "</table>\n",
       "</div>"
      ],
      "text/plain": [
       "                        value\n",
       "timestamp                    \n",
       "2014-04-01 00:00:00 -0.858829\n",
       "2014-04-01 00:05:00 -0.728993\n",
       "2014-04-01 00:10:00 -0.848148\n",
       "2014-04-01 00:15:00 -0.729586\n",
       "2014-04-01 00:20:00 -0.731173"
      ]
     },
     "execution_count": 26,
     "metadata": {},
     "output_type": "execute_result"
    }
   ],
   "source": [
    "# Check calculated data \n",
    "df_train_vals.head()"
   ]
  },
  {
   "cell_type": "markdown",
   "id": "4daf6076",
   "metadata": {},
   "source": [
    "We do the calculation that was done above in two parts;\n",
    "- the first part, we do the subtraction which is in brackets `(df_small_noise - train_mean)`\n",
    "- the second part we do the division. \n",
    "\n",
    "At the same time add the result to the table with the created a new column."
   ]
  },
  {
   "cell_type": "code",
   "execution_count": 27,
   "id": "35b10621",
   "metadata": {},
   "outputs": [],
   "source": [
    "# Calculate the first part, and create a new 'less_mean' column \n",
    "df_small_noise['less_mean'] = df_small_noise['value'] - df_small_noise['value'].mean()"
   ]
  },
  {
   "cell_type": "code",
   "execution_count": 28,
   "id": "1c3504d7",
   "metadata": {},
   "outputs": [],
   "source": [
    "# Calculate the second part, and create a new 'div_std' column \n",
    "df_small_noise['div_std'] = df_small_noise['less_mean'] / df_small_noise['value'].std()"
   ]
  },
  {
   "cell_type": "code",
   "execution_count": 29,
   "id": "ba9b3068",
   "metadata": {},
   "outputs": [
    {
     "data": {
      "text/html": [
       "<div>\n",
       "<style scoped>\n",
       "    .dataframe tbody tr th:only-of-type {\n",
       "        vertical-align: middle;\n",
       "    }\n",
       "\n",
       "    .dataframe tbody tr th {\n",
       "        vertical-align: top;\n",
       "    }\n",
       "\n",
       "    .dataframe thead th {\n",
       "        text-align: right;\n",
       "    }\n",
       "</style>\n",
       "<table border=\"1\" class=\"dataframe\">\n",
       "  <thead>\n",
       "    <tr style=\"text-align: right;\">\n",
       "      <th></th>\n",
       "      <th>value</th>\n",
       "      <th>less_mean</th>\n",
       "      <th>div_std</th>\n",
       "    </tr>\n",
       "    <tr>\n",
       "      <th>timestamp</th>\n",
       "      <th></th>\n",
       "      <th></th>\n",
       "      <th></th>\n",
       "    </tr>\n",
       "  </thead>\n",
       "  <tbody>\n",
       "    <tr>\n",
       "      <th>2014-04-01 00:00:00</th>\n",
       "      <td>18.324919</td>\n",
       "      <td>-24.113435</td>\n",
       "      <td>-0.858829</td>\n",
       "    </tr>\n",
       "    <tr>\n",
       "      <th>2014-04-01 00:05:00</th>\n",
       "      <td>21.970327</td>\n",
       "      <td>-20.468026</td>\n",
       "      <td>-0.728993</td>\n",
       "    </tr>\n",
       "    <tr>\n",
       "      <th>2014-04-01 00:10:00</th>\n",
       "      <td>18.624806</td>\n",
       "      <td>-23.813547</td>\n",
       "      <td>-0.848148</td>\n",
       "    </tr>\n",
       "    <tr>\n",
       "      <th>2014-04-01 00:15:00</th>\n",
       "      <td>21.953684</td>\n",
       "      <td>-20.484669</td>\n",
       "      <td>-0.729586</td>\n",
       "    </tr>\n",
       "    <tr>\n",
       "      <th>2014-04-01 00:20:00</th>\n",
       "      <td>21.909120</td>\n",
       "      <td>-20.529234</td>\n",
       "      <td>-0.731173</td>\n",
       "    </tr>\n",
       "    <tr>\n",
       "      <th>...</th>\n",
       "      <td>...</td>\n",
       "      <td>...</td>\n",
       "      <td>...</td>\n",
       "    </tr>\n",
       "    <tr>\n",
       "      <th>2014-04-14 23:35:00</th>\n",
       "      <td>20.211195</td>\n",
       "      <td>-22.227159</td>\n",
       "      <td>-0.791647</td>\n",
       "    </tr>\n",
       "    <tr>\n",
       "      <th>2014-04-14 23:40:00</th>\n",
       "      <td>20.531041</td>\n",
       "      <td>-21.907313</td>\n",
       "      <td>-0.780255</td>\n",
       "    </tr>\n",
       "    <tr>\n",
       "      <th>2014-04-14 23:45:00</th>\n",
       "      <td>19.032127</td>\n",
       "      <td>-23.406226</td>\n",
       "      <td>-0.833640</td>\n",
       "    </tr>\n",
       "    <tr>\n",
       "      <th>2014-04-14 23:50:00</th>\n",
       "      <td>21.798801</td>\n",
       "      <td>-20.639552</td>\n",
       "      <td>-0.735102</td>\n",
       "    </tr>\n",
       "    <tr>\n",
       "      <th>2014-04-14 23:55:00</th>\n",
       "      <td>18.682620</td>\n",
       "      <td>-23.755733</td>\n",
       "      <td>-0.846089</td>\n",
       "    </tr>\n",
       "  </tbody>\n",
       "</table>\n",
       "<p>4032 rows × 3 columns</p>\n",
       "</div>"
      ],
      "text/plain": [
       "                         value  less_mean   div_std\n",
       "timestamp                                          \n",
       "2014-04-01 00:00:00  18.324919 -24.113435 -0.858829\n",
       "2014-04-01 00:05:00  21.970327 -20.468026 -0.728993\n",
       "2014-04-01 00:10:00  18.624806 -23.813547 -0.848148\n",
       "2014-04-01 00:15:00  21.953684 -20.484669 -0.729586\n",
       "2014-04-01 00:20:00  21.909120 -20.529234 -0.731173\n",
       "...                        ...        ...       ...\n",
       "2014-04-14 23:35:00  20.211195 -22.227159 -0.791647\n",
       "2014-04-14 23:40:00  20.531041 -21.907313 -0.780255\n",
       "2014-04-14 23:45:00  19.032127 -23.406226 -0.833640\n",
       "2014-04-14 23:50:00  21.798801 -20.639552 -0.735102\n",
       "2014-04-14 23:55:00  18.682620 -23.755733 -0.846089\n",
       "\n",
       "[4032 rows x 3 columns]"
      ]
     },
     "execution_count": 29,
     "metadata": {},
     "output_type": "execute_result"
    }
   ],
   "source": [
    "# Check the dataset with added columns\n",
    "df_small_noise"
   ]
  },
  {
   "cell_type": "code",
   "execution_count": 30,
   "id": "c6fa9e0c",
   "metadata": {},
   "outputs": [
    {
     "data": {
      "text/plain": [
       "(42.43835333580657, 5.018912974813406e-15, 1.691768418476429e-16)"
      ]
     },
     "execution_count": 30,
     "metadata": {},
     "output_type": "execute_result"
    }
   ],
   "source": [
    "# Get mean for all 3 columns\n",
    "df_small_noise['value'].mean(), df_small_noise['less_mean'].mean(), df_small_noise['div_std'].mean()"
   ]
  },
  {
   "cell_type": "code",
   "execution_count": 31,
   "id": "b2c100a0",
   "metadata": {},
   "outputs": [
    {
     "data": {
      "text/plain": [
       "(28.07712228126252, 28.077122281262515, 0.9999999999999999)"
      ]
     },
     "execution_count": 31,
     "metadata": {},
     "output_type": "execute_result"
    }
   ],
   "source": [
    "# Get the standard deviation of data for all 3 columns\n",
    "df_small_noise['value'].std(), df_small_noise['less_mean'].std(), df_small_noise['div_std'].std()"
   ]
  },
  {
   "cell_type": "markdown",
   "id": "105c42d7",
   "metadata": {},
   "source": [
    "Create the [plot()](#plot) with training samples data. "
   ]
  },
  {
   "cell_type": "code",
   "execution_count": 32,
   "id": "ea55eb39",
   "metadata": {},
   "outputs": [
    {
     "data": {
      "image/png": "[encoded data removed]",
      "text/plain": [
       "<Figure size 1152x432 with 1 Axes>"
      ]
     },
     "metadata": {},
     "output_type": "display_data"
    }
   ],
   "source": [
    "# Create a plot and set the size.\n",
    "fig, ax = plt.subplots(figsize=(16,6))\n",
    "\n",
    "# Use pandas to plot data frame.\n",
    "df_train_vals.plot(legend=False, ax=ax);"
   ]
  },
  {
   "cell_type": "code",
   "execution_count": 33,
   "id": "c5b9241c",
   "metadata": {},
   "outputs": [
    {
     "data": {
      "text/plain": [
       "(4032, 1)"
      ]
     },
     "execution_count": 33,
     "metadata": {},
     "output_type": "execute_result"
    }
   ],
   "source": [
    "# Check rows and columns of the training data.\n",
    "df_train_vals.shape\n"
   ]
  },
  {
   "cell_type": "code",
   "execution_count": 34,
   "id": "f86a87aa",
   "metadata": {},
   "outputs": [],
   "source": [
    "# Window size. \n",
    "window_size = 288"
   ]
  },
  {
   "cell_type": "code",
   "execution_count": 35,
   "id": "d00bc909",
   "metadata": {},
   "outputs": [],
   "source": [
    "# Create a function that generates training \n",
    "# sequences for use in the model.\n",
    "def windows(vals, N=window_size):\n",
    "  # Create a list. \n",
    "  L = []\n",
    "  # Loop through the given values.\n",
    "  for i in range(len(vals) - N + 1):\n",
    "    # Add array to the \"L\" list\n",
    "    L.append(vals[i:i+N])\n",
    "  # Stack, the stack() creates a new array \n",
    "#that has 1 more dimension than the input arrays.\n",
    "  return np.stack(L)"
   ]
  },
  {
   "cell_type": "code",
   "execution_count": 36,
   "id": "bf2c57a4",
   "metadata": {},
   "outputs": [],
   "source": [
    "# Run a function to generate training data.\n",
    "x_train = windows(df_train_vals)"
   ]
  },
  {
   "cell_type": "code",
   "execution_count": 37,
   "id": "dc8d4786",
   "metadata": {},
   "outputs": [
    {
     "data": {
      "text/plain": [
       "(array([-0.85882857]), array([-0.8460886]))"
      ]
     },
     "execution_count": 37,
     "metadata": {},
     "output_type": "execute_result"
    }
   ],
   "source": [
    "# Check first and last values of training data by index.\n",
    "x_train[0][0], x_train[-1][-1]"
   ]
  },
  {
   "cell_type": "code",
   "execution_count": 38,
   "id": "782b586a",
   "metadata": {},
   "outputs": [
    {
     "data": {
      "text/plain": [
       "(value   -0.858829\n",
       " Name: 2014-04-01 00:00:00, dtype: float64,\n",
       " value   -0.846089\n",
       " Name: 2014-04-14 23:55:00, dtype: float64)"
      ]
     },
     "execution_count": 38,
     "metadata": {},
     "output_type": "execute_result"
    }
   ],
   "source": [
    "# Check first and last values of training data by iloc.\n",
    "df_train_vals.iloc[0], df_train_vals.iloc[-1]"
   ]
  },
  {
   "cell_type": "code",
   "execution_count": 39,
   "id": "865606ee",
   "metadata": {},
   "outputs": [
    {
     "data": {
      "text/plain": [
       "(3745, 288, 1)"
      ]
     },
     "execution_count": 39,
     "metadata": {},
     "output_type": "execute_result"
    }
   ],
   "source": [
    "# Check how many rows and columns are in the dataframe.\n",
    "x_train.shape"
   ]
  },
  {
   "cell_type": "code",
   "execution_count": 40,
   "id": "8f2ae751",
   "metadata": {},
   "outputs": [
    {
     "data": {
      "text/plain": [
       "array([-0.85882857, -0.72899302, -0.84814772, ..., -0.83364049,\n",
       "       -0.73510213, -0.8460886 ])"
      ]
     },
     "execution_count": 40,
     "metadata": {},
     "output_type": "execute_result"
    }
   ],
   "source": [
    "# Get elements from 'value' column.\n",
    "df_train_vals['value'].values"
   ]
  },
  {
   "cell_type": "code",
   "execution_count": 41,
   "id": "78416b08",
   "metadata": {},
   "outputs": [
    {
     "data": {
      "text/plain": [
       "-0.8588285706437534"
      ]
     },
     "execution_count": 41,
     "metadata": {},
     "output_type": "execute_result"
    }
   ],
   "source": [
    "# Get the first element from 'value' column.\n",
    "df_train_vals['value'].values[0]"
   ]
  },
  {
   "cell_type": "code",
   "execution_count": 42,
   "id": "81da06c8",
   "metadata": {},
   "outputs": [
    {
     "data": {
      "text/plain": [
       "-0.8460885959869234"
      ]
     },
     "execution_count": 42,
     "metadata": {},
     "output_type": "execute_result"
    }
   ],
   "source": [
    "# Get the last element from 'value' column.\n",
    "df_train_vals['value'].values[-1]"
   ]
  },
  {
   "cell_type": "markdown",
   "id": "1c995902",
   "metadata": {},
   "source": [
    "The [`flatten()`](https://numpy.org/doc/stable/reference/generated/numpy.ndarray.flatten.html) returns a copy of the array merged into one dimension."
   ]
  },
  {
   "cell_type": "code",
   "execution_count": 43,
   "id": "eeb64a50",
   "metadata": {},
   "outputs": [
    {
     "data": {
      "text/plain": [
       "array([-0.85882857, -0.72899302, -0.84814772, -0.72958579, -0.731173  ,\n",
       "       -0.75730984, -0.77645641, -0.7880838 , -0.747012  , -0.829166  ,\n",
       "       -0.80377285, -0.7821597 , -0.81182078, -0.80949918, -0.82334701,\n",
       "       -0.79001779, -0.74922405, -0.84169024, -0.73727717, -0.77223023,\n",
       "       -0.75311352, -0.79116337, -0.75934728, -0.86809294, -0.75381057,\n",
       "       -0.86468256, -0.74361965, -0.72908121, -0.82850668, -0.84043795,\n",
       "       -0.76136364, -0.8343536 , -0.74708881, -0.85574949, -0.85245676,\n",
       "       -0.73090636, -0.77440264, -0.74974936, -0.82419543, -0.77402585,\n",
       "       -0.78574242, -0.7844733 , -0.77316412, -0.78843253, -0.80927467,\n",
       "       -0.83109167, -0.76090519, -0.83816509, -0.77176485, -0.83715923,\n",
       "       -0.78131343, -0.76396862, -0.83924191, -0.86186112, -0.85174179,\n",
       "       -0.78406773, -0.74938477, -0.86399047, -0.76581026, -0.82177506,\n",
       "       -0.80222751, -0.73807119, -0.82310669, -0.80410682, -0.86845167,\n",
       "       -0.85877599, -0.83356075, -0.86643297, -0.78045221, -0.8096542 ,\n",
       "       -0.79230956, -0.84551986, -0.82824105, -0.77582935, -0.73287933,\n",
       "       -0.86321832, -0.74355256, -0.7882157 , -0.79006227, -0.79912888,\n",
       "       -0.86051472, -0.85759665, -0.78479216, -0.82182635, -0.73972257,\n",
       "       -0.81247611, -0.84998837, -0.76857869, -0.82860841, -0.79553994,\n",
       "       -0.77098436, -0.74214503, -0.75754161, -0.77404332, -0.77357716,\n",
       "       -0.73564002, -0.82825643, -0.8702425 , -0.83165699, -0.83935909,\n",
       "       -0.77611284, -0.78011937, -0.78585361, -0.86808681, -0.76657575,\n",
       "       -0.82430925, -0.7756539 , -0.79110813,  0.83423034,  0.73340436,\n",
       "        0.71395293,  1.07098925,  1.11307181,  0.98296271,  0.71831972,\n",
       "        0.86295228,  1.02130195,  1.04594803,  0.72548104,  0.66823317,\n",
       "        1.36958529,  1.17305538,  1.11661005,  0.98307138,  1.27459976,\n",
       "        1.44642694,  1.50528567,  1.28866513,  1.26031743,  1.02295817,\n",
       "        1.27933882,  1.18598059,  1.3813925 ,  1.25767699,  1.1736019 ,\n",
       "        1.09127902,  1.21586925,  1.09223039,  1.13768838,  1.59675342,\n",
       "        1.28904484,  1.33876025,  1.53233922,  1.60141677,  1.38146244,\n",
       "        1.51223576,  1.23588256,  1.22381772,  1.2790048 ,  1.43257027,\n",
       "        1.43808241,  1.22922231,  1.12561563,  1.40974009,  1.12283575,\n",
       "        1.37905941,  1.44731563,  1.45141157,  1.48152744,  1.54954504,\n",
       "        1.33709539,  1.46829683,  1.4050141 ,  1.15859057,  1.06689361,\n",
       "        1.21436719,  1.30466379,  1.40383661,  1.53708371,  1.16457702,\n",
       "        1.12429225,  1.60177134,  1.11431721,  1.32540935,  1.38642273,\n",
       "        1.36124227,  1.10177385,  1.08524575,  1.1128578 ,  1.38643638,\n",
       "        1.36304532,  1.18604649,  1.41628631,  1.52016681,  1.07654239,\n",
       "        1.33670957,  1.44565443,  1.19662931,  1.22823281,  1.40253218,\n",
       "        1.56454005,  1.51438674,  1.38516952,  1.46899077,  1.26076513,\n",
       "        1.41812743,  1.31852542,  1.16110478,  1.45275926,  1.36997393,\n",
       "        1.25723151,  1.57220199,  1.06479764,  1.23281399,  1.08528647,\n",
       "        1.48968441,  1.45297419,  1.24169607,  1.43790453,  1.2785004 ,\n",
       "        1.48382995,  1.31169265,  1.28781332,  1.58553613,  1.19583776,\n",
       "        1.12151008, -0.35250349, -0.26479567, -0.39962031, -0.47160544,\n",
       "       -0.40840388, -0.37042247, -0.44883702, -0.33573617, -0.25831579,\n",
       "       -0.38277522, -0.40488824, -0.39440839, -0.77509723, -0.65253443,\n",
       "       -0.72728022, -0.73167631, -0.6882095 , -0.72293893, -0.69003755,\n",
       "       -0.78366561, -0.6636319 , -0.64340272, -0.68995268, -0.64115899,\n",
       "       -0.83292321, -0.78536741, -0.76722084, -0.77014874, -0.79644794,\n",
       "       -0.80569367, -0.83651316, -0.79786583, -0.83128515, -0.74788262,\n",
       "       -0.82454968, -0.84647101, -0.78825327, -0.78211741, -0.74251058,\n",
       "       -0.7847296 , -0.8178686 , -0.75237369, -0.78998354, -0.85597483,\n",
       "       -0.78632299, -0.73734213, -0.81059211, -0.82490508, -0.84932652,\n",
       "       -0.84818912, -0.80807162, -0.78484064, -0.8582896 , -0.73580158,\n",
       "       -0.76210229, -0.78613203, -0.75164888, -0.85835073, -0.80178754,\n",
       "       -0.77993325, -0.75220135, -0.75863962, -0.83079766, -0.73620985,\n",
       "       -0.85255954, -0.74557822, -0.73192653, -0.84503486, -0.76738913,\n",
       "       -0.86453747, -0.81250829, -0.79671155])"
      ]
     },
     "execution_count": 43,
     "metadata": {},
     "output_type": "execute_result"
    }
   ],
   "source": [
    "# Get array in one dimension.\n",
    "x_train[0].flatten()"
   ]
  },
  {
   "cell_type": "code",
   "execution_count": 44,
   "id": "81dde5de",
   "metadata": {},
   "outputs": [
    {
     "data": {
      "image/png": "[encoded data removed]",
      "text/plain": [
       "<Figure size 1152x432 with 1 Axes>"
      ]
     },
     "metadata": {},
     "output_type": "display_data"
    }
   ],
   "source": [
    "# Make a test with different  windows number.\n",
    "\n",
    "# Window size.\n",
    "window_no = 200\n",
    "\n",
    "# Create a plot and set the size.\n",
    "fig, ax = plt.subplots(figsize=(16, 6))\n",
    "\n",
    "# \"y\" values from df_train_vals, take the first 1000 values.\n",
    "y = df_train_vals['value'].values[:1000]\n",
    "\n",
    "# Create a plot with x values by the same interval as the y values.\n",
    "ax.plot(np.arange(y.shape[0]), y, label='signal')\n",
    "\n",
    "# The first window.\n",
    "w = x_train[window_no].flatten()\n",
    "\n",
    "# Create a plot.\n",
    "ax.plot(np.arange(w.shape[0]) + window_no, w, label='window')\n",
    "\n",
    "# \"legend()\" is used to place the legend on the axes.\n",
    "ax.legend();"
   ]
  },
  {
   "cell_type": "markdown",
   "id": "43cac6c9",
   "metadata": {},
   "source": [
    "### 3.5 Neural Network <a class=\"anchor\" id=\"neural_network\"></a>\n",
    "***"
   ]
  },
  {
   "cell_type": "markdown",
   "id": "2b12f9d0",
   "metadata": {},
   "source": [
    "Models in Keras are defined as a sequence of layers.\n",
    "Each neural network is built on the basis of layers. The Layers API offers a complete set of tools for building neural network architectures. The Layers API contains methods for creating individual layers with custom weights and initializers in the Base Layer class.\n"
   ]
  },
  {
   "cell_type": "code",
   "execution_count": 45,
   "id": "c1682336",
   "metadata": {},
   "outputs": [
    {
     "data": {
      "text/plain": [
       "(3745, 288, 1)"
      ]
     },
     "execution_count": 45,
     "metadata": {},
     "output_type": "execute_result"
    }
   ],
   "source": [
    "# Check how many rows and columns are in the dataframe.\n",
    "x_train.shape"
   ]
  },
  {
   "cell_type": "code",
   "execution_count": 46,
   "id": "20936168",
   "metadata": {},
   "outputs": [
    {
     "data": {
      "text/plain": [
       "(288, 1)"
      ]
     },
     "execution_count": 46,
     "metadata": {},
     "output_type": "execute_result"
    }
   ],
   "source": [
    "x_train.shape[1], x_train.shape[2]"
   ]
  },
  {
   "cell_type": "markdown",
   "id": "9f6c0dcf",
   "metadata": {},
   "source": [
    "**Create a Sequential model by passing a list of layers to the Sequential constructor.**\n",
    "\n",
    "[**layers.Input()**](https://keras.io/api/layers/core_layers/input/) is used to instantiate a Keras tensor which allows us to build a Keras model just by knowing the model's input and output.\n",
    "- [Parameters](https://www.tensorflow.org/api_docs/python/tf/keras/Input#args):\n",
    "    - **shape**: A shape tuple (integers), not including the batch size. For instance, shape=(32,) indicates that the expected input will be batches of 32-dimensional vectors. Elements of this tuple can be None; 'None' elements represent dimensions where the shape is not known.\n",
    " \n",
    "[**layers.Conv1D()**](https://www.tensorflow.org/api_docs/python/tf/keras/layers/Conv1D) creates a convolution kernel that is convolved with the layer input over a single spatial (or temporal) dimension to produce a tensor of outputs.\n",
    "- [Parameters](https://www.tensorflow.org/api_docs/python/tf/keras/layers/Conv1D#args):\n",
    "    - **filters**: an integer, the dimensionality of the output space (i.e. the number of output filters in the convolution).\n",
    "    - **kernel_size**: an integer specifying the length of the one-dimensional convolution window.\n",
    "    - **padding**: _\"same\"_ results in padding with zeros evenly to the left/right or up/down of the input such that output has the same height/width dimension as the input.\n",
    "    - **strides**: an integer specifies the stride length of the convolution. \n",
    "    - **activation**: activation function to use. If you don't specify anything, no activation is applied. _\"relu\"_ - applies the rectified linear unit activation function.\n",
    "    \n",
    "[**layers.Dropout()**](https://keras.io/api/layers/regularization_layers/dropout/) layer randomly sets input units to 0 with a frequency of rate at each step during training time, which helps prevent overfitting. \n",
    "- [Parameters](https://www.tensorflow.org/api_docs/python/tf/keras/layers/Dropout#args):\n",
    "    - **rate**: float between 0 and 1. Fraction of the input units to drop.\n",
    "\n",
    "[**layers.Conv1DTranspose()**](https://www.tensorflow.org/api_docs/python/tf/keras/layers/Conv1DTranspose) is used to apply the transposed 1D convolution operation, also known as deconvolution, on data.\n",
    "- [Parameters](https://www.tensorflow.org/api_docs/python/tf/keras/layers/Conv1DTranspose#args):\n",
    "    - **filters**: an integer, the dimensionality of the output space (i.e. the number of output filters in the convolution).\n",
    "    - **kernel_size**: an integer specifying the length of the one-dimensional convolution window.\n",
    "    - **padding**: _\"same\"_ results in padding with zeros evenly to the left/right or up/down of the input such that output has the same height/width dimension as the input.\n",
    "    - **strides**: an integer specifies the stride length of the convolution. \n",
    "    - **activation**: activation function to use. If you don't specify anything, no activation is applied. _\"relu\"_ - applies the rectified linear unit activation function."
   ]
  },
  {
   "cell_type": "code",
   "execution_count": 47,
   "id": "3cf2b07c",
   "metadata": {},
   "outputs": [],
   "source": [
    "# Create layers\n",
    "layers = [\n",
    "  # Create an instance with shape 288, 1\n",
    "  keras.layers.Input(shape=(x_train.shape[1], x_train.shape[2])),\n",
    "  # Create a convolution kernel that is convolved with the layer input\n",
    "    # with filters=32\n",
    "  keras.layers.Conv1D(\n",
    "    filters=32, kernel_size=7, padding=\"same\", strides=2, activation=\"relu\"),\n",
    "  # The percent of nodes (neurons) to drop out is defined by the number. \n",
    "    #The value of 0.2 means 20 percent. \n",
    "  keras.layers.Dropout(rate=0.2),\n",
    "  # Create a convolution kernel that is convolved with the layer input\n",
    "    # with filters=16\n",
    "  keras.layers.Conv1D(\n",
    "    filters=16, kernel_size=7, padding=\"same\", strides=2, activation=\"relu\"),\n",
    "  # Apply the transposed one-dimensional convolution operation.\n",
    "  keras.layers.Conv1DTranspose(\n",
    "    filters=16, kernel_size=7, padding=\"same\", strides=2, activation=\"relu\"),\n",
    "  # The percent of nodes (neurons) to drop out is defined by the number. \n",
    "    #The value of 0.2 means 20 percent. \n",
    "  keras.layers.Dropout(rate=0.2),\n",
    "  # Apply the transposed one-dimensional convolution operation.\n",
    "  keras.layers.Conv1DTranspose(\n",
    "    filters=32, kernel_size=7, padding=\"same\", strides=2, activation=\"relu\"),\n",
    "  # Apply the transposed one-dimensional convolution operation.\n",
    "  keras.layers.Conv1DTranspose(filters=1, kernel_size=7, padding=\"same\"),\n",
    "]"
   ]
  },
  {
   "cell_type": "markdown",
   "id": "82e51420",
   "metadata": {},
   "source": [
    "[**Sequential()**](https://keras.io/guides/sequential_model/) specifies to Keras that we are creating a model sequentially and the output of each layer we add is input to the next layer we specify."
   ]
  },
  {
   "cell_type": "code",
   "execution_count": 76,
   "id": "bc1f3234",
   "metadata": {},
   "outputs": [],
   "source": [
    "# Define Sequential model.\n",
    "model = keras.Sequential(layers)"
   ]
  },
  {
   "cell_type": "markdown",
   "id": "c861d827",
   "metadata": {},
   "source": [
    "[**optimizers.Adam()**](https://www.tensorflow.org/api_docs/python/tf/keras/optimizers/Adam) optimizer that implements the Adam algorithm.\n",
    "Adam is an optimization algorithm that can be used instead of the classical stochastic gradient descent procedure to update network weights iterative based in training data. \n",
    "- [Parameters](https://www.tensorflow.org/api_docs/python/tf/keras/optimizers/Adam#args_1):\n",
    "    - **learning_rate**: floating point value, a schedule that is a _tf.keras.optimizers.schedules.LearningRateSchedule_, or a callable that takes no arguments and returns the actual value to use."
   ]
  },
  {
   "cell_type": "code",
   "execution_count": 49,
   "id": "bc096b66",
   "metadata": {},
   "outputs": [],
   "source": [
    "# Create adaptive learning rate optimizer\n",
    "optimizer = keras.optimizers.Adam(learning_rate=0.001)"
   ]
  },
  {
   "cell_type": "markdown",
   "id": "069212eb",
   "metadata": {},
   "source": [
    "Keras model provides a method, **compile()** to compile the model. [**Compile()**](https://stackoverflow.com/a/47996024) defines the _loss function_, the _optimizer_ and the _metrics_. \n",
    "\n",
    "For the compiling the model we must specify some additional parameters to better evaluate the model and to find the best set of weights to map inputs to outputs.\n"
   ]
  },
  {
   "cell_type": "code",
   "execution_count": 50,
   "id": "ef3ed876",
   "metadata": {},
   "outputs": [],
   "source": [
    "# Compile the model\n",
    "model.compile(optimizer=optimizer, loss=\"mse\")"
   ]
  },
  {
   "cell_type": "markdown",
   "id": "17d70986",
   "metadata": {},
   "source": [
    "[**model.summary()**](https://www.tensorflow.org/js/guide/models_and_layers) to print a useful summary of the model, which includes:\n",
    "- Name and type of all layers in the model.\n",
    "- Output shape for each layer.\n",
    "- Number of weight parameters of each layer.\n",
    "- If the model has general topology (discussed below), the inputs each layer receives\n",
    "- The total number of trainable and non-trainable parameters of the model."
   ]
  },
  {
   "cell_type": "code",
   "execution_count": 51,
   "id": "def35ea7",
   "metadata": {
    "scrolled": true
   },
   "outputs": [
    {
     "name": "stdout",
     "output_type": "stream",
     "text": [
      "Model: \"sequential\"\n",
      "_________________________________________________________________\n",
      " Layer (type)                Output Shape              Param #   \n",
      "=================================================================\n",
      " conv1d (Conv1D)             (None, 144, 32)           256       \n",
      "                                                                 \n",
      " dropout (Dropout)           (None, 144, 32)           0         \n",
      "                                                                 \n",
      " conv1d_1 (Conv1D)           (None, 72, 16)            3600      \n",
      "                                                                 \n",
      " conv1d_transpose (Conv1DTra  (None, 144, 16)          1808      \n",
      " nspose)                                                         \n",
      "                                                                 \n",
      " dropout_1 (Dropout)         (None, 144, 16)           0         \n",
      "                                                                 \n",
      " conv1d_transpose_1 (Conv1DT  (None, 288, 32)          3616      \n",
      " ranspose)                                                       \n",
      "                                                                 \n",
      " conv1d_transpose_2 (Conv1DT  (None, 288, 1)           225       \n",
      " ranspose)                                                       \n",
      "                                                                 \n",
      "=================================================================\n",
      "Total params: 9,505\n",
      "Trainable params: 9,505\n",
      "Non-trainable params: 0\n",
      "_________________________________________________________________\n"
     ]
    }
   ],
   "source": [
    "# Print summary\n",
    "model.summary()"
   ]
  },
  {
   "cell_type": "markdown",
   "id": "ae4e468c",
   "metadata": {},
   "source": [
    "[**model.fit()**](https://github.com/keras-team/keras/tree/v2.11.0/keras/engine/training.py#L1303-L1729) is one of the APIs used to train the model. In contrast, the model is being trained repetitively for the specific number of iterations and epochs specified for the mentioned dataset.\n",
    "\n",
    "- Parameters:\n",
    "    - **x** - _x_train_ : Input data.\n",
    "    - **y** - _x_train_ : Target data.\n",
    "    - **epochs**: It is an integer number where we specify the epochs we must carry out to train the model. Epoch consists of an iteration for x and y data that are mentioned. \n",
    "    - **batch_size**: It is an integer or None, number of samples per gradient update.\n",
    "    - **validation_split**: It is the float value and can be either 1 or 0, which is the specification of a fraction of training data that will be used for validation.\n",
    "    - **callbacks**: It is the list of the instances of callbacks that are implemented during training.\n",
    "        - [**callbacks.EarlyStopping()**](https://keras.io/api/callbacks/early_stopping/): Stop training when a monitored metric has stopped improving.\n",
    "        - Parameters:\n",
    "            - **monitor**: Quantity to be monitored.\n",
    "            - **patience**: Number of epochs with no improvement after which training will be stopped.\n",
    "            - **mode**: In _min_ mode, training will stop when the quantity monitored has stopped decreasing."
   ]
  },
  {
   "cell_type": "code",
   "execution_count": 52,
   "id": "69b2bc89",
   "metadata": {},
   "outputs": [
    {
     "name": "stdout",
     "output_type": "stream",
     "text": [
      "Epoch 1/50\n",
      "27/27 [==============================] - 4s 89ms/step - loss: 0.5248 - val_loss: 0.2167\n",
      "Epoch 2/50\n",
      "27/27 [==============================] - 2s 71ms/step - loss: 0.0982 - val_loss: 0.0523\n",
      "Epoch 3/50\n",
      "27/27 [==============================] - 2s 73ms/step - loss: 0.0563 - val_loss: 0.0360\n",
      "Epoch 4/50\n",
      "27/27 [==============================] - 2s 73ms/step - loss: 0.0463 - val_loss: 0.0292\n",
      "Epoch 5/50\n",
      "27/27 [==============================] - 2s 67ms/step - loss: 0.0397 - val_loss: 0.0248\n",
      "Epoch 6/50\n",
      "27/27 [==============================] - 2s 73ms/step - loss: 0.0349 - val_loss: 0.0227\n",
      "Epoch 7/50\n",
      "27/27 [==============================] - 2s 78ms/step - loss: 0.0315 - val_loss: 0.0213\n",
      "Epoch 8/50\n",
      "27/27 [==============================] - 2s 83ms/step - loss: 0.0291 - val_loss: 0.0198\n",
      "Epoch 9/50\n",
      "27/27 [==============================] - 2s 66ms/step - loss: 0.0272 - val_loss: 0.0196\n",
      "Epoch 10/50\n",
      "27/27 [==============================] - 2s 65ms/step - loss: 0.0256 - val_loss: 0.0204\n",
      "Epoch 11/50\n",
      "27/27 [==============================] - 2s 70ms/step - loss: 0.0242 - val_loss: 0.0192\n",
      "Epoch 12/50\n",
      "27/27 [==============================] - 2s 72ms/step - loss: 0.0230 - val_loss: 0.0210\n",
      "Epoch 13/50\n",
      "27/27 [==============================] - 2s 68ms/step - loss: 0.0219 - val_loss: 0.0181\n",
      "Epoch 14/50\n",
      "27/27 [==============================] - 2s 69ms/step - loss: 0.0210 - val_loss: 0.0200\n",
      "Epoch 15/50\n",
      "27/27 [==============================] - 2s 71ms/step - loss: 0.0202 - val_loss: 0.0197\n",
      "Epoch 16/50\n",
      "27/27 [==============================] - 2s 69ms/step - loss: 0.0195 - val_loss: 0.0191\n",
      "Epoch 17/50\n",
      "27/27 [==============================] - 2s 73ms/step - loss: 0.0189 - val_loss: 0.0206\n",
      "Epoch 18/50\n",
      "27/27 [==============================] - 2s 78ms/step - loss: 0.0183 - val_loss: 0.0206\n"
     ]
    }
   ],
   "source": [
    "#  Train the model with `model.fit()`\n",
    "history = model.fit(\n",
    "    x_train,\n",
    "    x_train,\n",
    "    epochs=50,\n",
    "    batch_size=128,\n",
    "    validation_split=0.1,\n",
    "    callbacks=[\n",
    "        keras.callbacks.EarlyStopping(monitor=\"val_loss\", patience=5, mode=\"min\")\n",
    "    ],\n",
    ")"
   ]
  },
  {
   "cell_type": "markdown",
   "id": "029c056b",
   "metadata": {},
   "source": [
    "### 3.6 Evaluation <a class=\"anchor\" id=\"Evaluation\"></a>\n",
    "***\n",
    "After fitting a model we will to evaluate the model. Here we are using model.evaluate() to evaluate the model and it will give us the loss and the accuracy."
   ]
  },
  {
   "cell_type": "markdown",
   "id": "94dfdc35",
   "metadata": {},
   "source": [
    "The `history.history` returned object holds a record of the _loss values_ and _metric values_ during training:"
   ]
  },
  {
   "cell_type": "code",
   "execution_count": 53,
   "id": "a4690424",
   "metadata": {},
   "outputs": [
    {
     "data": {
      "text/plain": [
       "[0.5247862339019775,\n",
       " 0.09823472797870636,\n",
       " 0.05634193867444992,\n",
       " 0.04631231352686882,\n",
       " 0.03965010866522789,\n",
       " 0.0348568819463253,\n",
       " 0.031487978994846344,\n",
       " 0.029063228517770767,\n",
       " 0.02724931389093399,\n",
       " 0.02560988999903202,\n",
       " 0.02423708513379097,\n",
       " 0.022960154339671135,\n",
       " 0.021922517567873,\n",
       " 0.02103375643491745,\n",
       " 0.02021019347012043,\n",
       " 0.019524672999978065,\n",
       " 0.018868213519454002,\n",
       " 0.018252551555633545]"
      ]
     },
     "execution_count": 53,
     "metadata": {},
     "output_type": "execute_result"
    }
   ],
   "source": [
    "# Check history loss values\n",
    "history.history[\"loss\"]"
   ]
  },
  {
   "cell_type": "code",
   "execution_count": 54,
   "id": "2e9ea039",
   "metadata": {},
   "outputs": [
    {
     "data": {
      "text/plain": [
       "[0.2167268544435501,\n",
       " 0.05227683112025261,\n",
       " 0.036020394414663315,\n",
       " 0.029156649485230446,\n",
       " 0.02479702979326248,\n",
       " 0.022683382034301758,\n",
       " 0.021263325586915016,\n",
       " 0.019750263541936874,\n",
       " 0.019636668264865875,\n",
       " 0.020360872149467468,\n",
       " 0.019206082448363304,\n",
       " 0.020986245945096016,\n",
       " 0.01809781976044178,\n",
       " 0.02001105062663555,\n",
       " 0.019728338345885277,\n",
       " 0.019142089411616325,\n",
       " 0.020550398156046867,\n",
       " 0.020585518330335617]"
      ]
     },
     "execution_count": 54,
     "metadata": {},
     "output_type": "execute_result"
    }
   ],
   "source": [
    "# Check history val_loss values\n",
    "history.history[\"val_loss\"]"
   ]
  },
  {
   "cell_type": "code",
   "execution_count": 55,
   "id": "1ecc56c6",
   "metadata": {},
   "outputs": [
    {
     "name": "stdout",
     "output_type": "stream",
     "text": [
      "30/30 [==============================] - 1s 26ms/step - loss: 0.0214\n",
      "Test loss, Test acc: 0.021390030160546303\n"
     ]
    }
   ],
   "source": [
    "# Evaluate the model on the test data using `evaluate`\n",
    "results = model.evaluate(x_train, x_train, batch_size=128)\n",
    "print(\"Test loss, Test acc:\", results)"
   ]
  },
  {
   "cell_type": "code",
   "execution_count": 56,
   "id": "ada661e2",
   "metadata": {
    "scrolled": false
   },
   "outputs": [
    {
     "data": {
      "image/png": "[encoded data removed]",
      "text/plain": [
       "<Figure size 1152x432 with 1 Axes>"
      ]
     },
     "metadata": {},
     "output_type": "display_data"
    }
   ],
   "source": [
    "# Create a plot and set the size.\n",
    "fig, ax = plt.subplots(figsize=(16, 6))\n",
    "# Create the first (blue) line with loss values.\n",
    "ax.plot(history.history[\"loss\"], label=\"Training Loss\")\n",
    "# Create the second (orange) line with val_loss values.\n",
    "ax.plot(history.history[\"val_loss\"], label=\"Validation Loss\")\n",
    "# \"legend()\" is used to place the legend on the axes.\n",
    "ax.legend();"
   ]
  },
  {
   "cell_type": "markdown",
   "id": "8e332563",
   "metadata": {},
   "source": [
    "[**model.predict()**](https://github.com/keras-team/keras/tree/v2.11.0/keras/engine/training.py#L2172-L2394) generates output predictions for the input samples. _predict()_ helps in strategizing and finalizing the entire model with proper filters that fit well with predict class as per requirement. Prediction is useful in making many models based on classification for efficient analysis. Moreover, it helps in the entire Keras model fabrication and its usage with varied libraries as part of the prediction.\n",
    "\n",
    "- Parameters:\n",
    "    - **x** - _x_train_ : Input samples.\n"
   ]
  },
  {
   "cell_type": "code",
   "execution_count": 57,
   "id": "a1d1518b",
   "metadata": {},
   "outputs": [
    {
     "name": "stdout",
     "output_type": "stream",
     "text": [
      "118/118 [==============================] - 1s 8ms/step\n"
     ]
    }
   ],
   "source": [
    "# Make probability predictions with the model\n",
    "x_train_pred = model.predict(x_train)"
   ]
  },
  {
   "cell_type": "markdown",
   "id": "eae64acb",
   "metadata": {},
   "source": [
    "<a id=\"mae\"></a>\n",
    "**Let's break down piece by piece the calculation method [(MAE)](https://keras.io/api/losses/regression_losses/):**\n",
    "\n",
    "- `np.abs(x_train_pred - x_train)` : Calculates the mean of the absolute difference between labels and predictions.\n",
    "- `axis=1`: The axis along which the cosine similarity is computed (the features axis).\n",
    "- `np.mean()`: Computes the mean absolute error between labels and predictions."
   ]
  },
  {
   "cell_type": "code",
   "execution_count": 58,
   "id": "472ddf46",
   "metadata": {},
   "outputs": [],
   "source": [
    "# Calculate the Mean Absolute Errors (MAE) loss.\n",
    "train_mae_loss = np.mean(np.abs(x_train_pred - x_train), axis=1)"
   ]
  },
  {
   "cell_type": "code",
   "execution_count": 59,
   "id": "d92ae788",
   "metadata": {},
   "outputs": [
    {
     "data": {
      "image/png": "[encoded data removed]",
      "text/plain": [
       "<Figure size 1152x432 with 1 Axes>"
      ]
     },
     "metadata": {},
     "output_type": "display_data"
    }
   ],
   "source": [
    "# Create a plot and set the size.\n",
    "fig, ax = plt.subplots(figsize=(16, 6))\n",
    "# Create a histogram with MAE loss data\n",
    "# with the number of equal-width bins in the range.\n",
    "ax.hist(train_mae_loss, bins=50)\n",
    "# Set x label\n",
    "ax.set_xlabel(\"Train MAE loss\")\n",
    "# Set y label\n",
    "ax.set_ylabel(\"No of samples\");"
   ]
  },
  {
   "cell_type": "code",
   "execution_count": 60,
   "id": "5d8a299b",
   "metadata": {},
   "outputs": [
    {
     "data": {
      "text/plain": [
       "0.11245097094054864"
      ]
     },
     "execution_count": 60,
     "metadata": {},
     "output_type": "execute_result"
    }
   ],
   "source": [
    "# Get reconstruction loss threshold.\n",
    "threshold = np.max(train_mae_loss)\n",
    "\n",
    "# Print the loss threshold\n",
    "threshold"
   ]
  },
  {
   "cell_type": "code",
   "execution_count": 61,
   "id": "ed75b156",
   "metadata": {
    "scrolled": true
   },
   "outputs": [
    {
     "data": {
      "image/png": "[encoded data removed]",
      "text/plain": [
       "<Figure size 1152x432 with 1 Axes>"
      ]
     },
     "metadata": {},
     "output_type": "display_data"
    }
   ],
   "source": [
    "# Create a plot and set the size.\n",
    "fig, ax = plt.subplots(figsize=(16, 6))\n",
    "# Create a plot with training value (blue)\n",
    "ax.plot(x_train[0], label=\"Training value\")\n",
    "# Create a plot with prediction value (orange)\n",
    "ax.plot(x_train_pred[0], label=\"Prediction value\")\n",
    "# \"legend()\" is used to place the legend on the axes.\n",
    "ax.legend();"
   ]
  },
  {
   "cell_type": "markdown",
   "id": "9c44fc88",
   "metadata": {},
   "source": [
    "**The calculation is as follows:**\n",
    "\n",
    "The anomaly data (`df_daily_jumpsup`) subtract the mean of the non-anomaly data (`train_mean`) and all this divides into the standard deviation of data (`train_std`)."
   ]
  },
  {
   "cell_type": "code",
   "execution_count": 62,
   "id": "df5b85ba",
   "metadata": {},
   "outputs": [],
   "source": [
    "# Detect anomalies.\n",
    "df_test_value = (df_daily_jumpsup - train_mean) / train_std"
   ]
  },
  {
   "cell_type": "code",
   "execution_count": 63,
   "id": "cd456afd",
   "metadata": {},
   "outputs": [
    {
     "data": {
      "image/png": "[encoded data removed]",
      "text/plain": [
       "<Figure size 1152x432 with 1 Axes>"
      ]
     },
     "metadata": {},
     "output_type": "display_data"
    }
   ],
   "source": [
    "# Create a plot and set the size.\n",
    "fig, ax = plt.subplots(figsize=(16, 6))\n",
    "\n",
    "# Create a plot with anomalies data\n",
    "df_test_value.plot(legend=False, ax=ax);"
   ]
  },
  {
   "cell_type": "code",
   "execution_count": 64,
   "id": "9608ed9a",
   "metadata": {},
   "outputs": [
    {
     "data": {
      "text/plain": [
       "(3745, 288, 1)"
      ]
     },
     "execution_count": 64,
     "metadata": {},
     "output_type": "execute_result"
    }
   ],
   "source": [
    "# Create sequences from test values.\n",
    "x_test = windows(df_test_value.values)\n",
    "\n",
    "# Print test values\n",
    "x_test.shape"
   ]
  },
  {
   "cell_type": "code",
   "execution_count": 65,
   "id": "e2f45a12",
   "metadata": {},
   "outputs": [
    {
     "name": "stdout",
     "output_type": "stream",
     "text": [
      "118/118 [==============================] - 1s 8ms/step\n"
     ]
    }
   ],
   "source": [
    "# Make probability predictions for the anomalies data\n",
    "x_test_pred = model.predict(x_test)"
   ]
  },
  {
   "cell_type": "markdown",
   "id": "cdb0b973",
   "metadata": {},
   "source": [
    "Calculate the Mean Absolute Errors (MAE) loss for data with anomalies. Explanation of this method [here](#mae)."
   ]
  },
  {
   "cell_type": "code",
   "execution_count": 66,
   "id": "74766f75",
   "metadata": {},
   "outputs": [
    {
     "data": {
      "text/plain": [
       "array([[0.0954365 ],\n",
       "       [0.09530551],\n",
       "       [0.09360322],\n",
       "       ...,\n",
       "       [0.0983496 ],\n",
       "       [0.09702327],\n",
       "       [0.09638708]])"
      ]
     },
     "execution_count": 66,
     "metadata": {},
     "output_type": "execute_result"
    }
   ],
   "source": [
    "# Calculate the Mean Absolute Errors (MAE) loss. \n",
    "test_mae_loss = np.mean(np.abs(x_test_pred - x_test), axis=1)\n",
    "\n",
    "# Print calculated values\n",
    "test_mae_loss"
   ]
  },
  {
   "cell_type": "code",
   "execution_count": 67,
   "id": "04bf761d",
   "metadata": {},
   "outputs": [
    {
     "data": {
      "image/png": "[encoded data removed]",
      "text/plain": [
       "<Figure size 1152x432 with 1 Axes>"
      ]
     },
     "metadata": {},
     "output_type": "display_data"
    }
   ],
   "source": [
    "# Create a plot and set the size.\n",
    "fig, ax = plt.subplots(figsize=(16, 6))\n",
    "\n",
    "# Create a histogram with MAE loss data\n",
    "# with the number of equal-width bins in the range.\n",
    "ax.hist(test_mae_loss, bins=50)\n",
    "\n",
    "# Set x label\n",
    "ax.set_xlabel(\"test MAE loss\")\n",
    "\n",
    "# Set Y label\n",
    "ax.set_ylabel(\"No of samples\");"
   ]
  },
  {
   "cell_type": "code",
   "execution_count": 68,
   "id": "aff13aa4",
   "metadata": {},
   "outputs": [
    {
     "data": {
      "text/plain": [
       "394"
      ]
     },
     "execution_count": 68,
     "metadata": {},
     "output_type": "execute_result"
    }
   ],
   "source": [
    "# Detect all the samples which are anomalies.\n",
    "anomalies = test_mae_loss > threshold\n",
    "\n",
    "# Number of anomalies.\n",
    "np.sum(anomalies)"
   ]
  },
  {
   "cell_type": "code",
   "execution_count": 69,
   "id": "f947f143",
   "metadata": {
    "scrolled": true
   },
   "outputs": [
    {
     "data": {
      "text/plain": [
       "array([2697, 2702, 2703, 2704, 2705, 2706, 2707, 2708, 2709, 2710, 2711,\n",
       "       2712, 2713, 2714, 2715, 2716, 2717, 2718, 2719, 2720, 2721, 2722,\n",
       "       2723, 2724, 2725, 2726, 2727, 2728, 2729, 2730, 2731, 2732, 2733,\n",
       "       2734, 2735, 2736, 2737, 2738, 2739, 2740, 2741, 2742, 2743, 2744,\n",
       "       2745, 2746, 2747, 2748, 2749, 2750, 2751, 2752, 2753, 2754, 2755,\n",
       "       2756, 2757, 2758, 2759, 2760, 2761, 2762, 2763, 2764, 2765, 2766,\n",
       "       2767, 2768, 2769, 2770, 2771, 2772, 2773, 2774, 2775, 2776, 2777,\n",
       "       2778, 2779, 2780, 2781, 2782, 2783, 2784, 2785, 2786, 2787, 2788,\n",
       "       2789, 2790, 2791, 2792, 2793, 2794, 2795, 2796, 2797, 2798, 2799,\n",
       "       2800, 2801, 2802, 2803, 2804, 2805, 2806, 2807, 2808, 2809, 2810,\n",
       "       2811, 2812, 2813, 2814, 2815, 2816, 2817, 2818, 2819, 2820, 2821,\n",
       "       2822, 2823, 2824, 2825, 2826, 2827, 2828, 2829, 2830, 2831, 2832,\n",
       "       2833, 2834, 2835, 2836, 2837, 2838, 2839, 2840, 2841, 2842, 2843,\n",
       "       2844, 2845, 2846, 2847, 2848, 2849, 2850, 2851, 2852, 2853, 2854,\n",
       "       2855, 2856, 2857, 2858, 2859, 2860, 2861, 2862, 2863, 2864, 2865,\n",
       "       2866, 2867, 2868, 2869, 2870, 2871, 2872, 2873, 2874, 2875, 2876,\n",
       "       2877, 2878, 2879, 2880, 2881, 2882, 2883, 2884, 2885, 2886, 2887,\n",
       "       2888, 2889, 2890, 2891, 2892, 2893, 2894, 2895, 2896, 2897, 2898,\n",
       "       2899, 2900, 2901, 2902, 2903, 2904, 2905, 2906, 2907, 2908, 2909,\n",
       "       2910, 2911, 2912, 2913, 2914, 2915, 2916, 2917, 2918, 2919, 2920,\n",
       "       2921, 2922, 2923, 2924, 2925, 2926, 2927, 2928, 2929, 2930, 2931,\n",
       "       2932, 2933, 2934, 2935, 2936, 2937, 2938, 2939, 2940, 2941, 2942,\n",
       "       2943, 2944, 2945, 2946, 2947, 2948, 2949, 2950, 2951, 2952, 2953,\n",
       "       2954, 2955, 2956, 2957, 2958, 2959, 2960, 2961, 2962, 2963, 2964,\n",
       "       2965, 2966, 2967, 2968, 2969, 2970, 2971, 2972, 2973, 2974, 2975,\n",
       "       2976, 2977, 2978, 2979, 2980, 2981, 2982, 2983, 2984, 2985, 2986,\n",
       "       2987, 2988, 2989, 2990, 2991, 2992, 2993, 2994, 2995, 2996, 2997,\n",
       "       2998, 2999, 3000, 3001, 3002, 3003, 3004, 3005, 3006, 3007, 3008,\n",
       "       3009, 3010, 3011, 3012, 3013, 3014, 3015, 3016, 3017, 3018, 3019,\n",
       "       3020, 3021, 3022, 3023, 3024, 3025, 3026, 3027, 3028, 3029, 3030,\n",
       "       3031, 3032, 3033, 3034, 3035, 3036, 3037, 3038, 3039, 3040, 3041,\n",
       "       3042, 3043, 3044, 3045, 3046, 3047, 3048, 3049, 3050, 3051, 3052,\n",
       "       3053, 3054, 3055, 3056, 3057, 3058, 3059, 3060, 3061, 3062, 3063,\n",
       "       3064, 3065, 3066, 3067, 3068, 3069, 3070, 3071, 3072, 3073, 3074,\n",
       "       3075, 3076, 3077, 3078, 3079, 3080, 3081, 3082, 3083, 3084, 3085,\n",
       "       3086, 3087, 3088, 3089, 3090, 3091, 3092, 3093, 3094])"
      ]
     },
     "execution_count": 69,
     "metadata": {},
     "output_type": "execute_result"
    }
   ],
   "source": [
    "# Indices of anomalies\n",
    "np.where(anomalies)[0]"
   ]
  },
  {
   "cell_type": "markdown",
   "id": "546b0d1a",
   "metadata": {},
   "source": [
    "### 3.7 Plot Anomalies <a class=\"anchor\" id=\"Plot_anomalies\"></a>\n",
    "***"
   ]
  },
  {
   "cell_type": "markdown",
   "id": "88e231ca",
   "metadata": {},
   "source": [
    "We now know the samples of the data which are anomalies. With this, we will find the corresponding timestamps from the original test data. \n",
    "\n",
    "We are going to find the range for the loop.\n",
    "- Making a range: remove the steps from the head of the dataFrame and do the same with the tail of the dataFrame. And the loop will go along this range(287, 3745).\n",
    "\n",
    "After that we will use the [`np.all()`](https://numpy.org/doc/stable/reference/generated/numpy.all.html) function tests whether all array elements along the mentioned axis evaluate to True."
   ]
  },
  {
   "cell_type": "code",
   "execution_count": 78,
   "id": "9b4202fb",
   "metadata": {},
   "outputs": [
    {
     "data": {
      "text/plain": [
       "range(287, 3745)"
      ]
     },
     "execution_count": 78,
     "metadata": {},
     "output_type": "execute_result"
    }
   ],
   "source": [
    "# Range \n",
    "range(window_size - 1, len(df_test_value) - window_size + 1)"
   ]
  },
  {
   "cell_type": "code",
   "execution_count": 79,
   "id": "3236aa93",
   "metadata": {},
   "outputs": [
    {
     "data": {
      "text/plain": [
       "True"
      ]
     },
     "execution_count": 79,
     "metadata": {},
     "output_type": "execute_result"
    }
   ],
   "source": [
    "# Test the np.all() function\n",
    "np.all(anomalies[1 - window_size + 1 : 1])"
   ]
  },
  {
   "cell_type": "code",
   "execution_count": 80,
   "id": "f16ad142",
   "metadata": {},
   "outputs": [],
   "source": [
    "# Data i is an anomaly if samples [(i - timesteps + 1) to (i)] are anomalies\n",
    "# Create a list\n",
    "inds = []\n",
    "# Loop in range(287, 3745)\n",
    "for i in range(window_size - 1, len(df_test_value) - window_size + 1):\n",
    "    # Check if all array elements along a given axis evaluate to True.\n",
    "    if np.all(anomalies[i - window_size + 1 : i]):\n",
    "        # Add to the list\n",
    "        inds.append(i)"
   ]
  },
  {
   "cell_type": "code",
   "execution_count": 73,
   "id": "9f4e62ac",
   "metadata": {},
   "outputs": [
    {
     "data": {
      "text/plain": [
       "[2989,\n",
       " 2990,\n",
       " 2991,\n",
       " 2992,\n",
       " 2993,\n",
       " 2994,\n",
       " 2995,\n",
       " 2996,\n",
       " 2997,\n",
       " 2998,\n",
       " 2999,\n",
       " 3000,\n",
       " 3001,\n",
       " 3002,\n",
       " 3003,\n",
       " 3004,\n",
       " 3005,\n",
       " 3006,\n",
       " 3007,\n",
       " 3008,\n",
       " 3009,\n",
       " 3010,\n",
       " 3011,\n",
       " 3012,\n",
       " 3013,\n",
       " 3014,\n",
       " 3015,\n",
       " 3016,\n",
       " 3017,\n",
       " 3018,\n",
       " 3019,\n",
       " 3020,\n",
       " 3021,\n",
       " 3022,\n",
       " 3023,\n",
       " 3024,\n",
       " 3025,\n",
       " 3026,\n",
       " 3027,\n",
       " 3028,\n",
       " 3029,\n",
       " 3030,\n",
       " 3031,\n",
       " 3032,\n",
       " 3033,\n",
       " 3034,\n",
       " 3035,\n",
       " 3036,\n",
       " 3037,\n",
       " 3038,\n",
       " 3039,\n",
       " 3040,\n",
       " 3041,\n",
       " 3042,\n",
       " 3043,\n",
       " 3044,\n",
       " 3045,\n",
       " 3046,\n",
       " 3047,\n",
       " 3048,\n",
       " 3049,\n",
       " 3050,\n",
       " 3051,\n",
       " 3052,\n",
       " 3053,\n",
       " 3054,\n",
       " 3055,\n",
       " 3056,\n",
       " 3057,\n",
       " 3058,\n",
       " 3059,\n",
       " 3060,\n",
       " 3061,\n",
       " 3062,\n",
       " 3063,\n",
       " 3064,\n",
       " 3065,\n",
       " 3066,\n",
       " 3067,\n",
       " 3068,\n",
       " 3069,\n",
       " 3070,\n",
       " 3071,\n",
       " 3072,\n",
       " 3073,\n",
       " 3074,\n",
       " 3075,\n",
       " 3076,\n",
       " 3077,\n",
       " 3078,\n",
       " 3079,\n",
       " 3080,\n",
       " 3081,\n",
       " 3082,\n",
       " 3083,\n",
       " 3084,\n",
       " 3085,\n",
       " 3086,\n",
       " 3087,\n",
       " 3088,\n",
       " 3089,\n",
       " 3090,\n",
       " 3091,\n",
       " 3092,\n",
       " 3093,\n",
       " 3094,\n",
       " 3095]"
      ]
     },
     "execution_count": 73,
     "metadata": {},
     "output_type": "execute_result"
    }
   ],
   "source": [
    "# Check the list \n",
    "inds"
   ]
  },
  {
   "cell_type": "code",
   "execution_count": 74,
   "id": "6cf3bdde",
   "metadata": {
    "scrolled": true
   },
   "outputs": [
    {
     "data": {
      "text/html": [
       "<div>\n",
       "<style scoped>\n",
       "    .dataframe tbody tr th:only-of-type {\n",
       "        vertical-align: middle;\n",
       "    }\n",
       "\n",
       "    .dataframe tbody tr th {\n",
       "        vertical-align: top;\n",
       "    }\n",
       "\n",
       "    .dataframe thead th {\n",
       "        text-align: right;\n",
       "    }\n",
       "</style>\n",
       "<table border=\"1\" class=\"dataframe\">\n",
       "  <thead>\n",
       "    <tr style=\"text-align: right;\">\n",
       "      <th></th>\n",
       "      <th>value</th>\n",
       "    </tr>\n",
       "    <tr>\n",
       "      <th>timestamp</th>\n",
       "      <th></th>\n",
       "    </tr>\n",
       "  </thead>\n",
       "  <tbody>\n",
       "    <tr>\n",
       "      <th>2014-04-11 09:05:00</th>\n",
       "      <td>115.705719</td>\n",
       "    </tr>\n",
       "    <tr>\n",
       "      <th>2014-04-11 09:10:00</th>\n",
       "      <td>122.386410</td>\n",
       "    </tr>\n",
       "    <tr>\n",
       "      <th>2014-04-11 09:15:00</th>\n",
       "      <td>127.261178</td>\n",
       "    </tr>\n",
       "    <tr>\n",
       "      <th>2014-04-11 09:20:00</th>\n",
       "      <td>121.157997</td>\n",
       "    </tr>\n",
       "    <tr>\n",
       "      <th>2014-04-11 09:25:00</th>\n",
       "      <td>120.468468</td>\n",
       "    </tr>\n",
       "    <tr>\n",
       "      <th>...</th>\n",
       "      <td>...</td>\n",
       "    </tr>\n",
       "    <tr>\n",
       "      <th>2014-04-11 17:35:00</th>\n",
       "      <td>151.380135</td>\n",
       "    </tr>\n",
       "    <tr>\n",
       "      <th>2014-04-11 17:40:00</th>\n",
       "      <td>156.009099</td>\n",
       "    </tr>\n",
       "    <tr>\n",
       "      <th>2014-04-11 17:45:00</th>\n",
       "      <td>164.947481</td>\n",
       "    </tr>\n",
       "    <tr>\n",
       "      <th>2014-04-11 17:50:00</th>\n",
       "      <td>145.758267</td>\n",
       "    </tr>\n",
       "    <tr>\n",
       "      <th>2014-04-11 17:55:00</th>\n",
       "      <td>161.890865</td>\n",
       "    </tr>\n",
       "  </tbody>\n",
       "</table>\n",
       "<p>107 rows × 1 columns</p>\n",
       "</div>"
      ],
      "text/plain": [
       "                          value\n",
       "timestamp                      \n",
       "2014-04-11 09:05:00  115.705719\n",
       "2014-04-11 09:10:00  122.386410\n",
       "2014-04-11 09:15:00  127.261178\n",
       "2014-04-11 09:20:00  121.157997\n",
       "2014-04-11 09:25:00  120.468468\n",
       "...                         ...\n",
       "2014-04-11 17:35:00  151.380135\n",
       "2014-04-11 17:40:00  156.009099\n",
       "2014-04-11 17:45:00  164.947481\n",
       "2014-04-11 17:50:00  145.758267\n",
       "2014-04-11 17:55:00  161.890865\n",
       "\n",
       "[107 rows x 1 columns]"
      ]
     },
     "execution_count": 74,
     "metadata": {},
     "output_type": "execute_result"
    }
   ],
   "source": [
    "# Indexing for the \"inds\" list values.\n",
    "df_subset = df_daily_jumpsup.iloc[inds]\n",
    "\n",
    "# Print the dataFrame.\n",
    "df_subset"
   ]
  },
  {
   "cell_type": "code",
   "execution_count": 75,
   "id": "e9b92276",
   "metadata": {},
   "outputs": [
    {
     "data": {
      "image/png": "[encoded data removed]",
      "text/plain": [
       "<Figure size 1152x432 with 1 Axes>"
      ]
     },
     "metadata": {},
     "output_type": "display_data"
    }
   ],
   "source": [
    "# Create a plot and set the size.\n",
    "fig, ax = plt.subplots(figsize=(16, 6))\n",
    "\n",
    "# Create a plot with anomalies data\n",
    "df_daily_jumpsup.plot(legend=False, ax=ax)\n",
    "\n",
    "# Create a plot and highlight the anomaly, \n",
    "# highlight this peak in red.\n",
    "df_subset.plot(legend=False, ax=ax, color=\"r\");"
   ]
  },
  {
   "cell_type": "markdown",
   "id": "0d4e7fb8",
   "metadata": {},
   "source": [
    "## 4.  Conclusion <a class=\"anchor\" id=\"Conclusion\"></a>\n",
    "***\n",
    "\n",
    "In this Jupyter notebook, we covered installing keras in Python and one of the examples from the keras website."
   ]
  },
  {
   "cell_type": "markdown",
   "id": "a293dbf8",
   "metadata": {},
   "source": [
    "## References<a class=\"anchor\" id=\"References\"></a>\n",
    "***\n",
    "[1] https://keras.io/\n",
    "\n",
    "[2] https://keras.io/examples/timeseries/timeseries_anomaly_detection/\n",
    "\n",
    "[3] https://en.wikipedia.org/wiki/Keras\n",
    "\n",
    "[4] https://keras.io/about/\n",
    "\n",
    "[5] https://www.tutorialspoint.com/keras/keras_introduction.htm\n",
    "\n",
    "[6] https://medium.com/@antika.das/keras-models-cnn-functional-vs-sequential-mnist-data-set-d7a19dae9cb7\n",
    "\n",
    "[7] https://www.activestate.com/resources/quick-reads/how-to-install-keras-and-tensorflow/\n",
    "\n",
    "[8] https://valueml.com/anomaly-detection-in-time-series-data-using-keras/\n",
    "\n",
    "[9] https://matplotlib.org/2.0.2/users/pyplot_tutorial.html\n",
    "\n",
    "[10] https://numpy.org/doc/stable/reference/routines.math.html\n",
    "\n",
    "[11] https://pandas.pydata.org/docs/user_guide/10min.html\n",
    "\n",
    "[12] https://seaborn.pydata.org/generated/seaborn.set.html\n",
    "\n",
    "[13] https://pandas.pydata.org/docs/reference/api/pandas.read_csv.html\n",
    "\n",
    "[14] https://keras.io/getting_started/intro_to_keras_for_engineers/\n"
   ]
  },
  {
   "cell_type": "markdown",
   "id": "a3d64276",
   "metadata": {},
   "source": [
    "##### <center><h2 style=\"color: rgb(0, 94, 25);\">End</h2></center>"
   ]
  }
 ],
 "metadata": {
  "kernelspec": {
   "display_name": "Python 3 (ipykernel)",
   "language": "python",
   "name": "python3"
  },
  "language_info": {
   "codemirror_mode": {
    "name": "ipython",
    "version": 3
   },
   "file_extension": ".py",
   "mimetype": "text/x-python",
   "name": "python",
   "nbconvert_exporter": "python",
   "pygments_lexer": "ipython3",
   "version": "3.8.10"
  }
 },
 "nbformat": 4,
 "nbformat_minor": 5
}
