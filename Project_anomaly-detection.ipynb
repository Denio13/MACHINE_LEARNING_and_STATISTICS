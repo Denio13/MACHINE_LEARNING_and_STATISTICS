{
 "cells": [
  {
   "cell_type": "markdown",
   "id": "d9bc6798",
   "metadata": {},
   "source": [
    "<br>\n",
    "\n",
    "<center><img src=\"https://keras.io/img/logo.png\"></center>\n",
    "\n",
    "\n",
    "<br>\n",
    "\n",
    "***\n",
    "<h4 style=\"text-align: left\">Project:</h4>\n",
    "\n",
    "<center><h1 style=\"color: rgb(0, 94, 25);\">Keras</h1></center>\n",
    "\n",
    "***\n",
    "    \n",
    "*__<div style=\"text-align: right\"> Author: Denis Sarf </div>__*\n"
   ]
  },
  {
   "cell_type": "markdown",
   "id": "7cbbb71e",
   "metadata": {},
   "source": [
    "### Table of Contents\n",
    "\n",
    "***\n",
    "* [1.Introduction](#Introduction)\n",
    "* [2. ](#Question_1)\n",
    "* [3. ](#Question_2)\n",
    "* [References](#References)"
   ]
  },
  {
   "cell_type": "markdown",
   "id": "0821cdd4",
   "metadata": {},
   "source": [
    "#### Links to be explored:\n",
    "- https://keras.io/examples/\n",
    "- https://www.analyticsvidhya.com/blog/2021/11/training-neural-network-with-keras-and-basics-of-deep-learning/\n",
    "- https://github.com/keras-team/keras\n",
    "- https://keras.io/api/utils/model_plotting_utils/\n",
    "- https://oindrilasen.com/2021/02/how-to-install-and-import-keras-in-anaconda-jupyter-notebooks/\n",
    "- https://en.wikipedia.org/wiki/Keras\n",
    "- https://keras.io/examples/timeseries/timeseries_anomaly_detection/\n",
    "\n"
   ]
  },
  {
   "cell_type": "code",
   "execution_count": null,
   "id": "7fc0240b",
   "metadata": {},
   "outputs": [],
   "source": []
  },
  {
   "cell_type": "code",
   "execution_count": null,
   "id": "3a4e71ab",
   "metadata": {},
   "outputs": [],
   "source": []
  },
  {
   "cell_type": "code",
   "execution_count": null,
   "id": "1462f33e",
   "metadata": {},
   "outputs": [],
   "source": []
  },
  {
   "cell_type": "code",
   "execution_count": null,
   "id": "2d7d08ae",
   "metadata": {},
   "outputs": [],
   "source": []
  },
  {
   "cell_type": "code",
   "execution_count": null,
   "id": "8d5906a3",
   "metadata": {},
   "outputs": [],
   "source": []
  },
  {
   "cell_type": "code",
   "execution_count": null,
   "id": "60192970",
   "metadata": {},
   "outputs": [],
   "source": []
  },
  {
   "cell_type": "code",
   "execution_count": null,
   "id": "bdcd6eac",
   "metadata": {},
   "outputs": [],
   "source": []
  },
  {
   "cell_type": "code",
   "execution_count": null,
   "id": "24237ca1",
   "metadata": {},
   "outputs": [],
   "source": []
  },
  {
   "cell_type": "code",
   "execution_count": null,
   "id": "3ebd8fe5",
   "metadata": {},
   "outputs": [],
   "source": []
  },
  {
   "cell_type": "code",
   "execution_count": null,
   "id": "32d8da01",
   "metadata": {},
   "outputs": [],
   "source": []
  },
  {
   "cell_type": "code",
   "execution_count": null,
   "id": "7ecefe18",
   "metadata": {},
   "outputs": [],
   "source": []
  },
  {
   "cell_type": "code",
   "execution_count": null,
   "id": "7e97dcd6",
   "metadata": {},
   "outputs": [],
   "source": []
  },
  {
   "cell_type": "code",
   "execution_count": null,
   "id": "13f51368",
   "metadata": {},
   "outputs": [],
   "source": []
  },
  {
   "cell_type": "code",
   "execution_count": null,
   "id": "cb456c39",
   "metadata": {},
   "outputs": [],
   "source": []
  },
  {
   "cell_type": "markdown",
   "id": "673bb108",
   "metadata": {},
   "source": [
    "## References<a class=\"anchor\" id=\"References\"></a>\n",
    "***\n"
   ]
  },
  {
   "cell_type": "markdown",
   "id": "3c127e3e",
   "metadata": {},
   "source": [
    "<center><h2 style=\"color: rgb(0, 94, 25);\">End</h2></center>"
   ]
  }
 ],
 "metadata": {
  "kernelspec": {
   "display_name": "Python 3 (ipykernel)",
   "language": "python",
   "name": "python3"
  },
  "language_info": {
   "codemirror_mode": {
    "name": "ipython",
    "version": 3
   },
   "file_extension": ".py",
   "mimetype": "text/x-python",
   "name": "python",
   "nbconvert_exporter": "python",
   "pygments_lexer": "ipython3",
   "version": "3.8.10"
  }
 },
 "nbformat": 4,
 "nbformat_minor": 5
}
