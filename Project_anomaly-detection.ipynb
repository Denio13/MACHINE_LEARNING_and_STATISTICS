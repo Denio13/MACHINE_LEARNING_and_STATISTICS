{
 "cells": [
  {
   "cell_type": "markdown",
   "id": "124cede0",
   "metadata": {},
   "source": [
    "<br>\n",
    "\n",
    "<center><img src=\"https://keras.io/img/logo.png\"></center>\n",
    "\n",
    "\n",
    "<br>\n",
    "\n",
    "***\n",
    "<h4 style=\"text-align: left\">Project:</h4>\n",
    "\n",
    "<center><h1 style=\"color: rgb(0, 94, 25);\">Keras</h1></center>\n",
    "<center><h2>Timeseries anomaly detection</h2></center>\n",
    "\n",
    "***\n",
    "    \n",
    "*__<div style=\"text-align: right\"> Author: Denis Sarf </div>__*\n"
   ]
  },
  {
   "cell_type": "markdown",
   "id": "4c8a4ff2",
   "metadata": {},
   "source": [
    "### Table of Contents\n",
    "\n",
    "***\n",
    "* [1.Project task](#Project_task)\n",
    "* [2.Introduction](#Introduction)\n",
    "    * [2.1 Overview of Keras](#Overview)\n",
    "    * [2.2 Keras Models](#Models)\n",
    "    * [2.3 Install Keras and Tensorflow](#Installation)\n",
    "* [3. Project Implementation](#Implementation)\n",
    "    * [3.1 Project Introduction](#Pr_Introduction)\n",
    "    * [3.2 Import libraries](#Import)\n",
    "    * [3.3 Load the data](#data)\n",
    "    * [3.4 Import libraries](#Import)\n",
    "* [4. ](#Question_2)\n",
    "* [References](#References)"
   ]
  },
  {
   "cell_type": "markdown",
   "id": "bf54c545",
   "metadata": {},
   "source": [
    "## 1.  Project task <a class=\"anchor\" id=\"Project_task\"></a>\n",
    "***\n",
    "\n",
    "<div class=\"alert alert-info\"><h5>On the keras website$^{[1]}$, there is an example of time-series anomaly detection$^{[2]}$. Re-create this example in a notebook of your own, explaining the concepts.</h5></div>"
   ]
  },
  {
   "cell_type": "markdown",
   "id": "4b4f0064",
   "metadata": {},
   "source": [
    "## 2.  Introduction <a class=\"anchor\" id=\"Introduction\"></a>\n",
    "****\n",
    "### 2.1  Overview of Keras <a class=\"anchor\" id=\"Overview\"></a>"
   ]
  },
  {
   "cell_type": "markdown",
   "id": "e1bf2dcd",
   "metadata": {},
   "source": [
    "**Keras** is an open-source software library that provides a _Python_ interface for artificial neural networks. **Keras** acts as an interface for the _TensorFlow_ library.  As of version 2.4, only  _TensorFlow_ is supported. Designed to enable fast experimentation with deep neural networks, it focuses on being user-friendly, modular, and extensible. It was developed as part of the research effort of project ONEIROS (Open-ended Neuro-Electronic Intelligent Robot Operating System) and its primary author and maintainer is [François Chollet](https://en.wikipedia.org/wiki/Fran%C3%A7ois_Chollet), a Google engineer.\n",
    "**Keras** contains numerous implementations of commonly used neural-network building blocks such as layers, objectives, activation functions, optimizers, and a host of tools to make working with image and text data easier to simplify the coding necessary for writing deep neural network code. \n",
    "**Keras** allows users to productize deep models on smartphones (iOS and Android), on the web, or on the Java Virtual Machine.It also allows use of distributed training of deep-learning models on clusters of Graphics processing units (GPU) and tensor processing units (TPU)$^{[3]}$.\n",
    "\n",
    "**Keras** is$^{[4]}$:\n",
    "- _Simple_ - but not simplistic. Keras reduces developer cognitive load to free you to focus on the parts of the problem that really matter.\n",
    "- _Flexible_ - Keras adopts the principle of progressive disclosure of complexity: simple workflows should be quick and easy, while arbitrarily advanced workflows should be possible via a clear path that builds upon what you've already learned.\n",
    "- _Powerful_ - Keras provides industry-strength performance and scalability: it is used by organizations and companies including _NASA_, _YouTube_, or _Waymo_."
   ]
  },
  {
   "cell_type": "markdown",
   "id": "ae6d1560",
   "metadata": {},
   "source": [
    "**Benefits**$^{[5]}$.\n",
    "Keras is highly powerful and dynamic framework and comes up with the following advantages\n",
    "\n",
    "- Larger community support.\n",
    "\n",
    "- Easy to test.\n",
    "\n",
    "- Keras neural networks are written in _Python_ which makes things simpler.\n",
    "\n",
    "- Keras supports both convolution and recurrent networks.\n",
    "\n",
    "- Deep learning models are discrete components, so that, you can combine into many ways."
   ]
  },
  {
   "cell_type": "markdown",
   "id": "6be4da36",
   "metadata": {},
   "source": [
    "### 2.2  Keras Models <a class=\"anchor\" id=\"Models\"></a>"
   ]
  },
  {
   "cell_type": "markdown",
   "id": "a08949bd",
   "metadata": {},
   "source": [
    "A **Keras** model is a data structure for how we stack the layers of our neural network. We can stack the layers of our neural network in basically three different ways$^{[6]}$: \n",
    "+ [Sequential](https://www.tensorflow.org/guide/keras/sequential_model)\n",
    "+ [Functional](https://www.tensorflow.org/guide/keras/functional) \n",
    "+ [Subclass](https://www.tensorflow.org/guide/keras/custom_layers_and_models)\n",
    "\n",
    "<center><img src=\"https://miro.medium.com/max/720/1*WzwKtnA0LEhiCGdWTTpLaA.webp\"></center>\n",
    "\n",
    "**Sequential Model (API)**: It is based on the concept of a sequence of layers, this is the most notorious and elementary part of Keras. It supports designing models layer-by-layer for complex problems with the limitation that _Sequential API_ doesn’t build models that share layers or exhibit multiple inputs and outputs. A sequential model can be created by simply calling *Sequential()*\n",
    "\n",
    "**Functional API**: It is the most popular method to build Keras models. It can do everything that the *Sequential API* can do. Also, it allows multiple inputs, multiple outputs, branching, and layer sharing. It is a clean and easy-to-use method, and it still allows a good level of customization flexibility. The main idea is that a deep learning model is usually a directed acyclic graph (DAG) of layers. So, the functional API is a way to build layer graphs.\n",
    "\n",
    "**Subclass model**: Inside Keras, the Model class is the root class used to define a model architecture. Since Keras utilizes object-oriented programming, we can actually subclass the Model class and then insert our architecture definition. Model subclassing is for advanced-level developers who need full control over their model, layer, and training process.\n",
    "Model subclassing is fully-customizable and enables you to implement your own custom forward pass of the model.\n",
    "However, this flexibility and customization come at a cost — model subclassing is way harder to utilize than the Sequential API or Functional API and mainly used by researchers."
   ]
  },
  {
   "cell_type": "markdown",
   "id": "d9322a06",
   "metadata": {},
   "source": [
    "### 2.3  Install Keras and Tensorflow$^{[7]}$ <a class=\"anchor\" id=\"Installation\"></a>"
   ]
  },
  {
   "cell_type": "markdown",
   "id": "14c3fa21",
   "metadata": {},
   "source": [
    "Instead of `pip` installing each package separately, the recommended approach is to install **Keras** as part of the **TensorFlow** installation. When you install **TensorFlow 2.0+**, **Keras** will be automatically installed as well.\n",
    "\n",
    "**TensorFlow** can be run on three different processor platforms, the main difference being the speed at which your neural network is trained. Each platform has different hardware requirements and offers different performance:\n",
    "- CPU – any modern computer can run this version, but it offers the slowest training speeds.\n",
    "- TPU – only available currently on Google’s Colaboratory (Colab) platform, Tensor Processing Units (TPUs) offer the highest training speeds.\n",
    "- GPU – most high end computers feature a separate Graphics Processing Unit (GPU) from Nvidia or AMD that offer training speeds much faster than CPUs, but not as fast as TPUs. \n",
    "\n",
    "To install **TensorFlow** we can run the following command:\n",
    "\n",
    "```pip install tensorflow```\n",
    "\n",
    "##### Update Tensorflow and Keras Using Pip\n",
    "\n",
    "Installed **TensorFlow** and **Keras**, they can be updated by running the following command:\n",
    "\n",
    "```pip install -U tensorflow```\n",
    "\n",
    "We can check your **TensorFlow** installation with the following command:"
   ]
  },
  {
   "cell_type": "code",
   "execution_count": 1,
   "id": "f5681183",
   "metadata": {
    "scrolled": true
   },
   "outputs": [
    {
     "name": "stderr",
     "output_type": "stream",
     "text": [
      "2022-12-13 00:56:04.916072: I tensorflow/core/platform/cpu_feature_guard.cc:193] This TensorFlow binary is optimized with oneAPI Deep Neural Network Library (oneDNN) to use the following CPU instructions in performance-critical operations:  AVX2 FMA\n",
      "To enable them in other operations, rebuild TensorFlow with the appropriate compiler flags.\n",
      "2022-12-13 00:56:06.329195: W tensorflow/compiler/xla/stream_executor/platform/default/dso_loader.cc:64] Could not load dynamic library 'libcudart.so.11.0'; dlerror: libcudart.so.11.0: cannot open shared object file: No such file or directory\n",
      "2022-12-13 00:56:06.329510: I tensorflow/compiler/xla/stream_executor/cuda/cudart_stub.cc:29] Ignore above cudart dlerror if you do not have a GPU set up on your machine.\n",
      "2022-12-13 00:56:25.447368: W tensorflow/compiler/xla/stream_executor/platform/default/dso_loader.cc:64] Could not load dynamic library 'libnvinfer.so.7'; dlerror: libnvinfer.so.7: cannot open shared object file: No such file or directory\n",
      "2022-12-13 00:56:25.448632: W tensorflow/compiler/xla/stream_executor/platform/default/dso_loader.cc:64] Could not load dynamic library 'libnvinfer_plugin.so.7'; dlerror: libnvinfer_plugin.so.7: cannot open shared object file: No such file or directory\n",
      "2022-12-13 00:56:25.448922: W tensorflow/compiler/tf2tensorrt/utils/py_utils.cc:38] TF-TRT Warning: Cannot dlopen some TensorRT libraries. If you would like to use Nvidia GPU with TensorRT, please make sure the missing libraries mentioned above are installed properly.\n",
      "/home/denio13/.python-venv/lib/python3.8/site-packages/scipy/__init__.py:146: UserWarning: A NumPy version >=1.16.5 and <1.23.0 is required for this version of SciPy (detected version 1.23.5\n",
      "  warnings.warn(f\"A NumPy version >={np_minversion} and <{np_maxversion}\"\n"
     ]
    },
    {
     "name": "stdout",
     "output_type": "stream",
     "text": [
      "2.11.0\n"
     ]
    }
   ],
   "source": [
    "# Check installed TensorFlow package version.\n",
    "import tensorflow as tf; print(tf.__version__)"
   ]
  },
  {
   "cell_type": "markdown",
   "id": "0b2ed62a",
   "metadata": {},
   "source": [
    "## 3.  Project Implementation <a class=\"anchor\" id=\"Implementation\"></a>\n",
    "***"
   ]
  },
  {
   "cell_type": "markdown",
   "id": "8586c3fd",
   "metadata": {},
   "source": [
    "### 3.1 Project Introduction <a class=\"anchor\" id=\"Pr_Introduction\"></a>\n",
    "***\n",
    "##### Time Series Data\n",
    "Time Series is a sequence of numerical data collected at different points in time in successive order. This is not cross-sectional data. This is an observation of the value of a variable at different times.\n",
    "\n",
    "##### Anomaly Detection in Time Series Data\n",
    "Anomaly Detection in the data mining field is the identification of the data of a variable or events that do not follow a certain pattern. Anomaly detection helps to identify the unexpected behaviour of the data with time so that businesses and companies can make strategies to overcome the situation. It also helps the firms to detect the error that is going to happen at a particular time, or it helps to learn from past histories of data that showed unusual behaviour.\n",
    "Applying machine learning in anomaly detection helps to increase the speed of execution. The machine learning algorithm’s implementation helps companies to find simple and effective approaches for detecting anomalies. Since machine learning algorithms are able to learn from data and make predictions so applying these algorithms in anomaly detection of time series data carries a huge impact on its performance$^{[8]}$."
   ]
  },
  {
   "cell_type": "markdown",
   "id": "4e5af133",
   "metadata": {},
   "source": [
    "### 3.2 Import libraries <a class=\"anchor\" id=\"Import\"></a>\n",
    "\n",
    "After installing TensorFlow and Keras, we need to import the required libraries"
   ]
  },
  {
   "cell_type": "code",
   "execution_count": 2,
   "id": "dc288f39",
   "metadata": {},
   "outputs": [],
   "source": [
    "# Importing the Keras library.\n",
    "import tensorflow.keras as keras"
   ]
  },
  {
   "cell_type": "markdown",
   "id": "e8e1bbcf",
   "metadata": {},
   "source": [
    "`matplotlib.pyplot` is a collection of command style functions that make matplotlib work like _MATLAB_. Each pyplot function makes some change to a figure: e.g., creates a figure, creates a plotting area in a figure, plots some lines in a plotting area, decorates the plot with labels, etc. In `matplotlib.pyplot` various states are preserved across function calls, so that it keeps track of things like the current figure and plotting area, and the plotting functions are directed to the current axes$^{[9]}$."
   ]
  },
  {
   "cell_type": "code",
   "execution_count": 3,
   "id": "25a934ca",
   "metadata": {},
   "outputs": [],
   "source": [
    "# Import the matplotlib.\n",
    "import matplotlib.pyplot as plt"
   ]
  },
  {
   "cell_type": "markdown",
   "id": "555628ea",
   "metadata": {},
   "source": [
    "_NumPy_, which stands for _Numerical Python_, is a scientific computing library built on top of the _Python_ programming language.\n",
    "The most common way to import _NumPy_ into your _Python_ environment is to use the following syntax: `import numpy as np`\n",
    "The as `np` portion of the code then tells _Python_ to give _NumPy_ the alias of `np`. This allows you to use _NumPy_ functions by simply typing `np.function_name` rather than numpy$^{[10]}$."
   ]
  },
  {
   "cell_type": "code",
   "execution_count": 4,
   "id": "8b364e54",
   "metadata": {},
   "outputs": [],
   "source": [
    "# Import the numpy package.\n",
    "import numpy as np"
   ]
  },
  {
   "cell_type": "markdown",
   "id": "70217aa7",
   "metadata": {},
   "source": [
    "_pandas_ is an open source data analysis library built on top of the Python programming language. _pandas_ provides fast, flexible, and expressive data structures designed to make working with \"relational\" or \"labeled\" data simple and intuitive$^{[11]}$.\n",
    "\n",
    "The most common way to import pandas into your Python environment is to use the following syntax:```import pandas as pd```"
   ]
  },
  {
   "cell_type": "code",
   "execution_count": 5,
   "id": "e4c2c81a",
   "metadata": {},
   "outputs": [],
   "source": [
    "# Import pandas.\n",
    "import pandas as pd"
   ]
  },
  {
   "cell_type": "markdown",
   "id": "582bbd12",
   "metadata": {},
   "source": [
    "The main idea of `seaborn` is that it provides high-level commands to create a variety of plot types useful for statistical data exploration, and even some statistical model fitting.\n",
    "\n",
    "The `set_theme()`, which is the preferred interface.\n",
    "\n",
    "**This function may be removed in the future$^{[12]}$.**\n"
   ]
  },
  {
   "cell_type": "code",
   "execution_count": 6,
   "id": "9a9f7cbc",
   "metadata": {},
   "outputs": [],
   "source": [
    "# Import pandas.\n",
    "import seaborn as sns\n",
    "# Set preferred interface.\n",
    "sns.set()"
   ]
  },
  {
   "cell_type": "markdown",
   "id": "5b5f4fa9",
   "metadata": {},
   "source": [
    "### 3.3 Load the data <a class=\"anchor\" id=\"data\"></a>\n",
    "\n",
    "We will use the [Numenta Anomaly Benchmark (NAB)](https://www.kaggle.com/boltzmannbrain/nab) dataset. It provides artificial time series data containing labeled anomalous periods of behavior.\n",
    "NAB is a novel benchmark for evaluating algorithms for anomaly detection in streaming, online applications. It comprises over 50 labelled real-world and artificial time-series data files plus a novel scoring mechanism designed for real-time applications. The data and code are fully open-source, with extensive documentation, and a scoreboard of anomaly detection algorithms: [github.com/numenta/NAB](https://github.com/numenta/NAB)."
   ]
  },
  {
   "cell_type": "code",
   "execution_count": 7,
   "id": "1d8930f3",
   "metadata": {},
   "outputs": [],
   "source": [
    "# The Root of URLs.\n",
    "root_url = 'https://raw.githubusercontent.com/numenta/NAB/master/data/'\n",
    "\n",
    "# Data file without anomaly.\n",
    "no_anomaly_url = root_url + 'artificialNoAnomaly/art_daily_small_noise.csv'\n",
    "\n",
    "# Data file with anomaly.\n",
    "with_anomaly_url = root_url + 'artificialWithAnomaly/art_daily_jumpsup.csv'"
   ]
  },
  {
   "cell_type": "markdown",
   "id": "2992b0b3",
   "metadata": {},
   "source": [
    "###### Non-Anomaly Data <a class=\"anchor\" id=\"Non-Anomaly\"></a>\n",
    "***\n",
    "First, we take the non-anomaly data and see what it looks like.\n",
    "\n",
    "We will use `pd.read_csv`$^{[13]}$ to read a comma-separated values (CSV) file into DataFrame.\n",
    "\n",
    "The CSV files have 2 columns **timestamp** and **value**."
   ]
  },
  {
   "cell_type": "code",
   "execution_count": 8,
   "id": "16c996de",
   "metadata": {},
   "outputs": [],
   "source": [
    "# Get data from CSV file using 'pd.read_csv'. \n",
    "df_small_noise = pd.read_csv(no_anomaly_url, parse_dates=True, index_col=\"timestamp\")"
   ]
  },
  {
   "cell_type": "markdown",
   "id": "0232f266",
   "metadata": {},
   "source": [
    "The `DataFrame.head(n=5)` returns the first `n` rows. This is useful for quick testing if your object has the correct data type in it. If the parameter `n` is not set then it returns by default the first **5** rows"
   ]
  },
  {
   "cell_type": "code",
   "execution_count": 9,
   "id": "5c807611",
   "metadata": {},
   "outputs": [
    {
     "data": {
      "text/html": [
       "<div>\n",
       "<style scoped>\n",
       "    .dataframe tbody tr th:only-of-type {\n",
       "        vertical-align: middle;\n",
       "    }\n",
       "\n",
       "    .dataframe tbody tr th {\n",
       "        vertical-align: top;\n",
       "    }\n",
       "\n",
       "    .dataframe thead th {\n",
       "        text-align: right;\n",
       "    }\n",
       "</style>\n",
       "<table border=\"1\" class=\"dataframe\">\n",
       "  <thead>\n",
       "    <tr style=\"text-align: right;\">\n",
       "      <th></th>\n",
       "      <th>value</th>\n",
       "    </tr>\n",
       "    <tr>\n",
       "      <th>timestamp</th>\n",
       "      <th></th>\n",
       "    </tr>\n",
       "  </thead>\n",
       "  <tbody>\n",
       "    <tr>\n",
       "      <th>2014-04-01 00:00:00</th>\n",
       "      <td>18.324919</td>\n",
       "    </tr>\n",
       "    <tr>\n",
       "      <th>2014-04-01 00:05:00</th>\n",
       "      <td>21.970327</td>\n",
       "    </tr>\n",
       "    <tr>\n",
       "      <th>2014-04-01 00:10:00</th>\n",
       "      <td>18.624806</td>\n",
       "    </tr>\n",
       "    <tr>\n",
       "      <th>2014-04-01 00:15:00</th>\n",
       "      <td>21.953684</td>\n",
       "    </tr>\n",
       "    <tr>\n",
       "      <th>2014-04-01 00:20:00</th>\n",
       "      <td>21.909120</td>\n",
       "    </tr>\n",
       "  </tbody>\n",
       "</table>\n",
       "</div>"
      ],
      "text/plain": [
       "                         value\n",
       "timestamp                     \n",
       "2014-04-01 00:00:00  18.324919\n",
       "2014-04-01 00:05:00  21.970327\n",
       "2014-04-01 00:10:00  18.624806\n",
       "2014-04-01 00:15:00  21.953684\n",
       "2014-04-01 00:20:00  21.909120"
      ]
     },
     "execution_count": 9,
     "metadata": {},
     "output_type": "execute_result"
    }
   ],
   "source": [
    "# Print first 5 rows.\n",
    "df_small_noise.head()"
   ]
  },
  {
   "cell_type": "markdown",
   "id": "44f5bfb8",
   "metadata": {},
   "source": [
    "<a id=\"describe\"></a>\n",
    "To check the DataFrame it will be useful to use ``describe()`` method of pandas.\n",
    "The ``describe()`` method returns a description of the data in the DataFrame. If the DataFrame contains numerical data, the description contains this information for each column: **count** - The number of not-empty values. **mean** - The average (mean) value."
   ]
  },
  {
   "cell_type": "code",
   "execution_count": 10,
   "id": "87400518",
   "metadata": {},
   "outputs": [
    {
     "data": {
      "text/html": [
       "<div>\n",
       "<style scoped>\n",
       "    .dataframe tbody tr th:only-of-type {\n",
       "        vertical-align: middle;\n",
       "    }\n",
       "\n",
       "    .dataframe tbody tr th {\n",
       "        vertical-align: top;\n",
       "    }\n",
       "\n",
       "    .dataframe thead th {\n",
       "        text-align: right;\n",
       "    }\n",
       "</style>\n",
       "<table border=\"1\" class=\"dataframe\">\n",
       "  <thead>\n",
       "    <tr style=\"text-align: right;\">\n",
       "      <th></th>\n",
       "      <th>value</th>\n",
       "    </tr>\n",
       "  </thead>\n",
       "  <tbody>\n",
       "    <tr>\n",
       "      <th>count</th>\n",
       "      <td>4032.000000</td>\n",
       "    </tr>\n",
       "    <tr>\n",
       "      <th>mean</th>\n",
       "      <td>42.438353</td>\n",
       "    </tr>\n",
       "    <tr>\n",
       "      <th>std</th>\n",
       "      <td>28.077122</td>\n",
       "    </tr>\n",
       "    <tr>\n",
       "      <th>min</th>\n",
       "      <td>18.000964</td>\n",
       "    </tr>\n",
       "    <tr>\n",
       "      <th>25%</th>\n",
       "      <td>19.841390</td>\n",
       "    </tr>\n",
       "    <tr>\n",
       "      <th>50%</th>\n",
       "      <td>21.608487</td>\n",
       "    </tr>\n",
       "    <tr>\n",
       "      <th>75%</th>\n",
       "      <td>75.450282</td>\n",
       "    </tr>\n",
       "    <tr>\n",
       "      <th>max</th>\n",
       "      <td>87.976128</td>\n",
       "    </tr>\n",
       "  </tbody>\n",
       "</table>\n",
       "</div>"
      ],
      "text/plain": [
       "             value\n",
       "count  4032.000000\n",
       "mean     42.438353\n",
       "std      28.077122\n",
       "min      18.000964\n",
       "25%      19.841390\n",
       "50%      21.608487\n",
       "75%      75.450282\n",
       "max      87.976128"
      ]
     },
     "execution_count": 10,
     "metadata": {},
     "output_type": "execute_result"
    }
   ],
   "source": [
    "# Check the info of dataframe.\n",
    "df_small_noise.describe()"
   ]
  },
  {
   "cell_type": "markdown",
   "id": "bec4850b",
   "metadata": {},
   "source": [
    "The `shape` returns a tuple with the number of rows, and the number of columns for the data in the DataFrame. The `ndim` which gives the number of dimensions in our data."
   ]
  },
  {
   "cell_type": "code",
   "execution_count": 11,
   "id": "21583b7e",
   "metadata": {},
   "outputs": [
    {
     "data": {
      "text/plain": [
       "(4032, 1)"
      ]
     },
     "execution_count": 11,
     "metadata": {},
     "output_type": "execute_result"
    }
   ],
   "source": [
    "# Check rows and columns.\n",
    "df_small_noise.shape"
   ]
  },
  {
   "cell_type": "code",
   "execution_count": 12,
   "id": "732063a2",
   "metadata": {
    "scrolled": true
   },
   "outputs": [
    {
     "data": {
      "text/plain": [
       "2"
      ]
     },
     "execution_count": 12,
     "metadata": {},
     "output_type": "execute_result"
    }
   ],
   "source": [
    "# Check the number of dimensions.\n",
    "df_small_noise.ndim"
   ]
  },
  {
   "cell_type": "markdown",
   "id": "0c6bcca0",
   "metadata": {},
   "source": [
    "The `iloc` indexer is used for integer-location-based indexing/selection by position."
   ]
  },
  {
   "cell_type": "code",
   "execution_count": 13,
   "id": "7d9acfce",
   "metadata": {},
   "outputs": [
    {
     "data": {
      "text/plain": [
       "value    18.324919\n",
       "Name: 2014-04-01 00:00:00, dtype: float64"
      ]
     },
     "execution_count": 13,
     "metadata": {},
     "output_type": "execute_result"
    }
   ],
   "source": [
    "# Check the first element from dataframe.\n",
    "df_small_noise.iloc[0]"
   ]
  },
  {
   "cell_type": "code",
   "execution_count": 14,
   "id": "8372d7a4",
   "metadata": {},
   "outputs": [
    {
     "data": {
      "text/plain": [
       "18.3249185392"
      ]
     },
     "execution_count": 14,
     "metadata": {},
     "output_type": "execute_result"
    }
   ],
   "source": [
    "# Take the first element from 'value' column.\n",
    "df_small_noise.iloc[0]['value']"
   ]
  },
  {
   "cell_type": "code",
   "execution_count": 15,
   "id": "1f644159",
   "metadata": {},
   "outputs": [
    {
     "data": {
      "text/plain": [
       "18.3249185392"
      ]
     },
     "execution_count": 15,
     "metadata": {},
     "output_type": "execute_result"
    }
   ],
   "source": [
    "# Take the first element from the value element.\n",
    "df_small_noise.iloc[0].values[0]"
   ]
  },
  {
   "cell_type": "markdown",
   "id": "a7ac8052",
   "metadata": {},
   "source": [
    "The `plot()` function is used to draw points in a diagram and, the `plot()` draws a line from point to point by default. The function takes parameters for specifying points in the diagram.We are going to create a plot from our data."
   ]
  },
  {
   "cell_type": "code",
   "execution_count": 16,
   "id": "72658dc4",
   "metadata": {
    "scrolled": false
   },
   "outputs": [
    {
     "data": {
      "image/png": "[encoded data removed]",
      "text/plain": [
       "<Figure size 1008x288 with 1 Axes>"
      ]
     },
     "metadata": {},
     "output_type": "display_data"
    }
   ],
   "source": [
    "# Create a plot and set the size.\n",
    "fig, ax = plt.subplots(figsize=(14,4))\n",
    "\n",
    "# Use pandas to plot data frame.\n",
    "df_small_noise.plot(legend=False, ax=ax);"
   ]
  },
  {
   "cell_type": "markdown",
   "id": "01ea4a35",
   "metadata": {},
   "source": [
    "###### With-Anomaly Data <a class=\"anchor\" id=\"With-Anomaly\"></a>\n",
    "***\n",
    "The next, we take the with-anomaly data and see what it looks like."
   ]
  },
  {
   "cell_type": "code",
   "execution_count": 17,
   "id": "0f7c7306",
   "metadata": {},
   "outputs": [],
   "source": [
    "# Create 'df_daily_jumpsup' variable and take anomalous data.\n",
    "df_daily_jumpsup = pd.read_csv(with_anomaly_url, parse_dates=True, index_col=\"timestamp\")"
   ]
  },
  {
   "cell_type": "code",
   "execution_count": 18,
   "id": "c11b62f7",
   "metadata": {},
   "outputs": [
    {
     "data": {
      "text/html": [
       "<div>\n",
       "<style scoped>\n",
       "    .dataframe tbody tr th:only-of-type {\n",
       "        vertical-align: middle;\n",
       "    }\n",
       "\n",
       "    .dataframe tbody tr th {\n",
       "        vertical-align: top;\n",
       "    }\n",
       "\n",
       "    .dataframe thead th {\n",
       "        text-align: right;\n",
       "    }\n",
       "</style>\n",
       "<table border=\"1\" class=\"dataframe\">\n",
       "  <thead>\n",
       "    <tr style=\"text-align: right;\">\n",
       "      <th></th>\n",
       "      <th>value</th>\n",
       "    </tr>\n",
       "    <tr>\n",
       "      <th>timestamp</th>\n",
       "      <th></th>\n",
       "    </tr>\n",
       "  </thead>\n",
       "  <tbody>\n",
       "    <tr>\n",
       "      <th>2014-04-01 00:00:00</th>\n",
       "      <td>19.761252</td>\n",
       "    </tr>\n",
       "    <tr>\n",
       "      <th>2014-04-01 00:05:00</th>\n",
       "      <td>20.500833</td>\n",
       "    </tr>\n",
       "    <tr>\n",
       "      <th>2014-04-01 00:10:00</th>\n",
       "      <td>19.961641</td>\n",
       "    </tr>\n",
       "    <tr>\n",
       "      <th>2014-04-01 00:15:00</th>\n",
       "      <td>21.490266</td>\n",
       "    </tr>\n",
       "    <tr>\n",
       "      <th>2014-04-01 00:20:00</th>\n",
       "      <td>20.187739</td>\n",
       "    </tr>\n",
       "    <tr>\n",
       "      <th>2014-04-01 00:25:00</th>\n",
       "      <td>19.923126</td>\n",
       "    </tr>\n",
       "    <tr>\n",
       "      <th>2014-04-01 00:30:00</th>\n",
       "      <td>21.698404</td>\n",
       "    </tr>\n",
       "  </tbody>\n",
       "</table>\n",
       "</div>"
      ],
      "text/plain": [
       "                         value\n",
       "timestamp                     \n",
       "2014-04-01 00:00:00  19.761252\n",
       "2014-04-01 00:05:00  20.500833\n",
       "2014-04-01 00:10:00  19.961641\n",
       "2014-04-01 00:15:00  21.490266\n",
       "2014-04-01 00:20:00  20.187739\n",
       "2014-04-01 00:25:00  19.923126\n",
       "2014-04-01 00:30:00  21.698404"
      ]
     },
     "execution_count": 18,
     "metadata": {},
     "output_type": "execute_result"
    }
   ],
   "source": [
    "# Print first 7 rows.\n",
    "df_daily_jumpsup.head(7)"
   ]
  },
  {
   "cell_type": "markdown",
   "id": "c559c8ce",
   "metadata": {},
   "source": [
    "Checking some general information by using the [describe()](#describe) function"
   ]
  },
  {
   "cell_type": "code",
   "execution_count": 19,
   "id": "24617340",
   "metadata": {},
   "outputs": [
    {
     "data": {
      "text/html": [
       "<div>\n",
       "<style scoped>\n",
       "    .dataframe tbody tr th:only-of-type {\n",
       "        vertical-align: middle;\n",
       "    }\n",
       "\n",
       "    .dataframe tbody tr th {\n",
       "        vertical-align: top;\n",
       "    }\n",
       "\n",
       "    .dataframe thead th {\n",
       "        text-align: right;\n",
       "    }\n",
       "</style>\n",
       "<table border=\"1\" class=\"dataframe\">\n",
       "  <thead>\n",
       "    <tr style=\"text-align: right;\">\n",
       "      <th></th>\n",
       "      <th>value</th>\n",
       "    </tr>\n",
       "  </thead>\n",
       "  <tbody>\n",
       "    <tr>\n",
       "      <th>count</th>\n",
       "      <td>4032.000000</td>\n",
       "    </tr>\n",
       "    <tr>\n",
       "      <th>mean</th>\n",
       "      <td>44.494254</td>\n",
       "    </tr>\n",
       "    <tr>\n",
       "      <th>std</th>\n",
       "      <td>32.432473</td>\n",
       "    </tr>\n",
       "    <tr>\n",
       "      <th>min</th>\n",
       "      <td>18.001010</td>\n",
       "    </tr>\n",
       "    <tr>\n",
       "      <th>25%</th>\n",
       "      <td>19.991382</td>\n",
       "    </tr>\n",
       "    <tr>\n",
       "      <th>50%</th>\n",
       "      <td>21.648503</td>\n",
       "    </tr>\n",
       "    <tr>\n",
       "      <th>75%</th>\n",
       "      <td>76.435943</td>\n",
       "    </tr>\n",
       "    <tr>\n",
       "      <th>max</th>\n",
       "      <td>164.947481</td>\n",
       "    </tr>\n",
       "  </tbody>\n",
       "</table>\n",
       "</div>"
      ],
      "text/plain": [
       "             value\n",
       "count  4032.000000\n",
       "mean     44.494254\n",
       "std      32.432473\n",
       "min      18.001010\n",
       "25%      19.991382\n",
       "50%      21.648503\n",
       "75%      76.435943\n",
       "max     164.947481"
      ]
     },
     "execution_count": 19,
     "metadata": {},
     "output_type": "execute_result"
    }
   ],
   "source": [
    "# Check the info of dataframe.\n",
    "df_daily_jumpsup.describe()"
   ]
  },
  {
   "cell_type": "code",
   "execution_count": 20,
   "id": "a58d7511",
   "metadata": {},
   "outputs": [
    {
     "data": {
      "text/plain": [
       "(4032, 1)"
      ]
     },
     "execution_count": 20,
     "metadata": {},
     "output_type": "execute_result"
    }
   ],
   "source": [
    "# Check rows and columns.\n",
    "df_daily_jumpsup.shape"
   ]
  },
  {
   "cell_type": "code",
   "execution_count": 21,
   "id": "e27f29eb",
   "metadata": {},
   "outputs": [
    {
     "data": {
      "text/plain": [
       "19.761251903"
      ]
     },
     "execution_count": 21,
     "metadata": {},
     "output_type": "execute_result"
    }
   ],
   "source": [
    "# Take the first element from 'value' column.\n",
    "df_daily_jumpsup.iloc[0]['value']"
   ]
  },
  {
   "cell_type": "code",
   "execution_count": null,
   "id": "9e91a906",
   "metadata": {},
   "outputs": [],
   "source": []
  },
  {
   "cell_type": "code",
   "execution_count": null,
   "id": "319c5456",
   "metadata": {},
   "outputs": [],
   "source": []
  },
  {
   "cell_type": "code",
   "execution_count": null,
   "id": "01746a0f",
   "metadata": {},
   "outputs": [],
   "source": []
  },
  {
   "cell_type": "code",
   "execution_count": null,
   "id": "22e8b901",
   "metadata": {},
   "outputs": [],
   "source": []
  },
  {
   "cell_type": "markdown",
   "id": "a293dbf8",
   "metadata": {},
   "source": [
    "## References<a class=\"anchor\" id=\"References\"></a>\n",
    "***\n",
    "[1] https://keras.io/\n",
    "\n",
    "[2] https://keras.io/examples/timeseries/timeseries_anomaly_detection/\n",
    "\n",
    "[3] https://en.wikipedia.org/wiki/Keras\n",
    "\n",
    "[4] https://keras.io/about/\n",
    "\n",
    "[5] https://www.tutorialspoint.com/keras/keras_introduction.htm\n",
    "\n",
    "[6] https://medium.com/@antika.das/keras-models-cnn-functional-vs-sequential-mnist-data-set-d7a19dae9cb7\n",
    "\n",
    "[7] https://www.activestate.com/resources/quick-reads/how-to-install-keras-and-tensorflow/\n",
    "\n",
    "[8] https://valueml.com/anomaly-detection-in-time-series-data-using-keras/\n",
    "\n",
    "[9] https://matplotlib.org/2.0.2/users/pyplot_tutorial.html\n",
    "\n",
    "[10] https://numpy.org/doc/stable/reference/routines.math.html\n",
    "\n",
    "[11] https://pandas.pydata.org/docs/user_guide/10min.html\n",
    "\n",
    "[12] https://seaborn.pydata.org/generated/seaborn.set.html\n",
    "\n",
    "[13] https://pandas.pydata.org/docs/reference/api/pandas.read_csv.html\n",
    "\n"
   ]
  },
  {
   "cell_type": "markdown",
   "id": "a3d64276",
   "metadata": {},
   "source": [
    "<center><h2 style=\"color: rgb(0, 94, 25);\">End</h2></center>"
   ]
  }
 ],
 "metadata": {
  "kernelspec": {
   "display_name": "Python 3 (ipykernel)",
   "language": "python",
   "name": "python3"
  },
  "language_info": {
   "codemirror_mode": {
    "name": "ipython",
    "version": 3
   },
   "file_extension": ".py",
   "mimetype": "text/x-python",
   "name": "python",
   "nbconvert_exporter": "python",
   "pygments_lexer": "ipython3",
   "version": "3.8.10"
  }
 },
 "nbformat": 4,
 "nbformat_minor": 5
}
