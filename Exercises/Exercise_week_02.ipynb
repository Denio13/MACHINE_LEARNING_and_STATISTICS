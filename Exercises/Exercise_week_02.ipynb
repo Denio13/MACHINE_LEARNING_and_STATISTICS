{
 "cells": [
  {
   "cell_type": "markdown",
   "id": "2874a619",
   "metadata": {},
   "source": [
    "<center><h2 style=\"color: rgb(94, 3, 0);\">Models</h2></center>"
   ]
  },
  {
   "cell_type": "markdown",
   "id": "92561bd8",
   "metadata": {},
   "source": [
    "### Table of Contents\n",
    "\n",
    "***\n",
    "* [1. Purpose of this part](#Purpose)\n",
    "* [2. Question 1](#Question_1)\n",
    "* [3. Question 2](#Question_2)\n",
    "* [4. Question 3](#Question_3)\n",
    "* [References](#References)"
   ]
  },
  {
   "cell_type": "markdown",
   "id": "8e0f4289",
   "metadata": {},
   "source": [
    "## 1. Purpose of this part <a class=\"anchor\" id=\"Purpose\"></a>\n",
    "***"
   ]
  },
  {
   "cell_type": "markdown",
   "id": "1711f45b",
   "metadata": {},
   "source": [
    "<h5>In this <u>Jupyter notebook</u>, we will learn about mathematical models. Once we get to the end we should be able to:</h5>\n",
    "\n",
    "- Explain what a mathematical model is.\n",
    "- Develop a mathematical model based on data points.\n",
    "- Run code to find the best values for parameters of a model.\n",
    "- Solve a modeling problem analytically."
   ]
  },
  {
   "cell_type": "markdown",
   "id": "9c15878c",
   "metadata": {},
   "source": [
    "#### The Problem \n",
    "***\n",
    "\n",
    "In school, students are taught to draw lines like the following.\n",
    "\n",
    "<h2>$$ y = 2 x + 1$$</h2>\n",
    "\n",
    "They're taught to pick two values for $x$ and calculate the corresponding values for $y$ using the equation.\n",
    "Then they draw a set of axes, plot the points, and then draw a line extending through the two dots on their axes.\n"
   ]
  },
  {
   "cell_type": "markdown",
   "id": "9e418bf4",
   "metadata": {},
   "source": [
    "`matplotlib.pyplot` is a collection of command style functions that make matplotlib work like _MATLAB_. Each pyplot function makes some change to a figure: e.g., creates a figure, creates a plotting area in a figure, plots some lines in a plotting area, decorates the plot with labels, etc. In `matplotlib.pyplot` various states are preserved across function calls, so that it keeps track of things like the current figure and plotting area, and the plotting functions are directed to the current axes$^{[1]}$."
   ]
  },
  {
   "cell_type": "code",
   "execution_count": 1,
   "id": "5434f5ac",
   "metadata": {},
   "outputs": [],
   "source": [
    "# Import matplotlib\n",
    "import matplotlib.pyplot as plt"
   ]
  },
  {
   "cell_type": "markdown",
   "id": "baa1fed3",
   "metadata": {},
   "source": [
    "_NumPy_, which stands for _Numerical Python_, is a scientific computing library built on top of the _Python_ programming language.\n",
    "The most common way to import _NumPy_ into your _Python_ environment is to use the following syntax: `import numpy as np`\n",
    "The as `np` portion of the code then tells _Python_ to give _NumPy_ the alias of `np`. This allows you to use _NumPy_ functions by simply typing `np.function_name` rather than numpy$^{[2]}$."
   ]
  },
  {
   "cell_type": "code",
   "execution_count": 2,
   "id": "36a1d562",
   "metadata": {},
   "outputs": [],
   "source": [
    "# import the numpy package\n",
    "import numpy as np"
   ]
  },
  {
   "cell_type": "code",
   "execution_count": 3,
   "id": "932904fc",
   "metadata": {},
   "outputs": [],
   "source": [
    "# change plot size\n",
    "plt.rcParams['figure.figsize'] = [14, 7]"
   ]
  },
  {
   "cell_type": "code",
   "execution_count": 4,
   "id": "f23ac72f",
   "metadata": {},
   "outputs": [
    {
     "data": {
      "image/png": "[encoded data removed]",
      "text/plain": [
       "<Figure size 1008x504 with 1 Axes>"
      ]
     },
     "metadata": {
      "needs_background": "light"
     },
     "output_type": "display_data"
    }
   ],
   "source": [
    "# Draw some axes.\n",
    "plt.plot([-1, 10], [0, 0], 'k-')\n",
    "plt.plot([0, 0], [-1, 10], 'k-')\n",
    "\n",
    "# Plot the red, blue and green lines.\n",
    "plt.plot([1, 1], [-1, 3], 'b:')\n",
    "plt.plot([-1, 1], [3, 3], 'r:')\n",
    "\n",
    "# Plot the two points (1,3) and (2,5).\n",
    "plt.plot([1, 2], [3, 5], 'ko')\n",
    "# Join them with an (extending) green lines.\n",
    "plt.plot([-1, 10], [-1, 21], 'g-')\n",
    "\n",
    "# Set some reasonable plot limits.\n",
    "plt.xlim([-1, 10])\n",
    "plt.ylim([-1, 10])\n",
    "\n",
    "# Show the plot.\n",
    "plt.show()"
   ]
  },
  {
   "cell_type": "markdown",
   "id": "12e899e1",
   "metadata": {},
   "source": [
    "Simple linear regression is about the opposite problem - what if you have some points and are looking for the equation?\n",
    "\n",
    "It's easy when the points are perfectly on a line already, but usually real-world data has some noise.\n",
    "\n",
    "The data might still look roughly linear, but aren't exactly so."
   ]
  },
  {
   "cell_type": "markdown",
   "id": "8af09554",
   "metadata": {},
   "source": [
    "#### Analysis\n",
    "***\n",
    "\n",
    "I will do some experiment. Just imagine that w is an array containing the weight values and d is the corresponding distance measurements."
   ]
  },
  {
   "cell_type": "code",
   "execution_count": 5,
   "id": "b81b886f",
   "metadata": {},
   "outputs": [],
   "source": [
    "# create 'w' and 'd' arrays\n",
    "w = np.arange(0.0, 41.0, 2.0)\n",
    "d = 5.0 * w + 10.0 + np.random.normal(0.0, 3.0, w.size)"
   ]
  },
  {
   "cell_type": "code",
   "execution_count": 6,
   "id": "b8c52a6b",
   "metadata": {},
   "outputs": [
    {
     "data": {
      "text/plain": [
       "array([ 0.,  2.,  4.,  6.,  8., 10., 12., 14., 16., 18., 20., 22., 24.,\n",
       "       26., 28., 30., 32., 34., 36., 38., 40.])"
      ]
     },
     "execution_count": 6,
     "metadata": {},
     "output_type": "execute_result"
    }
   ],
   "source": [
    "# print the 'w' array\n",
    "w"
   ]
  },
  {
   "cell_type": "code",
   "execution_count": 7,
   "id": "e8a94771",
   "metadata": {},
   "outputs": [
    {
     "data": {
      "text/plain": [
       "array([ 11.42409764,  24.96814833,  30.97247481,  43.31600686,\n",
       "        49.91909323,  62.57615426,  69.45721185,  84.10720038,\n",
       "        90.40518693,  99.42936801, 105.93936228, 118.33430489,\n",
       "       134.05670915, 141.92118763, 148.28046592, 161.71173745,\n",
       "       170.52325106, 178.17702776, 186.01352893, 194.41755388,\n",
       "       211.42767267])"
      ]
     },
     "execution_count": 7,
     "metadata": {},
     "output_type": "execute_result"
    }
   ],
   "source": [
    "# print the 'd' array\n",
    "d"
   ]
  },
  {
   "cell_type": "code",
   "execution_count": 8,
   "id": "02097a2a",
   "metadata": {},
   "outputs": [
    {
     "data": {
      "image/png": "[encoded data removed]",
      "text/plain": [
       "<Figure size 1008x504 with 1 Axes>"
      ]
     },
     "metadata": {
      "needs_background": "light"
     },
     "output_type": "display_data"
    }
   ],
   "source": [
    "# Create the plot.\n",
    "plt.plot(w, d, 'k.')\n",
    "\n",
    "# Set some properties for the plot.\n",
    "plt.xlabel('Weight (KG)')\n",
    "plt.ylabel('Distance (CM)')\n",
    "\n",
    "# Show the plot.\n",
    "plt.show()"
   ]
  },
  {
   "cell_type": "markdown",
   "id": "1be9f790",
   "metadata": {},
   "source": [
    "#### Best fit line\n",
    "***\n",
    "I calculate $m$ and $c$ below."
   ]
  },
  {
   "cell_type": "code",
   "execution_count": 9,
   "id": "199cc3aa",
   "metadata": {},
   "outputs": [
    {
     "name": "stdout",
     "output_type": "stream",
     "text": [
      "m is 4.885508 and c is 12.641168.\n"
     ]
    }
   ],
   "source": [
    "# Calculate the best values for m and c.\n",
    "\n",
    "# First calculate the means (a.k.a. averages) of w and d.\n",
    "w_avg = np.mean(w)\n",
    "d_avg = np.mean(d)\n",
    "\n",
    "# Subtract means from w and d.\n",
    "w_zero = w - w_avg\n",
    "d_zero = d - d_avg\n",
    "\n",
    "# The best m is found by the following calculation.\n",
    "m = np.sum(w_zero * d_zero) / np.sum(w_zero * w_zero)\n",
    "# Use m from above to calculate the best c.\n",
    "c = d_avg - m * w_avg\n",
    "\n",
    "print(\"m is %8.6f and c is %6.6f.\" % (m, c))"
   ]
  },
  {
   "cell_type": "markdown",
   "id": "9a6f41bb",
   "metadata": {},
   "source": [
    "I am going to use the ``polyfit``. It can be used to fit lines in many dimensions."
   ]
  },
  {
   "cell_type": "code",
   "execution_count": 10,
   "id": "12a83e75",
   "metadata": {},
   "outputs": [
    {
     "data": {
      "text/plain": [
       "array([ 4.88550766, 12.64116787])"
      ]
     },
     "execution_count": 10,
     "metadata": {},
     "output_type": "execute_result"
    }
   ],
   "source": [
    "np.polyfit(w, d, 1)"
   ]
  },
  {
   "cell_type": "markdown",
   "id": "15f505c2",
   "metadata": {},
   "source": [
    "#### Minimising the cost\n",
    "\n",
    "We want to calculate values of $m$ and $c$ that give the lowest value for the cost value above.\n",
    "\n",
    "For our given data set we can plot the cost value/function.\n",
    "\n",
    "Recall that the cost is:\n",
    "\n",
    "<h2>$$ Cost(m, c) = \\sum_i (y_i - mx_i - c)^2 $$</h2>\n",
    "\n",
    "This is a function of two variables, $m$ and $c$, so a plot of it is three dimensional."
   ]
  },
  {
   "cell_type": "code",
   "execution_count": 11,
   "id": "1f77bc22",
   "metadata": {},
   "outputs": [],
   "source": [
    "# Calculate the cost\n",
    "cost = lambda m,c: np.sum([(d[i] - m * w[i] - c)**2 for i in range(w.size)])"
   ]
  },
  {
   "cell_type": "code",
   "execution_count": 12,
   "id": "2ca719e2",
   "metadata": {},
   "outputs": [
    {
     "data": {
      "image/png": "[encoded data removed]",
      "text/plain": [
       "<Figure size 1008x504 with 1 Axes>"
      ]
     },
     "metadata": {
      "needs_background": "light"
     },
     "output_type": "display_data"
    }
   ],
   "source": [
    "# Plot the best fit line.\n",
    "plt.plot(w, d, 'k.', label='Original data')\n",
    "plt.plot(w, m * w + c, 'b-', label='Best fit line')\n",
    "\n",
    "# Add axis labels and a legend.\n",
    "plt.xlabel('Weight (KG)')\n",
    "plt.ylabel('Distance (CM)')\n",
    "plt.legend()\n",
    "\n",
    "# Show the plot.\n",
    "plt.show()"
   ]
  },
  {
   "cell_type": "code",
   "execution_count": 13,
   "id": "584527d7",
   "metadata": {},
   "outputs": [
    {
     "name": "stdout",
     "output_type": "stream",
     "text": [
      "Cost with m =  4.89 and c = 12.64:   117.97\n"
     ]
    }
   ],
   "source": [
    "print(\"Cost with m = %5.2f and c = %5.2f: %8.2f\" % (m, c, cost(m, c)))"
   ]
  },
  {
   "cell_type": "markdown",
   "id": "cbb671f9",
   "metadata": {},
   "source": [
    "## 2. Question 1 <a class=\"anchor\" id=\"Question_1\"></a>\n",
    "***\n",
    "\n",
    "<div class=\"alert alert-info\"><h5>Use numpy and matplotlib to plot the absolute value function.\n",
    "\n",
    "Research and explain why the absolute value function is not typically used in fitting straight lines to data.</h5></div>"
   ]
  },
  {
   "cell_type": "markdown",
   "id": "87924afc",
   "metadata": {},
   "source": [
    "<h3>Absolute Value Function</h3>\n",
    "\n",
    "***\n",
    "\n",
    "An absolute value function is a function in algebra where the variable is inside the absolute value bars. This function is also known as the modulus function and the most commonly used form of the absolute value function is f(x) = |x|, where x is a real number. Generally, we can represent the absolute value function as, $$f(x) = a |x - h| + k$$ where a represents how far the graph stretches vertically, h represents the horizontal shift and k represents the vertical shift from the graph of $$f(x) = |x|$$ If the value of **'a'** is negative, the graph opens downwards and if it is positive, the graph opens upwards."
   ]
  },
  {
   "cell_type": "markdown",
   "id": "a2095799",
   "metadata": {},
   "source": [
    "_**random**_ — Generate pseudo-random numbers$^{[3]}$\n",
    "\n",
    "`random.randrange(start, stop[, step])` - Function for integers"
   ]
  },
  {
   "cell_type": "code",
   "execution_count": 14,
   "id": "f0e0afa3",
   "metadata": {},
   "outputs": [],
   "source": [
    "# import the random package\n",
    "import random"
   ]
  },
  {
   "cell_type": "code",
   "execution_count": 15,
   "id": "5662e157",
   "metadata": {},
   "outputs": [
    {
     "data": {
      "text/plain": [
       "-16"
      ]
     },
     "execution_count": 15,
     "metadata": {},
     "output_type": "execute_result"
    }
   ],
   "source": [
    "# Generate a random negative number\n",
    "number = random.randrange(-30, 0)\n",
    "# print the 'number'\n",
    "number"
   ]
  },
  {
   "cell_type": "code",
   "execution_count": 16,
   "id": "d3d40070",
   "metadata": {},
   "outputs": [],
   "source": [
    "# import the numpy package\n",
    "import numpy as np"
   ]
  },
  {
   "cell_type": "markdown",
   "id": "8810719c",
   "metadata": {},
   "source": [
    "`np.absolute()` - Calculate the absolute value element$^{[4]}$"
   ]
  },
  {
   "cell_type": "code",
   "execution_count": 17,
   "id": "2b242721",
   "metadata": {},
   "outputs": [
    {
     "data": {
      "text/plain": [
       "16"
      ]
     },
     "execution_count": 17,
     "metadata": {},
     "output_type": "execute_result"
    }
   ],
   "source": [
    "# Get the absolute value of the 'number'\n",
    "abs_number = np.absolute(number)\n",
    "# print the 'abs_number'\n",
    "abs_number"
   ]
  },
  {
   "cell_type": "code",
   "execution_count": 18,
   "id": "4e705242",
   "metadata": {},
   "outputs": [
    {
     "name": "stdout",
     "output_type": "stream",
     "text": [
      "Created a negative number is [-16] and the absolute value of that number is [16].\n"
     ]
    }
   ],
   "source": [
    "print(f'Created a negative number is [{number}] and the absolute value of that number is [{abs_number}].')"
   ]
  },
  {
   "cell_type": "code",
   "execution_count": 19,
   "id": "6acccd72",
   "metadata": {},
   "outputs": [
    {
     "data": {
      "text/plain": [
       "array([11, 97,  1,  3, 32, 33])"
      ]
     },
     "execution_count": 19,
     "metadata": {},
     "output_type": "execute_result"
    }
   ],
   "source": [
    "# Get the absolute values of multiple elements of 1-d array\n",
    "array = [11, -97, 1, -3, -32, 33]\n",
    "abs_array = np.absolute(array)\n",
    "\n",
    "# print the 'abs_array'\n",
    "abs_array"
   ]
  },
  {
   "cell_type": "code",
   "execution_count": 20,
   "id": "85e15390",
   "metadata": {},
   "outputs": [
    {
     "data": {
      "text/plain": [
       "array([[12, 18,  3, 54],\n",
       "       [ 9,  4, 12, 16],\n",
       "       [ 3,  4,  2,  6]])"
      ]
     },
     "execution_count": 20,
     "metadata": {},
     "output_type": "execute_result"
    }
   ],
   "source": [
    "# Get the absolute values of 2-D array elements\n",
    "array_1 = np.array([[-12, 18, -3, 54], \n",
    "                   [9, -4, -12, 16],\n",
    "                  [-3, 4, -2, 6]])\n",
    "abs_array_1 = np.absolute(array_1)\n",
    "\n",
    "# print the 'abs_array_1'\n",
    "abs_array_1"
   ]
  },
  {
   "cell_type": "code",
   "execution_count": 21,
   "id": "ccb004ec",
   "metadata": {},
   "outputs": [
    {
     "data": {
      "text/plain": [
       "array([ 1.7 , 28.6 ,  0.1 , 18.7 ,  1.25, 13.8 ,  0.  ,  0.33])"
      ]
     },
     "execution_count": 21,
     "metadata": {},
     "output_type": "execute_result"
    }
   ],
   "source": [
    "# Get the absolute values of floating point\n",
    "array_2 = [-1.7, 28.6, -0.1, 18.7, -1.25, -13.8, 0, -0.33]\n",
    "abs_array_2 = np.absolute(array_2)\n",
    "\n",
    "# print the 'abs_array_2'\n",
    "abs_array_2"
   ]
  },
  {
   "cell_type": "markdown",
   "id": "19c7549f",
   "metadata": {},
   "source": [
    "#### Create plots of the Absolute Value Function\n",
    "***"
   ]
  },
  {
   "cell_type": "code",
   "execution_count": 22,
   "id": "0f232e1d",
   "metadata": {},
   "outputs": [
    {
     "name": "stdout",
     "output_type": "stream",
     "text": [
      "[-30.         -28.57142857 -27.14285714 -25.71428571 -24.28571429\n",
      " -22.85714286 -21.42857143 -20.         -18.57142857 -17.14285714\n",
      " -15.71428571 -14.28571429 -12.85714286 -11.42857143 -10.\n",
      "  -8.57142857  -7.14285714  -5.71428571  -4.28571429  -2.85714286\n",
      "  -1.42857143   0.           1.42857143   2.85714286   4.28571429\n",
      "   5.71428571   7.14285714   8.57142857  10.          11.42857143\n",
      "  12.85714286  14.28571429  15.71428571  17.14285714  18.57142857\n",
      "  20.          21.42857143  22.85714286  24.28571429  25.71428571\n",
      "  27.14285714  28.57142857  30.          31.42857143  32.85714286\n",
      "  34.28571429  35.71428571  37.14285714  38.57142857  40.        ]\n"
     ]
    },
    {
     "data": {
      "text/plain": [
       "array([30.        , 28.57142857, 27.14285714, 25.71428571, 24.28571429,\n",
       "       22.85714286, 21.42857143, 20.        , 18.57142857, 17.14285714,\n",
       "       15.71428571, 14.28571429, 12.85714286, 11.42857143, 10.        ,\n",
       "        8.57142857,  7.14285714,  5.71428571,  4.28571429,  2.85714286,\n",
       "        1.42857143,  0.        ,  1.42857143,  2.85714286,  4.28571429,\n",
       "        5.71428571,  7.14285714,  8.57142857, 10.        , 11.42857143,\n",
       "       12.85714286, 14.28571429, 15.71428571, 17.14285714, 18.57142857,\n",
       "       20.        , 21.42857143, 22.85714286, 24.28571429, 25.71428571,\n",
       "       27.14285714, 28.57142857, 30.        , 31.42857143, 32.85714286,\n",
       "       34.28571429, 35.71428571, 37.14285714, 38.57142857, 40.        ])"
      ]
     },
     "execution_count": 22,
     "metadata": {},
     "output_type": "execute_result"
    }
   ],
   "source": [
    "# Generate an array of 50 numbers from - 30 to 40\n",
    "array_3 = np.linspace(start = -30, stop = 40, num = 50, endpoint = True)\n",
    "abs_array_3 = np.absolute(array_3)\n",
    "\n",
    "# print the 'array_3' and the 'abs_array_3' for checking\n",
    "print(array_3)\n",
    "abs_array_3"
   ]
  },
  {
   "cell_type": "code",
   "execution_count": 23,
   "id": "1f8f4dc9",
   "metadata": {},
   "outputs": [
    {
     "data": {
      "image/png": "[encoded data removed]",
      "text/plain": [
       "<Figure size 1008x504 with 1 Axes>"
      ]
     },
     "metadata": {
      "needs_background": "light"
     },
     "output_type": "display_data"
    }
   ],
   "source": [
    "# Create a plot \n",
    "plt.plot(array_3, np.absolute(array_3))\n",
    "# Set a color\n",
    "plt.plot(array_3, abs_array_3, color = 'green', label=\"$x$\")\n",
    "# Set a legend \n",
    "plt.legend(loc='best')\n",
    "# Show the plot\n",
    "plt.show()"
   ]
  },
  {
   "cell_type": "code",
   "execution_count": 24,
   "id": "3ccf8adb",
   "metadata": {
    "scrolled": true
   },
   "outputs": [
    {
     "data": {
      "image/png": "[encoded data removed]",
      "text/plain": [
       "<Figure size 1008x504 with 1 Axes>"
      ]
     },
     "metadata": {
      "needs_background": "light"
     },
     "output_type": "display_data"
    }
   ],
   "source": [
    "# Create a plot with showing absolut 'y=|x|'\n",
    "plt.plot(array_3, 'r-', label=\"$x$\")\n",
    "plt.plot(abs_array_3, 'g*', label=\"$|x|$\")\n",
    "# Set a legend \n",
    "plt.legend(loc='best')\n",
    "# Set a color\n",
    "# plt.plot(array_3, array_3, color = 'red')\n",
    "\n",
    "# Show the plot\n",
    "plt.show()"
   ]
  },
  {
   "cell_type": "markdown",
   "id": "54b3105e",
   "metadata": {},
   "source": [
    "We can notice that the **Absolute Value Function** ``y=|x|`` is refracted at the value ``y=0``, and by this, we can say that the function will always depict lines of positive values."
   ]
  },
  {
   "cell_type": "markdown",
   "id": "14f64f91",
   "metadata": {},
   "source": [
    "#### Create Reflection Plot$^{[5]}$\n",
    "***\n",
    "To reflect the **Absolute Value Function** we going to use $$y=-|x|$$"
   ]
  },
  {
   "cell_type": "code",
   "execution_count": 25,
   "id": "e3e2cbc6",
   "metadata": {
    "scrolled": true
   },
   "outputs": [
    {
     "data": {
      "text/plain": [
       "array([-30.        , -28.57142857, -27.14285714, -25.71428571,\n",
       "       -24.28571429, -22.85714286, -21.42857143, -20.        ,\n",
       "       -18.57142857, -17.14285714, -15.71428571, -14.28571429,\n",
       "       -12.85714286, -11.42857143, -10.        ,  -8.57142857,\n",
       "        -7.14285714,  -5.71428571,  -4.28571429,  -2.85714286,\n",
       "        -1.42857143,  -0.        ,  -1.42857143,  -2.85714286,\n",
       "        -4.28571429,  -5.71428571,  -7.14285714,  -8.57142857,\n",
       "       -10.        , -11.42857143, -12.85714286, -14.28571429,\n",
       "       -15.71428571, -17.14285714, -18.57142857, -20.        ,\n",
       "       -21.42857143, -22.85714286, -24.28571429, -25.71428571,\n",
       "       -27.14285714, -28.57142857, -30.        , -31.42857143,\n",
       "       -32.85714286, -34.28571429, -35.71428571, -37.14285714,\n",
       "       -38.57142857, -40.        ])"
      ]
     },
     "execution_count": 25,
     "metadata": {},
     "output_type": "execute_result"
    }
   ],
   "source": [
    "# Use the '𝑦=−|𝑥|' for the array\n",
    "ref_array = np.absolute(array_3) * (-1)\n",
    "\n",
    "# print the 'ref_array'\n",
    "ref_array"
   ]
  },
  {
   "cell_type": "markdown",
   "id": "b5d848ce",
   "metadata": {},
   "source": [
    "#### Vertical Stretch/Shrink$^{[5]}$\n",
    "***\n",
    "To create the _Vertical Stretch/Shrink_ **Absolute Value Function** we will to use $$y=3|x|$$"
   ]
  },
  {
   "cell_type": "code",
   "execution_count": 26,
   "id": "5d464976",
   "metadata": {},
   "outputs": [],
   "source": [
    "# Use the '𝑦=3|𝑥|' for the array\n",
    "ver_array = 3 * (np.absolute(array_3))"
   ]
  },
  {
   "cell_type": "code",
   "execution_count": 27,
   "id": "ce1faa62",
   "metadata": {},
   "outputs": [
    {
     "data": {
      "image/png": "[encoded data removed]",
      "text/plain": [
       "<Figure size 1008x504 with 1 Axes>"
      ]
     },
     "metadata": {
      "needs_background": "light"
     },
     "output_type": "display_data"
    }
   ],
   "source": [
    "# Create a plot for 'y=|x|', 'y=-|x|' and 'y=3|x|'\n",
    "plt.plot(abs_array_3, 'r-', label=\"$|x|$\")\n",
    "plt.plot(ref_array, 'b-', label=\"$-|x|$\")\n",
    "plt.plot(ver_array, 'g-', label=\"$3|x|$\")\n",
    "# Set a legend \n",
    "plt.legend(loc='best')\n",
    "\n",
    "# Show the plot\n",
    "plt.show()"
   ]
  },
  {
   "cell_type": "markdown",
   "id": "afaa25c2",
   "metadata": {},
   "source": [
    "#### Create a plot the function over the complex plane\n",
    "***"
   ]
  },
  {
   "cell_type": "code",
   "execution_count": 28,
   "id": "bd289529",
   "metadata": {
    "scrolled": true
   },
   "outputs": [
    {
     "data": {
      "text/plain": [
       "array([30.        , 28.57142857, 27.14285714, 25.71428571, 24.28571429,\n",
       "       22.85714286, 21.42857143, 20.        , 18.57142857, 17.14285714,\n",
       "       15.71428571, 14.28571429, 12.85714286, 11.42857143, 10.        ,\n",
       "        8.57142857,  7.14285714,  5.71428571,  4.28571429,  2.85714286,\n",
       "        1.42857143,  0.        ,  1.42857143,  2.85714286,  4.28571429,\n",
       "        5.71428571,  7.14285714,  8.57142857, 10.        , 11.42857143,\n",
       "       12.85714286, 14.28571429, 15.71428571, 17.14285714, 18.57142857,\n",
       "       20.        , 21.42857143, 22.85714286, 24.28571429, 25.71428571,\n",
       "       27.14285714, 28.57142857, 30.        , 31.42857143, 32.85714286,\n",
       "       34.28571429, 35.71428571, 37.14285714, 38.57142857, 40.        ])"
      ]
     },
     "execution_count": 28,
     "metadata": {},
     "output_type": "execute_result"
    }
   ],
   "source": [
    "# Take the array from the example above\n",
    "np.absolute(array_3)"
   ]
  },
  {
   "cell_type": "markdown",
   "id": "5a02362e",
   "metadata": {},
   "source": [
    "``np.newaxis()`` is used to increase the dimension of the existing array by one more dimension, when used once. Thus, \n",
    "**1D array will become 2D array**$^{[6]}$"
   ]
  },
  {
   "cell_type": "code",
   "execution_count": 29,
   "id": "ed40c5c7",
   "metadata": {
    "scrolled": true
   },
   "outputs": [
    {
     "data": {
      "text/plain": [
       "array([[-30.        -60.j        , -28.57142857-60.j        ,\n",
       "        -27.14285714-60.j        , ...,  37.14285714-60.j        ,\n",
       "         38.57142857-60.j        ,  40.        -60.j        ],\n",
       "       [-30.        -57.14285714j, -28.57142857-57.14285714j,\n",
       "        -27.14285714-57.14285714j, ...,  37.14285714-57.14285714j,\n",
       "         38.57142857-57.14285714j,  40.        -57.14285714j],\n",
       "       [-30.        -54.28571429j, -28.57142857-54.28571429j,\n",
       "        -27.14285714-54.28571429j, ...,  37.14285714-54.28571429j,\n",
       "         38.57142857-54.28571429j,  40.        -54.28571429j],\n",
       "       ...,\n",
       "       [-30.        +74.28571429j, -28.57142857+74.28571429j,\n",
       "        -27.14285714+74.28571429j, ...,  37.14285714+74.28571429j,\n",
       "         38.57142857+74.28571429j,  40.        +74.28571429j],\n",
       "       [-30.        +77.14285714j, -28.57142857+77.14285714j,\n",
       "        -27.14285714+77.14285714j, ...,  37.14285714+77.14285714j,\n",
       "         38.57142857+77.14285714j,  40.        +77.14285714j],\n",
       "       [-30.        +80.j        , -28.57142857+80.j        ,\n",
       "        -27.14285714+80.j        , ...,  37.14285714+80.j        ,\n",
       "         38.57142857+80.j        ,  40.        +80.j        ]])"
      ]
     },
     "execution_count": 29,
     "metadata": {},
     "output_type": "execute_result"
    }
   ],
   "source": [
    "# create the 2D array\n",
    "comp_array_3 = array_3 + 2j * array_3[:, np.newaxis]\n",
    "\n",
    "# print the 'comp_array_3'\n",
    "comp_array_3"
   ]
  },
  {
   "cell_type": "markdown",
   "id": "a7d7a37a",
   "metadata": {},
   "source": [
    "``plt.imshow()`` - Display data as an image,  on a 2D regular raster$^{[7]}$"
   ]
  },
  {
   "cell_type": "code",
   "execution_count": 30,
   "id": "0650672b",
   "metadata": {
    "scrolled": true
   },
   "outputs": [
    {
     "data": {
      "image/png": "[encoded data removed]",
      "text/plain": [
       "<Figure size 1008x504 with 1 Axes>"
      ]
     },
     "metadata": {
      "needs_background": "light"
     },
     "output_type": "display_data"
    }
   ],
   "source": [
    "# Create 2D plot\n",
    "plt.imshow(np.abs(comp_array_3), cmap='gray')\n",
    "\n",
    "# Show the plot\n",
    "plt.show()"
   ]
  },
  {
   "cell_type": "markdown",
   "id": "d871ffb6",
   "metadata": {},
   "source": [
    "In this Question 1 I showed and explained how to use ``np.absolute()`` function and how to calculate the absolute value of each element in a given array with examples and plots. Above, we have seen examples of how the absolute value function changes negative values and the graph refracted. The absolute value of a number represents its distance from ``y=0``. \n",
    "It also explains to us how to determine the vertex of an absolute value function and whether it will be upward or downward-facing.The **Absolute Value Function** is not a good choice for plotting straight lines.  \n"
   ]
  },
  {
   "cell_type": "markdown",
   "id": "7bebed58",
   "metadata": {},
   "source": [
    "## 3. Question 2 <a class=\"anchor\" id=\"Question_2\"></a>\n",
    "***\n",
    "\n",
    "<div class=\"alert alert-info\"><h5>Fit a straight line to the following data points, using all three methods used above.\n",
    "\n",
    "Do you think a straight line is a good model for these points?</h5></div>\n",
    "`x = [2.0, 3.0, 4.0, 5.0, 6.0, 7.0, 8.0, 9.0, 10.0, 11.0, 12.0, 13.0, 14.0, 15.0, 16.0, 17.0, 18.0, 19.0, 20.0]\n",
    "y = [0.7, 1.1, 1.5, 1.6, 1.7, 2.0, 2.3, 2.4, 2.2, 2.1, 2.4, 2.6, 2.2, 2.7, 2.5, 2.7, 2.8, 2.9, 3.1]`"
   ]
  },
  {
   "cell_type": "code",
   "execution_count": 31,
   "id": "a0660b87",
   "metadata": {},
   "outputs": [],
   "source": [
    "# Two data points\n",
    "x = [2.0, 3.0, 4.0, 5.0, 6.0, 7.0, 8.0, 9.0, 10.0, 11.0, 12.0, 13.0, 14.0, 15.0, 16.0, 17.0, 18.0, 19.0, 20.0]\n",
    "y = [0.7, 1.1, 1.5, 1.6, 1.7, 2.0, 2.3, 2.4, 2.2, 2.1, 2.4, 2.6, 2.2, 2.7, 2.5, 2.7, 2.8, 2.9, 3.1]"
   ]
  },
  {
   "cell_type": "code",
   "execution_count": 37,
   "id": "331f0d53",
   "metadata": {},
   "outputs": [],
   "source": [
    "# import the numpy package\n",
    "import numpy as np\n",
    "\n",
    "# import the Optimization \n",
    "import scipy.optimize as so\n",
    "\n",
    "# Import matplotlib\n",
    "import matplotlib.pyplot as plt"
   ]
  },
  {
   "cell_type": "code",
   "execution_count": 33,
   "id": "19f0fc32",
   "metadata": {},
   "outputs": [],
   "source": [
    "# create numerical arrays\n",
    "arr_x = np.asarray(x)\n",
    "arr_y = np.asarray(y)"
   ]
  },
  {
   "cell_type": "code",
   "execution_count": 34,
   "id": "94f62754",
   "metadata": {},
   "outputs": [
    {
     "data": {
      "text/plain": [
       "(array([ 2.,  3.,  4.,  5.,  6.,  7.,  8.,  9., 10., 11., 12., 13., 14.,\n",
       "        15., 16., 17., 18., 19., 20.]),\n",
       " array([0.7, 1.1, 1.5, 1.6, 1.7, 2. , 2.3, 2.4, 2.2, 2.1, 2.4, 2.6, 2.2,\n",
       "        2.7, 2.5, 2.7, 2.8, 2.9, 3.1]))"
      ]
     },
     "execution_count": 34,
     "metadata": {},
     "output_type": "execute_result"
    }
   ],
   "source": [
    "# check data\n",
    "arr_x, arr_y"
   ]
  },
  {
   "cell_type": "code",
   "execution_count": 41,
   "id": "73f14751",
   "metadata": {
    "scrolled": true
   },
   "outputs": [
    {
     "data": {
      "image/png": "[encoded data removed]",
      "text/plain": [
       "<Figure size 1008x504 with 1 Axes>"
      ]
     },
     "metadata": {
      "needs_background": "light"
     },
     "output_type": "display_data"
    }
   ],
   "source": [
    "# Create the plot.\n",
    "plt.plot(arr_x, arr_y, 'k.')\n",
    "\n",
    "# Set some properties for the plot.\n",
    "plt.xlabel('X - Value')\n",
    "plt.ylabel('Y - Value')\n",
    "\n",
    "# Show the plot.\n",
    "plt.show()"
   ]
  },
  {
   "cell_type": "markdown",
   "id": "89780f3c",
   "metadata": {},
   "source": [
    "The first step I'm going to use minimize function in ``scipy.optimize()``$^{[8]}$"
   ]
  },
  {
   "cell_type": "code",
   "execution_count": 47,
   "id": "28d9e3f1",
   "metadata": {},
   "outputs": [],
   "source": [
    "# Create a function for minimize\n",
    "def cost(MC):\n",
    "    # Unpack the values m and c.\n",
    "    m, c = MC\n",
    "    # We need the data points in this function.\n",
    "    cost = np.sum((arr_y - m * arr_x - c)**2)\n",
    "    # Return that value.\n",
    "    return cost"
   ]
  },
  {
   "cell_type": "code",
   "execution_count": 48,
   "id": "280c478e",
   "metadata": {},
   "outputs": [
    {
     "data": {
      "text/plain": [
       "2682.15"
      ]
     },
     "execution_count": 48,
     "metadata": {},
     "output_type": "execute_result"
    }
   ],
   "source": [
    "# Test the func\n",
    "cost((1.0, 2.0))"
   ]
  },
  {
   "cell_type": "code",
   "execution_count": 49,
   "id": "a047371b",
   "metadata": {},
   "outputs": [
    {
     "data": {
      "text/plain": [
       "      fun: 1.03957894736911\n",
       " hess_inv: array([[ 0.00087719, -0.00964912],\n",
       "       [-0.00964912,  0.13245614]])\n",
       "      jac: array([1.49011612e-08, 0.00000000e+00])\n",
       "  message: 'Optimization terminated successfully.'\n",
       "     nfev: 21\n",
       "      nit: 5\n",
       "     njev: 7\n",
       "   status: 0\n",
       "  success: True\n",
       "        x: array([0.10315786, 1.04947406])"
      ]
     },
     "execution_count": 49,
     "metadata": {},
     "output_type": "execute_result"
    }
   ],
   "source": [
    "# Get optimization result represented as a OptimizeResult object, and a description of other attributes.\n",
    "result = so.minimize(cost, (2.0, 2.0))\n",
    "# Show the results.\n",
    "result"
   ]
  },
  {
   "cell_type": "code",
   "execution_count": 62,
   "id": "fdd59ff1",
   "metadata": {},
   "outputs": [
    {
     "name": "stdout",
     "output_type": "stream",
     "text": [
      "m is 4.885508 and c is 12.641168.\n"
     ]
    }
   ],
   "source": []
  },
  {
   "cell_type": "code",
   "execution_count": 77,
   "id": "c77a4f93",
   "metadata": {},
   "outputs": [
    {
     "name": "stdout",
     "output_type": "stream",
     "text": [
      "m is 0.10315785999003411 and c is 1.0494740589312146\n"
     ]
    }
   ],
   "source": [
    "# Extract the optimized m and c.\n",
    "m_o, c_o = result.x\n",
    "# Print them.\n",
    "print(f'm is {m_o} and c is {c_o}')"
   ]
  },
  {
   "cell_type": "markdown",
   "id": "2cc2dd4d",
   "metadata": {},
   "source": [
    "The second step I will use ``np.polyfit()`` is a method that fits the data within a polynomial function$^{[9]}$"
   ]
  },
  {
   "cell_type": "code",
   "execution_count": 78,
   "id": "c1fdc826",
   "metadata": {},
   "outputs": [
    {
     "name": "stdout",
     "output_type": "stream",
     "text": [
      "m is 0.10315789473684209 and c is 1.0494736842105261\n"
     ]
    }
   ],
   "source": [
    "# Analytical result\n",
    "m_a, c_a = np.polyfit(arr_x, arr_y, 1)\n",
    "print(f'm is {m_a} and c is {c_a}')"
   ]
  },
  {
   "cell_type": "code",
   "execution_count": null,
   "id": "642563d3",
   "metadata": {},
   "outputs": [],
   "source": []
  },
  {
   "cell_type": "code",
   "execution_count": 60,
   "id": "1c8d527a",
   "metadata": {},
   "outputs": [
    {
     "data": {
      "image/png": "[encoded data removed]",
      "text/plain": [
       "<Figure size 1008x504 with 1 Axes>"
      ]
     },
     "metadata": {
      "needs_background": "light"
     },
     "output_type": "display_data"
    }
   ],
   "source": [
    "# Greate a plot the best fit line from the optimization.\n",
    "plt.plot(arr_x, arr_y, 'k.', label='Original data')\n",
    "plt.plot(arr_x, m_o * arr_x + c_o, 'b-', label='Optimized line')\n",
    "plt.plot(arr_x, m_a * arr_x + c_a, 'r-', label='Analytical line')\n",
    "plt.legend()\n",
    "\n",
    "# Show the plot.\n",
    "plt.show()"
   ]
  },
  {
   "cell_type": "code",
   "execution_count": null,
   "id": "e339deef",
   "metadata": {},
   "outputs": [],
   "source": []
  },
  {
   "cell_type": "code",
   "execution_count": null,
   "id": "40ffb2ce",
   "metadata": {},
   "outputs": [],
   "source": []
  },
  {
   "cell_type": "code",
   "execution_count": null,
   "id": "f2ab2666",
   "metadata": {},
   "outputs": [],
   "source": []
  },
  {
   "cell_type": "code",
   "execution_count": null,
   "id": "57beca0e",
   "metadata": {},
   "outputs": [],
   "source": []
  },
  {
   "cell_type": "code",
   "execution_count": null,
   "id": "ccd32a62",
   "metadata": {},
   "outputs": [],
   "source": []
  },
  {
   "cell_type": "code",
   "execution_count": null,
   "id": "a9e26a09",
   "metadata": {},
   "outputs": [],
   "source": []
  },
  {
   "cell_type": "code",
   "execution_count": null,
   "id": "ab2a13ef",
   "metadata": {},
   "outputs": [],
   "source": []
  },
  {
   "cell_type": "code",
   "execution_count": null,
   "id": "715254c4",
   "metadata": {},
   "outputs": [],
   "source": []
  },
  {
   "cell_type": "code",
   "execution_count": null,
   "id": "02c9b374",
   "metadata": {},
   "outputs": [],
   "source": []
  },
  {
   "cell_type": "code",
   "execution_count": null,
   "id": "87b64929",
   "metadata": {},
   "outputs": [],
   "source": []
  },
  {
   "cell_type": "markdown",
   "id": "fce7be2d",
   "metadata": {},
   "source": [
    "## References<a class=\"anchor\" id=\"References\"></a>\n",
    "***\n",
    "\n",
    "[1] https://matplotlib.org/2.0.2/users/pyplot_tutorial.html\n",
    "\n",
    "[2] https://numpy.org/doc/stable/reference/routines.math.html\n",
    "\n",
    "[3] https://docs.python.org/3/library/random.html\n",
    "\n",
    "[4] https://numpy.org/doc/stable/reference/generated/numpy.absolute.html\n",
    "\n",
    "[5] https://mathbitsnotebook.com/Algebra2/AbsoluteValue/AVGraphs.html\n",
    "\n",
    "[6] https://numpy.org/devdocs/reference/constants.html#numpy.newaxis\n",
    "\n",
    "[7] https://matplotlib.org/stable/api/_as_gen/matplotlib.pyplot.imshow.html\n",
    "\n",
    "[8] https://docs.scipy.org/doc/scipy/reference/generated/scipy.optimize.minimize.html#scipy.optimize.minimize\n",
    "\n",
    "[9] https://numpy.org/doc/stable/reference/generated/numpy.polyfit.html\n",
    "\n",
    "- https://sparkbyexamples.com/numpy/numpy-absolute-value/\n",
    "\n",
    "- https://matplotlib.org/stable/api/_as_gen/matplotlib.pyplot.legend.html\n",
    "\n",
    "- https://en.wikipedia.org/wiki/Absolute_value\n",
    "\n",
    "- https://numpy.org/doc/stable/reference/generated/numpy.absolute.html"
   ]
  },
  {
   "cell_type": "markdown",
   "id": "a86aa958",
   "metadata": {},
   "source": [
    "<center><h2 style=\"color: rgb(94, 3, 0);\">End</h2></center>"
   ]
  }
 ],
 "metadata": {
  "kernelspec": {
   "display_name": "Python 3 (ipykernel)",
   "language": "python",
   "name": "python3"
  },
  "language_info": {
   "codemirror_mode": {
    "name": "ipython",
    "version": 3
   },
   "file_extension": ".py",
   "mimetype": "text/x-python",
   "name": "python",
   "nbconvert_exporter": "python",
   "pygments_lexer": "ipython3",
   "version": "3.8.10"
  }
 },
 "nbformat": 4,
 "nbformat_minor": 5
}
