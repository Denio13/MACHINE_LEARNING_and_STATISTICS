{
 "cells": [
  {
   "cell_type": "markdown",
   "id": "2874a619",
   "metadata": {},
   "source": [
    "<center><h2 style=\"color: rgb(94, 3, 0);\">Models</h2></center>"
   ]
  },
  {
   "cell_type": "markdown",
   "id": "92561bd8",
   "metadata": {},
   "source": [
    "### Table of Contents\n",
    "\n",
    "***\n",
    "* [1. Purpose of this part](#Purpose)\n",
    "* [2. Question 1](#Question_1)\n",
    "* [3. Question 2](#Question_2)\n",
    "* [4. Question 3](#Question_3)\n",
    "* [References](#References)"
   ]
  },
  {
   "cell_type": "markdown",
   "id": "8e0f4289",
   "metadata": {},
   "source": [
    "## 1. Purpose of this part <a class=\"anchor\" id=\"Purpose\"></a>\n",
    "***"
   ]
  },
  {
   "cell_type": "markdown",
   "id": "1711f45b",
   "metadata": {},
   "source": [
    "<h5>In this <u>Jupyter notebook</u>, we will learn about mathematical models. Once we get to the end we should be able to:</h5>\n",
    "\n",
    "- Explain what a mathematical model is.\n",
    "- Develop a mathematical model based on data points.\n",
    "- Run code to find the best values for parameters of a model.\n",
    "- Solve a modeling problem analytically."
   ]
  },
  {
   "cell_type": "markdown",
   "id": "9c15878c",
   "metadata": {},
   "source": [
    "#### The Problem \n",
    "***\n",
    "\n",
    "In school, students are taught to draw lines like the following.\n",
    "\n",
    "<h2>$$ y = 2 x + 1$$</h2>\n",
    "\n",
    "They're taught to pick two values for $x$ and calculate the corresponding values for $y$ using the equation.\n",
    "Then they draw a set of axes, plot the points, and then draw a line extending through the two dots on their axes.\n"
   ]
  },
  {
   "cell_type": "markdown",
   "id": "9e418bf4",
   "metadata": {},
   "source": [
    "`matplotlib.pyplot` is a collection of command style functions that make matplotlib work like _MATLAB_. Each pyplot function makes some change to a figure: e.g., creates a figure, creates a plotting area in a figure, plots some lines in a plotting area, decorates the plot with labels, etc. In `matplotlib.pyplot` various states are preserved across function calls, so that it keeps track of things like the current figure and plotting area, and the plotting functions are directed to the current axes$^{[1]}$."
   ]
  },
  {
   "cell_type": "code",
   "execution_count": 1,
   "id": "5434f5ac",
   "metadata": {},
   "outputs": [],
   "source": [
    "# Import matplotlib\n",
    "import matplotlib.pyplot as plt"
   ]
  },
  {
   "cell_type": "markdown",
   "id": "baa1fed3",
   "metadata": {},
   "source": [
    "_NumPy_, which stands for _Numerical Python_, is a scientific computing library built on top of the _Python_ programming language.\n",
    "The most common way to import _NumPy_ into your _Python_ environment is to use the following syntax: `import numpy as np`\n",
    "The as `np` portion of the code then tells _Python_ to give _NumPy_ the alias of `np`. This allows you to use _NumPy_ functions by simply typing `np.function_name` rather than numpy$^{[2]}$."
   ]
  },
  {
   "cell_type": "code",
   "execution_count": 2,
   "id": "36a1d562",
   "metadata": {},
   "outputs": [],
   "source": [
    "# import the numpy package\n",
    "import numpy as np"
   ]
  },
  {
   "cell_type": "code",
   "execution_count": 3,
   "id": "932904fc",
   "metadata": {},
   "outputs": [],
   "source": [
    "# change plot size\n",
    "plt.rcParams['figure.figsize'] = [14, 7]"
   ]
  },
  {
   "cell_type": "code",
   "execution_count": 4,
   "id": "f23ac72f",
   "metadata": {},
   "outputs": [
    {
     "data": {
      "image/png": "[encoded data removed]",
      "text/plain": [
       "<Figure size 1008x504 with 1 Axes>"
      ]
     },
     "metadata": {
      "needs_background": "light"
     },
     "output_type": "display_data"
    }
   ],
   "source": [
    "# Draw some axes.\n",
    "plt.plot([-1, 10], [0, 0], 'k-')\n",
    "plt.plot([0, 0], [-1, 10], 'k-')\n",
    "\n",
    "# Plot the red, blue and green lines.\n",
    "plt.plot([1, 1], [-1, 3], 'b:')\n",
    "plt.plot([-1, 1], [3, 3], 'r:')\n",
    "\n",
    "# Plot the two points (1,3) and (2,5).\n",
    "plt.plot([1, 2], [3, 5], 'ko')\n",
    "# Join them with an (extending) green lines.\n",
    "plt.plot([-1, 10], [-1, 21], 'g-')\n",
    "\n",
    "# Set some reasonable plot limits.\n",
    "plt.xlim([-1, 10])\n",
    "plt.ylim([-1, 10])\n",
    "\n",
    "# Show the plot.\n",
    "plt.show()"
   ]
  },
  {
   "cell_type": "markdown",
   "id": "12e899e1",
   "metadata": {},
   "source": [
    "Simple linear regression is about the opposite problem - what if you have some points and are looking for the equation?\n",
    "\n",
    "It's easy when the points are perfectly on a line already, but usually real-world data has some noise.\n",
    "\n",
    "The data might still look roughly linear, but aren't exactly so."
   ]
  },
  {
   "cell_type": "markdown",
   "id": "8af09554",
   "metadata": {},
   "source": [
    "#### Analysis\n",
    "***\n",
    "\n",
    "I will do some experiment. Just imagine that w is an array containing the weight values and d is the corresponding distance measurements."
   ]
  },
  {
   "cell_type": "code",
   "execution_count": 5,
   "id": "b81b886f",
   "metadata": {},
   "outputs": [],
   "source": [
    "# create 'w' and 'd' arrays\n",
    "w = np.arange(0.0, 41.0, 2.0)\n",
    "d = 5.0 * w + 10.0 + np.random.normal(0.0, 3.0, w.size)"
   ]
  },
  {
   "cell_type": "code",
   "execution_count": 6,
   "id": "b8c52a6b",
   "metadata": {},
   "outputs": [
    {
     "data": {
      "text/plain": [
       "array([ 0.,  2.,  4.,  6.,  8., 10., 12., 14., 16., 18., 20., 22., 24.,\n",
       "       26., 28., 30., 32., 34., 36., 38., 40.])"
      ]
     },
     "execution_count": 6,
     "metadata": {},
     "output_type": "execute_result"
    }
   ],
   "source": [
    "# print the 'w' array\n",
    "w"
   ]
  },
  {
   "cell_type": "code",
   "execution_count": 7,
   "id": "e8a94771",
   "metadata": {},
   "outputs": [
    {
     "data": {
      "text/plain": [
       "array([  9.61974229,  15.14998269,  31.78066667,  37.43475642,\n",
       "        46.76667243,  57.85244424,  72.3330121 ,  78.17150466,\n",
       "        89.16568954, 103.68095999, 105.55724028, 117.56383386,\n",
       "       131.27003941, 141.52471799, 150.46182745, 155.94208821,\n",
       "       168.36866752, 176.58510078, 190.17751193, 197.36837011,\n",
       "       206.40004498])"
      ]
     },
     "execution_count": 7,
     "metadata": {},
     "output_type": "execute_result"
    }
   ],
   "source": [
    "# print the 'd' array\n",
    "d"
   ]
  },
  {
   "cell_type": "code",
   "execution_count": 8,
   "id": "02097a2a",
   "metadata": {},
   "outputs": [
    {
     "data": {
      "image/png": "[encoded data removed]",
      "text/plain": [
       "<Figure size 1008x504 with 1 Axes>"
      ]
     },
     "metadata": {
      "needs_background": "light"
     },
     "output_type": "display_data"
    }
   ],
   "source": [
    "# Create the plot.\n",
    "plt.plot(w, d, 'k.')\n",
    "\n",
    "# Set some properties for the plot.\n",
    "plt.xlabel('Weight (KG)')\n",
    "plt.ylabel('Distance (CM)')\n",
    "\n",
    "# Show the plot.\n",
    "plt.show()"
   ]
  },
  {
   "cell_type": "markdown",
   "id": "1be9f790",
   "metadata": {},
   "source": [
    "#### Best fit line\n",
    "***\n",
    "I calculate $m$ and $c$ below."
   ]
  },
  {
   "cell_type": "code",
   "execution_count": 9,
   "id": "199cc3aa",
   "metadata": {},
   "outputs": [
    {
     "name": "stdout",
     "output_type": "stream",
     "text": [
      "m is 4.980339 and c is 9.115829.\n"
     ]
    }
   ],
   "source": [
    "# Calculate the best values for m and c.\n",
    "\n",
    "# First calculate the means (a.k.a. averages) of w and d.\n",
    "w_avg = np.mean(w)\n",
    "d_avg = np.mean(d)\n",
    "\n",
    "# Subtract means from w and d.\n",
    "w_zero = w - w_avg\n",
    "d_zero = d - d_avg\n",
    "\n",
    "# The best m is found by the following calculation.\n",
    "m = np.sum(w_zero * d_zero) / np.sum(w_zero * w_zero)\n",
    "# Use m from above to calculate the best c.\n",
    "c = d_avg - m * w_avg\n",
    "\n",
    "print(\"m is %8.6f and c is %6.6f.\" % (m, c))"
   ]
  },
  {
   "cell_type": "markdown",
   "id": "9a6f41bb",
   "metadata": {},
   "source": [
    "I am going to use the ``polyfit``. It can be used to fit lines in many dimensions."
   ]
  },
  {
   "cell_type": "code",
   "execution_count": 10,
   "id": "12a83e75",
   "metadata": {},
   "outputs": [
    {
     "data": {
      "text/plain": [
       "array([4.98033919, 9.11582924])"
      ]
     },
     "execution_count": 10,
     "metadata": {},
     "output_type": "execute_result"
    }
   ],
   "source": [
    "np.polyfit(w, d, 1)"
   ]
  },
  {
   "cell_type": "markdown",
   "id": "15f505c2",
   "metadata": {},
   "source": [
    "#### Minimising the cost\n",
    "\n",
    "We want to calculate values of $m$ and $c$ that give the lowest value for the cost value above.\n",
    "\n",
    "For our given data set we can plot the cost value/function.\n",
    "\n",
    "Recall that the cost is:\n",
    "\n",
    "<h2>$$ Cost(m, c) = \\sum_i (y_i - mx_i - c)^2 $$</h2>\n",
    "\n",
    "This is a function of two variables, $m$ and $c$, so a plot of it is three dimensional."
   ]
  },
  {
   "cell_type": "code",
   "execution_count": 11,
   "id": "1f77bc22",
   "metadata": {},
   "outputs": [],
   "source": [
    "# Calculate the cost\n",
    "cost = lambda m,c: np.sum([(d[i] - m * w[i] - c)**2 for i in range(w.size)])"
   ]
  },
  {
   "cell_type": "code",
   "execution_count": 12,
   "id": "2ca719e2",
   "metadata": {},
   "outputs": [
    {
     "data": {
      "image/png": "[encoded data removed]",
      "text/plain": [
       "<Figure size 1008x504 with 1 Axes>"
      ]
     },
     "metadata": {
      "needs_background": "light"
     },
     "output_type": "display_data"
    }
   ],
   "source": [
    "# Plot the best fit line.\n",
    "plt.plot(w, d, 'k.', label='Original data')\n",
    "plt.plot(w, m * w + c, 'b-', label='Best fit line')\n",
    "\n",
    "# Add axis labels and a legend.\n",
    "plt.xlabel('Weight (KG)')\n",
    "plt.ylabel('Distance (CM)')\n",
    "plt.legend()\n",
    "\n",
    "# Show the plot.\n",
    "plt.show()"
   ]
  },
  {
   "cell_type": "code",
   "execution_count": 13,
   "id": "584527d7",
   "metadata": {},
   "outputs": [
    {
     "name": "stdout",
     "output_type": "stream",
     "text": [
      "Cost with m =  4.98 and c =  9.12:   116.59\n"
     ]
    }
   ],
   "source": [
    "print(\"Cost with m = %5.2f and c = %5.2f: %8.2f\" % (m, c, cost(m, c)))"
   ]
  },
  {
   "cell_type": "markdown",
   "id": "cbb671f9",
   "metadata": {},
   "source": [
    "## 2. Question 1 <a class=\"anchor\" id=\"Question_1\"></a>\n",
    "***\n",
    "\n",
    "<div class=\"alert alert-info\"><h5>Use numpy and matplotlib to plot the absolute value function.\n",
    "\n",
    "Research and explain why the absolute value function is not typically used in fitting straight lines to data.</h5></div>"
   ]
  },
  {
   "cell_type": "markdown",
   "id": "87924afc",
   "metadata": {},
   "source": [
    "<h3>Absolute Value Function</h3>\n",
    "\n",
    "***\n",
    "\n",
    "An absolute value function is a function in algebra where the variable is inside the absolute value bars. This function is also known as the modulus function and the most commonly used form of the absolute value function is f(x) = |x|, where x is a real number. Generally, we can represent the absolute value function as, $$f(x) = a |x - h| + k$$ where a represents how far the graph stretches vertically, h represents the horizontal shift and k represents the vertical shift from the graph of $$f(x) = |x|$$ If the value of **'a'** is negative, the graph opens downwards and if it is positive, the graph opens upwards."
   ]
  },
  {
   "cell_type": "markdown",
   "id": "a2095799",
   "metadata": {},
   "source": [
    "_**random**_ — Generate pseudo-random numbers$^{[3]}$\n",
    "\n",
    "`random.randrange(start, stop[, step])` - Function for integers"
   ]
  },
  {
   "cell_type": "code",
   "execution_count": 14,
   "id": "f0e0afa3",
   "metadata": {},
   "outputs": [],
   "source": [
    "# import the random package\n",
    "import random"
   ]
  },
  {
   "cell_type": "code",
   "execution_count": 15,
   "id": "5662e157",
   "metadata": {},
   "outputs": [
    {
     "data": {
      "text/plain": [
       "-4"
      ]
     },
     "execution_count": 15,
     "metadata": {},
     "output_type": "execute_result"
    }
   ],
   "source": [
    "# Generate a random negative number\n",
    "number = random.randrange(-30, 0)\n",
    "# print the 'number'\n",
    "number"
   ]
  },
  {
   "cell_type": "code",
   "execution_count": 16,
   "id": "d3d40070",
   "metadata": {},
   "outputs": [],
   "source": [
    "# import the numpy package\n",
    "import numpy as np"
   ]
  },
  {
   "cell_type": "markdown",
   "id": "8810719c",
   "metadata": {},
   "source": [
    "`np.absolute` - Calculate the absolute value element$^{[4]}$"
   ]
  },
  {
   "cell_type": "code",
   "execution_count": 17,
   "id": "2b242721",
   "metadata": {},
   "outputs": [
    {
     "data": {
      "text/plain": [
       "4"
      ]
     },
     "execution_count": 17,
     "metadata": {},
     "output_type": "execute_result"
    }
   ],
   "source": [
    "# Get the absolute value of the 'number'\n",
    "abs_number = np.absolute(number)\n",
    "# print the 'abs_number'\n",
    "abs_number"
   ]
  },
  {
   "cell_type": "code",
   "execution_count": 18,
   "id": "4e705242",
   "metadata": {},
   "outputs": [
    {
     "name": "stdout",
     "output_type": "stream",
     "text": [
      "Created a negative number is [-4] and the absolute value of that number is [4].\n"
     ]
    }
   ],
   "source": [
    "print(f'Created a negative number is [{number}] and the absolute value of that number is [{abs_number}].')"
   ]
  },
  {
   "cell_type": "code",
   "execution_count": null,
   "id": "6acccd72",
   "metadata": {},
   "outputs": [],
   "source": []
  },
  {
   "cell_type": "code",
   "execution_count": null,
   "id": "ccb004ec",
   "metadata": {},
   "outputs": [],
   "source": []
  },
  {
   "cell_type": "code",
   "execution_count": null,
   "id": "bdfdae97",
   "metadata": {},
   "outputs": [],
   "source": []
  },
  {
   "cell_type": "code",
   "execution_count": null,
   "id": "0f232e1d",
   "metadata": {},
   "outputs": [],
   "source": []
  },
  {
   "cell_type": "code",
   "execution_count": null,
   "id": "1f8f4dc9",
   "metadata": {},
   "outputs": [],
   "source": []
  },
  {
   "cell_type": "code",
   "execution_count": null,
   "id": "3ccf8adb",
   "metadata": {},
   "outputs": [],
   "source": []
  },
  {
   "cell_type": "code",
   "execution_count": null,
   "id": "4bcaafb3",
   "metadata": {},
   "outputs": [],
   "source": []
  },
  {
   "cell_type": "code",
   "execution_count": null,
   "id": "3fed7469",
   "metadata": {},
   "outputs": [],
   "source": []
  },
  {
   "cell_type": "code",
   "execution_count": null,
   "id": "b01b0bb9",
   "metadata": {},
   "outputs": [],
   "source": []
  },
  {
   "cell_type": "code",
   "execution_count": null,
   "id": "a5c591fc",
   "metadata": {},
   "outputs": [],
   "source": []
  },
  {
   "cell_type": "code",
   "execution_count": null,
   "id": "df04eeb5",
   "metadata": {},
   "outputs": [],
   "source": []
  },
  {
   "cell_type": "code",
   "execution_count": null,
   "id": "915aacc1",
   "metadata": {},
   "outputs": [],
   "source": []
  },
  {
   "cell_type": "code",
   "execution_count": null,
   "id": "da80623c",
   "metadata": {},
   "outputs": [],
   "source": []
  },
  {
   "cell_type": "code",
   "execution_count": null,
   "id": "fb8d156c",
   "metadata": {},
   "outputs": [],
   "source": []
  },
  {
   "cell_type": "code",
   "execution_count": null,
   "id": "5b5bc63e",
   "metadata": {},
   "outputs": [],
   "source": []
  },
  {
   "cell_type": "code",
   "execution_count": null,
   "id": "543c9dc1",
   "metadata": {},
   "outputs": [],
   "source": []
  },
  {
   "cell_type": "code",
   "execution_count": null,
   "id": "5b638d61",
   "metadata": {},
   "outputs": [],
   "source": []
  },
  {
   "cell_type": "code",
   "execution_count": null,
   "id": "03952185",
   "metadata": {},
   "outputs": [],
   "source": []
  },
  {
   "cell_type": "code",
   "execution_count": null,
   "id": "c50bd0ca",
   "metadata": {},
   "outputs": [],
   "source": []
  },
  {
   "cell_type": "code",
   "execution_count": null,
   "id": "74b16a38",
   "metadata": {},
   "outputs": [],
   "source": []
  },
  {
   "cell_type": "code",
   "execution_count": null,
   "id": "99b3d85a",
   "metadata": {},
   "outputs": [],
   "source": []
  },
  {
   "cell_type": "code",
   "execution_count": null,
   "id": "05d0cf64",
   "metadata": {},
   "outputs": [],
   "source": []
  },
  {
   "cell_type": "code",
   "execution_count": null,
   "id": "0b5adaee",
   "metadata": {},
   "outputs": [],
   "source": []
  },
  {
   "cell_type": "code",
   "execution_count": null,
   "id": "88708dbb",
   "metadata": {},
   "outputs": [],
   "source": []
  },
  {
   "cell_type": "code",
   "execution_count": null,
   "id": "99c43489",
   "metadata": {},
   "outputs": [],
   "source": []
  },
  {
   "cell_type": "code",
   "execution_count": null,
   "id": "026b9a08",
   "metadata": {},
   "outputs": [],
   "source": []
  },
  {
   "cell_type": "code",
   "execution_count": null,
   "id": "ff853d15",
   "metadata": {},
   "outputs": [],
   "source": []
  },
  {
   "cell_type": "code",
   "execution_count": null,
   "id": "d91035cc",
   "metadata": {},
   "outputs": [],
   "source": []
  },
  {
   "cell_type": "code",
   "execution_count": null,
   "id": "c0bcd7f9",
   "metadata": {},
   "outputs": [],
   "source": []
  },
  {
   "cell_type": "code",
   "execution_count": null,
   "id": "15212d24",
   "metadata": {},
   "outputs": [],
   "source": []
  },
  {
   "cell_type": "code",
   "execution_count": null,
   "id": "2f49be3d",
   "metadata": {},
   "outputs": [],
   "source": []
  },
  {
   "cell_type": "code",
   "execution_count": null,
   "id": "80f2384c",
   "metadata": {},
   "outputs": [],
   "source": []
  },
  {
   "cell_type": "code",
   "execution_count": null,
   "id": "ce7f1f39",
   "metadata": {},
   "outputs": [],
   "source": []
  },
  {
   "cell_type": "code",
   "execution_count": null,
   "id": "e638a579",
   "metadata": {},
   "outputs": [],
   "source": []
  },
  {
   "cell_type": "code",
   "execution_count": null,
   "id": "6545c9bd",
   "metadata": {},
   "outputs": [],
   "source": []
  },
  {
   "cell_type": "code",
   "execution_count": null,
   "id": "b356f306",
   "metadata": {},
   "outputs": [],
   "source": []
  },
  {
   "cell_type": "code",
   "execution_count": null,
   "id": "3b01e13f",
   "metadata": {},
   "outputs": [],
   "source": []
  },
  {
   "cell_type": "code",
   "execution_count": null,
   "id": "9b71e04a",
   "metadata": {},
   "outputs": [],
   "source": []
  },
  {
   "cell_type": "code",
   "execution_count": null,
   "id": "05f3198c",
   "metadata": {},
   "outputs": [],
   "source": []
  },
  {
   "cell_type": "markdown",
   "id": "fce7be2d",
   "metadata": {},
   "source": [
    "## References<a class=\"anchor\" id=\"References\"></a>\n",
    "***\n",
    "\n",
    "[1] https://matplotlib.org/2.0.2/users/pyplot_tutorial.html\n",
    "\n",
    "[2] https://numpy.org/doc/stable/reference/routines.math.html\n",
    "\n",
    "[3] https://docs.python.org/3/library/random.html\n",
    "\n",
    "[4] https://numpy.org/doc/stable/reference/generated/numpy.absolute.html"
   ]
  },
  {
   "cell_type": "markdown",
   "id": "a86aa958",
   "metadata": {},
   "source": [
    "<center><h2 style=\"color: rgb(94, 3, 0);\">End</h2></center>"
   ]
  }
 ],
 "metadata": {
  "kernelspec": {
   "display_name": "Python 3 (ipykernel)",
   "language": "python",
   "name": "python3"
  },
  "language_info": {
   "codemirror_mode": {
    "name": "ipython",
    "version": 3
   },
   "file_extension": ".py",
   "mimetype": "text/x-python",
   "name": "python",
   "nbconvert_exporter": "python",
   "pygments_lexer": "ipython3",
   "version": "3.8.10"
  }
 },
 "nbformat": 4,
 "nbformat_minor": 5
}
