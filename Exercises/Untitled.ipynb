{
 "cells": [
  {
   "cell_type": "markdown",
   "id": "0cee1244",
   "metadata": {},
   "source": [
    "<br>\n",
    "\n",
    "<center><img src=\"https://s3.us-east-2.amazonaws.com/brainder/2015/tastingtea/tasting_tea_550.jpg\"></center>\n",
    "\n",
    "\n",
    "\n",
    "<br>\n",
    "\n",
    "# **<center> The lady tasting tea experiment</center>**\n",
    "\n",
    "<br>\n",
    " \n",
    "***\n",
    "    \n",
    "*__<div style=\"text-align: right\"> Author: Denis Sarf </div>__*\n",
    "    \n",
    "<br>"
   ]
  },
  {
   "cell_type": "markdown",
   "id": "196cfabc",
   "metadata": {},
   "source": [
    "### Table of Contents\n",
    "\n",
    "***\n",
    "* [1. Introduction](#Introduction)\n",
    "\n",
    "* [2. Question 1](#Question_1)\n",
    "* [2.1 Bonus](#Bonus)\n",
    "* [3. Question 2](#Question_2)\n",
    "* [4. Question 3](#Question_3)\n",
    "* [References](#References)"
   ]
  },
  {
   "cell_type": "markdown",
   "id": "e6127eb4",
   "metadata": {},
   "source": [
    "## 1. Introduction <a class=\"anchor\" id=\"Introduction\"></a>$^{[1]}$\n",
    "***"
   ]
  },
  {
   "cell_type": "markdown",
   "id": "2b7a39ce",
   "metadata": {},
   "source": [
    "<h5>The now famous story is that in an otherwise unremarkable summer afternoon in Cambridge in the 1920’s, a group of friends eventually discussed about the claims made by one of the presents about her abilities on discriminating whether milk was poured first or last when preparing a cup of tea with milk. One of the presents was Ronald Fisher, and the story, along with a detailed description of how to conduct a simple experiment to test the claimed ability, and how to obtain an exact solution, was presented at length in the Chapter 2 of his book The Design of Experiments, a few lines of which are quoted below:</h5>"
   ]
  },
  {
   "cell_type": "markdown",
   "id": "94216cac",
   "metadata": {},
   "source": [
    "<div align=\"center\" class=\"alert alert-block alert-success\">A lady declares that by tasting a cup of tea made with milk she can discriminate whether the milk or the tea infusion was first added to the cup. We will consider the problem of designing an experiment by means of which this assertion can be tested. […] [It] consists in mixing eight cups of tea, four in one way and four in the other, and presenting them to the subject for judgment in a random order. The subject has been told in advance of that the test will consist, namely, that she will be asked to taste eight cups, that these shall be four of each kind […]</div>\n",
    "<div style=\"text-align: center\"><b>Fisher, 1935</b></div>"
   ]
  },
  {
   "cell_type": "markdown",
   "id": "68d912c3",
   "metadata": {},
   "source": [
    "<h5>The lady in question (Muriel Bristol) claimed to be able to tell whether the tea or the milk was added first to a cup. Fisher proposed to give her eight cups, four of each variety, in random order. One could then ask what the probability was for her getting the specific number of cups she identified correct, but just by chance.</h5>\n",
    "\n",
    "<h5>Fisher's description is less than 10 pages in length and is notable for its simplicity and completeness regarding terminology, calculations and design of the experiment.The example is loosely based on an event in Fisher's life. The test used was Fisher's exact test.</h5>"
   ]
  },
  {
   "cell_type": "markdown",
   "id": "0dd1eb92",
   "metadata": {},
   "source": [
    "***\n",
    "\n",
    "<h5>There are</h5> \n",
    "<br>\n",
    "$${8 \\choose 4} = \\frac{8!}{4!(8-4)!} = 70$$<br>\n",
    "<br>\n",
    "<h5>distinct possible orderings of these cups, and by telling the subject in advance that there are four cups of each type, this guarantees that the answer will include four of each.</h5>"
   ]
  },
  {
   "cell_type": "markdown",
   "id": "1b1cdddc",
   "metadata": {},
   "source": [
    "<br>\n",
    "\n",
    "<center><img src=\"https://s3.us-east-2.amazonaws.com/brainder/2015/tastingtea/tea_cups.png\"></center>\n",
    "\n",
    "\n",
    "<br>"
   ]
  },
  {
   "cell_type": "markdown",
   "id": "c4ec09f5",
   "metadata": {},
   "source": [
    "## 2. Question 1 <a class=\"anchor\" id=\"Question_1\"></a>\n",
    "\n",
    "***\n",
    "\n",
    "<div class=\"alert alert-info\"><h5> Calculate the minimum number of cups of tea required to ensure the probability of randomly selecting the correct cups is less than or equal to 1%.</h5></div>"
   ]
  },
  {
   "cell_type": "markdown",
   "id": "86a5d6e4",
   "metadata": {},
   "source": [
    "_We need to import Python modules, that can access code from another module by importing a file/function using import._"
   ]
  },
  {
   "cell_type": "code",
   "execution_count": 1,
   "id": "495477e4",
   "metadata": {},
   "outputs": [],
   "source": [
    "# Math module.\n",
    "import math"
   ]
  },
  {
   "cell_type": "markdown",
   "id": "d4b89c2c",
   "metadata": {},
   "source": [
    "_The math.comb() method returns the number of ways picking k unordered outcomes from n possibilities, without repetition, also known as combinations.$^{[2]}$_\n",
    "\n",
    "**Parameters:**\n",
    "\n",
    "_**n**_: The positive integers of items from which to choose\n",
    "\n",
    "_**k**_: The positive integers of items to choose\n",
    "\n",
    "_The following is adapted from stackoverflow$^{[3]}$_\n"
   ]
  },
  {
   "cell_type": "code",
   "execution_count": 2,
   "id": "7b55ddc4",
   "metadata": {},
   "outputs": [
    {
     "data": {
      "text/plain": [
       "70"
      ]
     },
     "execution_count": 2,
     "metadata": {},
     "output_type": "execute_result"
    }
   ],
   "source": [
    "# Number of ways of selecting 4 cups from 8.\n",
    "math.comb(8, 4)"
   ]
  },
  {
   "cell_type": "markdown",
   "id": "0d97ae94",
   "metadata": {},
   "source": [
    "Possible outcomes of the **\"lady tasting tea\"** experiment  to get all *4* cups correct from *8* cups"
   ]
  },
  {
   "cell_type": "code",
   "execution_count": 3,
   "id": "2b2a75bb",
   "metadata": {},
   "outputs": [
    {
     "data": {
      "text/plain": [
       "0.014285714285714285"
      ]
     },
     "execution_count": 3,
     "metadata": {},
     "output_type": "execute_result"
    }
   ],
   "source": [
    "1.0 / math.comb(8, 4)"
   ]
  },
  {
   "cell_type": "code",
   "execution_count": 4,
   "id": "96f52dfe",
   "metadata": {},
   "outputs": [
    {
     "data": {
      "text/plain": [
       "252"
      ]
     },
     "execution_count": 4,
     "metadata": {},
     "output_type": "execute_result"
    }
   ],
   "source": [
    "# Number of ways of selecting 5 cups from 10.\n",
    "math.comb(10, 5)"
   ]
  },
  {
   "cell_type": "markdown",
   "id": "d8f7274a",
   "metadata": {},
   "source": [
    "Possible outcomes of the **\"lady tasting tea\"** experiment  to get all *5* cups correct from *10* cups"
   ]
  },
  {
   "cell_type": "code",
   "execution_count": 5,
   "id": "ec3f4ed2",
   "metadata": {},
   "outputs": [
    {
     "data": {
      "text/plain": [
       "0.003968253968253968"
      ]
     },
     "execution_count": 5,
     "metadata": {},
     "output_type": "execute_result"
    }
   ],
   "source": [
    "# Probability of randomly selecting correct 5 cups is:\n",
    "1.0 / math.comb(10, 5)"
   ]
  },
  {
   "cell_type": "markdown",
   "id": "380c2d9b",
   "metadata": {},
   "source": [
    "_As a result of the experiment was performed with 10 cups, 5 with milk and 5 with tea, then the probability of a correct random selection is much less than 1%._\n",
    "\n",
    "Possible outcomes of the **\"lady tasting tea\"** experiment  to get all *6* cups correct from *12* cups"
   ]
  },
  {
   "cell_type": "code",
   "execution_count": 6,
   "id": "0b2d80f0",
   "metadata": {},
   "outputs": [
    {
     "data": {
      "text/plain": [
       "495"
      ]
     },
     "execution_count": 6,
     "metadata": {},
     "output_type": "execute_result"
    }
   ],
   "source": [
    "math.comb(12, 4)"
   ]
  },
  {
   "cell_type": "code",
   "execution_count": 7,
   "id": "75058fdf",
   "metadata": {},
   "outputs": [
    {
     "data": {
      "text/plain": [
       "495"
      ]
     },
     "execution_count": 7,
     "metadata": {},
     "output_type": "execute_result"
    }
   ],
   "source": [
    "math.comb(12, 8)"
   ]
  },
  {
   "cell_type": "markdown",
   "id": "257bd755",
   "metadata": {},
   "source": [
    "We can notice that there were 12 cups in total, 4 with milk in the first and 8 with tea in the first - or vice versa, the probability is the same."
   ]
  },
  {
   "cell_type": "markdown",
   "id": "c928a473",
   "metadata": {},
   "source": [
    "\n",
    "### 2.1 *Bonus:*  <a class=\"anchor\" id=\"Bonus\"></a>\n",
    "***\n",
    "<div class=\"alert alert-info\"><h5>How many would be required if you were to let the taster get one cup wrong while maintaining the 1% threshold?</h5></div>"
   ]
  },
  {
   "cell_type": "code",
   "execution_count": 8,
   "id": "d549af80",
   "metadata": {},
   "outputs": [
    {
     "data": {
      "text/plain": [
       "70"
      ]
     },
     "execution_count": 8,
     "metadata": {},
     "output_type": "execute_result"
    }
   ],
   "source": [
    "# Number of ways of selecting 4 cups from 8.\n",
    "math.comb(8, 4)"
   ]
  },
  {
   "cell_type": "code",
   "execution_count": 9,
   "id": "fc79fab5",
   "metadata": {},
   "outputs": [
    {
     "data": {
      "text/plain": [
       "0.014285714285714285"
      ]
     },
     "execution_count": 9,
     "metadata": {},
     "output_type": "execute_result"
    }
   ],
   "source": [
    "1.0 / math.comb(8, 4)"
   ]
  },
  {
   "cell_type": "code",
   "execution_count": 10,
   "id": "313b0283",
   "metadata": {
    "scrolled": true
   },
   "outputs": [
    {
     "data": {
      "text/plain": [
       "5"
      ]
     },
     "execution_count": 10,
     "metadata": {},
     "output_type": "execute_result"
    }
   ],
   "source": [
    "math.comb(5, 4)"
   ]
  },
  {
   "cell_type": "code",
   "execution_count": 11,
   "id": "bc8c1659",
   "metadata": {},
   "outputs": [
    {
     "data": {
      "text/plain": [
       "0.25"
      ]
     },
     "execution_count": 11,
     "metadata": {},
     "output_type": "execute_result"
    }
   ],
   "source": [
    "1.0 / math.comb(4, 3)"
   ]
  },
  {
   "cell_type": "code",
   "execution_count": 12,
   "id": "6f9a7e76",
   "metadata": {},
   "outputs": [
    {
     "data": {
      "text/plain": [
       "5"
      ]
     },
     "execution_count": 12,
     "metadata": {},
     "output_type": "execute_result"
    }
   ],
   "source": [
    "math.comb(5, 1)"
   ]
  },
  {
   "cell_type": "markdown",
   "id": "59b85c7d",
   "metadata": {},
   "source": [
    "## 3. Question 2 <a class=\"anchor\" id=\"Question_2\"></a>\n",
    "***\n",
    "\n",
    "<div class=\"alert alert-info\"><h5>Use <a href=\"https://docs.scipy.org/doc/scipy/reference/generated/scipy.stats.fisher_exact.html\" style=\"color: #ff791e\">scipy's version of Fisher's exact test</a> to simulate the Lady Tasting Tea problem.</h5></div>"
   ]
  },
  {
   "cell_type": "markdown",
   "id": "8718b31e",
   "metadata": {},
   "source": [
    "**Perform a Fisher exact test on a 2x2 contingency table.**\n",
    "\n",
    "\n",
    "### `scipy.stats.fisher_exact`\n",
    "\n",
    "`scipy.stats.fisher_exact(table, alternative='two-sided')`\n",
    "<a href=\"https://github.com/scipy/scipy/blob/v1.9.2/scipy/stats/_stats_py.py#L4492-L4723\" style=\"color: #1bde58\">\n",
    " [source]</a>\n",
    "\n",
    "\n",
    "Fisher exact test on a 2x2 contingency table.\n",
    "\n",
    "\n",
    "|| Tea | Milk |\n",
    "| :- | -: | :-: |\n",
    "| Selected Tea | 4 | 0|\n",
    "| Selected Milk | 0 | 4|\n",
    "\n",
    "\n",
    "The null hypothesis is that the true odds ratio of the populations underlying the observations is one, and the observations were sampled from these populations under a condition: the marginals of the resulting table must equal those of the observed table. The statistic returned is the unconditional maximum likelihood estimate of the odds ratio, and the p-value is the probability under the null hypothesis of obtaining a table at least as extreme as the one that was actually observed. There are other possible choices of statistic and two-sided p-value definition associated with Fisher’s exact test.\n",
    "\n",
    "**Parameters:**\n",
    "\n",
    "_**table**_: array_like of ints \n",
    "- A 2x2 contingency table with non-negative integers.\n",
    "\n",
    "_**alternative**_: {‘two-sided’, ‘less’, ‘greater’}, optional\n",
    "- Defines the alternative hypothesis. The following options are available (default is ‘two-sided’):\n",
    "\n",
    " - ‘two-sided’: the odds ratio of the underlying population is not one\n",
    "\n",
    " - ‘less’: the odds ratio of the underlying population is less than one\n",
    "\n",
    " - ‘greater’: the odds ratio of the underlying population is greater than one"
   ]
  },
  {
   "cell_type": "code",
   "execution_count": null,
   "id": "9bf3b093",
   "metadata": {},
   "outputs": [],
   "source": []
  },
  {
   "cell_type": "code",
   "execution_count": null,
   "id": "9be3fb77",
   "metadata": {},
   "outputs": [],
   "source": []
  },
  {
   "cell_type": "code",
   "execution_count": 13,
   "id": "23760035",
   "metadata": {},
   "outputs": [],
   "source": [
    "# import statistical methods\n",
    "import scipy.stats as ss"
   ]
  },
  {
   "cell_type": "code",
   "execution_count": 14,
   "id": "993cc886",
   "metadata": {},
   "outputs": [
    {
     "data": {
      "text/plain": [
       "<function scipy.stats.stats.fisher_exact(table, alternative='two-sided')>"
      ]
     },
     "execution_count": 14,
     "metadata": {},
     "output_type": "execute_result"
    }
   ],
   "source": [
    "# Perform a Fisher exact test \n",
    "ss.fisher_exact"
   ]
  },
  {
   "cell_type": "code",
   "execution_count": 15,
   "id": "7ab63ab8",
   "metadata": {},
   "outputs": [
    {
     "data": {
      "text/plain": [
       "(inf, 0.028571428571428536)"
      ]
     },
     "execution_count": 15,
     "metadata": {},
     "output_type": "execute_result"
    }
   ],
   "source": [
    "# Create a probability table above given the lady tasting tea experiment\n",
    "ss.fisher_exact([[4, 0], [0, 4]])"
   ]
  },
  {
   "cell_type": "markdown",
   "id": "44ca0bff",
   "metadata": {},
   "source": [
    "#### Table based on an experiment with a lady tasting tea\n",
    "|| Tea | Milk |\n",
    "| :- | -: | :-: |\n",
    "| Selected Tea | 4 | 0|\n",
    "| Selected Milk | 0 | 4|"
   ]
  },
  {
   "cell_type": "code",
   "execution_count": 16,
   "id": "608115d4",
   "metadata": {},
   "outputs": [],
   "source": [
    "# Create a probability table above given the lady tasting tea experiment\n",
    "table = ([[4,0], [0,4]])"
   ]
  },
  {
   "cell_type": "code",
   "execution_count": 17,
   "id": "8ed602ce",
   "metadata": {},
   "outputs": [
    {
     "data": {
      "text/plain": [
       "0.028571428571428536"
      ]
     },
     "execution_count": 17,
     "metadata": {},
     "output_type": "execute_result"
    }
   ],
   "source": [
    "# Perform a Fisher exact test \n",
    "oddsratio, p_value = ss.fisher_exact(table)\n",
    "p_value"
   ]
  },
  {
   "cell_type": "markdown",
   "id": "22a73bc1",
   "metadata": {},
   "source": [
    "When running the Fisher Exact Test:`ss.fisher_exact(table)` without specifying the second `alternative` parameter, it goes by default as `two-sided`, but in our case, we have to use it as `greater`. Because the odds ratio of the underlying population is greater than one.\n",
    "\n",
    "Let's try to include the second parameter: `alternative` as `greater` to get the correct result."
   ]
  },
  {
   "cell_type": "code",
   "execution_count": 18,
   "id": "be44450b",
   "metadata": {
    "scrolled": true
   },
   "outputs": [
    {
     "data": {
      "text/plain": [
       "0.014285714285714268"
      ]
     },
     "execution_count": 18,
     "metadata": {},
     "output_type": "execute_result"
    }
   ],
   "source": [
    "# Perform a Fisher exact test with adding the second parameter alternative='greater': the odds ratio of the underlying population is greater than one\n",
    "oddsratio, p_value = ss.fisher_exact(table, alternative='greater')\n",
    "p_value"
   ]
  },
  {
   "cell_type": "code",
   "execution_count": 19,
   "id": "92df9e58",
   "metadata": {},
   "outputs": [
    {
     "name": "stdout",
     "output_type": "stream",
     "text": [
      "The probability of the lady-tasting tea experiment for 4 out of 8 cups that had milk added first is:0.014285714285714268\n"
     ]
    }
   ],
   "source": [
    "print(f'The probability of the lady-tasting tea experiment for 4 out of 8 cups that had milk added first is:{p_value}')"
   ]
  },
  {
   "cell_type": "markdown",
   "id": "f22eec19",
   "metadata": {},
   "source": [
    "## 4. Question 3 <a class=\"anchor\" id=\"Question_3\"></a>\n",
    "***\n",
    "<div class=\"alert alert-info\"><h5>Take the code from the <a href=\"https://docs.scipy.org/doc/scipy/reference/generated/scipy.stats.ttest_ind.html\" style=\"color: #ff791e\">Examples section of the scipy stats documentation for independent samples t-tests</a>, add it to your own notebook and add explain how it works using MarkDown cells and code comments. Improve it in any way you think it could be improved</h5></div>"
   ]
  },
  {
   "cell_type": "markdown",
   "id": "9ca43522",
   "metadata": {},
   "source": [
    "**The T-test for the means of two independent samples of scores.**\n",
    "\n",
    "### `scipy.stats.ttest_ind`\n",
    "\n",
    "`scipy.stats.ttest_ind(a, b, axis=0, equal_var=True, nan_policy='propagate', permutations=None, random_state=None, alternative='two-sided', trim=0)`\n",
    "<a href=\"https://github.com/scipy/scipy/blob/v1.9.2/scipy/stats/_stats_py.py#L6314-L6597\" style=\"color: #1bde58\">\n",
    " [source]</a>\n",
    " \n",
    " \n",
    " This is a test for the null hypothesis that 2 independent samples have identical average (expected) values. This test assumes that the populations have identical variances by default.\n",
    " \n",
    " **Parameters:**\n",
    "\n",
    "_**a, b**_: array_like \n",
    "- The arrays must have the same shape, except in the dimension corresponding to axis (the first, by default).\n",
    "\n",
    "_**axis**_: int or None, optional\n",
    "- Axis along which to compute test. If None, compute over the whole arrays, a, and b.\n",
    "\n",
    "_**equal_var**_: bool, optional\n",
    "- If True (default), perform a standard independent 2 sample test that assumes equal population variances. If False, perform Welch’s t-test, which does not assume equal population variance.\n",
    "\n",
    "_**nan_policy**_: {‘propagate’, ‘raise’, ‘omit’}, optional\n",
    "- Defines how to handle when input contains nan. The following options are available (default is ‘propagate’):\n",
    "\n",
    " - ‘propagate’: returns nan\n",
    "\n",
    " - ‘raise’: throws an error\n",
    "\n",
    " - ‘omit’: performs the calculations ignoring nan values\n",
    "\n",
    " The ‘omit’ option is not currently available for permutation tests or one-sided asympyotic tests.\n",
    " \n",
    "_**permutations**_: non-negative int, np.inf, or None (default), optional\n",
    "- If 0 or None (default), use the t-distribution to calculate p-values. Otherwise, permutations is the number of random permutations that will be used to estimate p-values using a permutation test. If permutations equals or exceeds the number of distinct partitions of the pooled data, an exact test is performed instead (i.e. each distinct partition is used exactly once). See Notes for details.\n",
    "\n",
    "_**random_state**_: {None, int, numpy.random.Generator, numpy.random.RandomState}, optional\n",
    "- If seed is None (or np.random), the numpy.random.RandomState singleton is used. If seed is an int, a new RandomState instance is used, seeded with seed. If seed is already a Generator or RandomState instance then that instance is used. Pseudorandom number generator state used to generate permutations (used only when permutations is not None).\n",
    "\n",
    "_**alternative**_: {‘two-sided’, ‘less’, ‘greater’}, optional\n",
    "- Defines the alternative hypothesis. The following options are available (default is ‘two-sided’):\n",
    "\n",
    " - ‘two-sided’: the means of the distributions underlying the samples are unequal.\n",
    "\n",
    " - ‘less’: the mean of the distribution underlying the first sample is less than the mean of the distribution underlying the second sample.\n",
    "\n",
    " - ‘greater’: the mean of the distribution underlying the first sample is greater than the mean of the distribution underlying the second sample.\n",
    " \n",
    "_**trim**_: float, optional\n",
    "- If nonzero, performs a trimmed (Yuen’s) t-test. Defines the fraction of elements to be trimmed from each end of the input samples. If 0 (default), no elements will be trimmed from either side. The number of trimmed elements from each tail is the floor of the trim times the number of elements. Valid range is [0, .5)\n",
    "\n",
    "_**statistic**_: float or array\n",
    "- The calculated t-statistic.\n",
    "\n",
    "_**pvalue**_: float or array\n",
    "- The p-value."
   ]
  },
  {
   "cell_type": "markdown",
   "id": "a01445c7",
   "metadata": {},
   "source": [
    "#### Examples"
   ]
  },
  {
   "cell_type": "code",
   "execution_count": null,
   "id": "f69db1c0",
   "metadata": {},
   "outputs": [],
   "source": []
  },
  {
   "cell_type": "markdown",
   "id": "46ae3b4e",
   "metadata": {},
   "source": []
  },
  {
   "cell_type": "code",
   "execution_count": 20,
   "id": "bdac9de0",
   "metadata": {},
   "outputs": [],
   "source": [
    "'''The scipy.stats module specializes in random variables and probability distributions. \n",
    "   It implements more than 80 continuous distributions and 10 discrete distributions. \n",
    "   In what follows we learn how to use the basic functionality. \n",
    "   For the more detailed reference manual we refer to[4]'''\n",
    "from scipy import stats\n",
    "import numpy as np"
   ]
  },
  {
   "cell_type": "code",
   "execution_count": 21,
   "id": "f87b7573",
   "metadata": {},
   "outputs": [],
   "source": [
    "rng = np.random.default_rng()"
   ]
  },
  {
   "cell_type": "code",
   "execution_count": 22,
   "id": "0c6c2504",
   "metadata": {},
   "outputs": [],
   "source": [
    "rvs1 = stats.norm.rvs(loc=5, scale=10, size=500, random_state=rng)\n",
    "rvs2 = stats.norm.rvs(loc=5, scale=10, size=500, random_state=rng)"
   ]
  },
  {
   "cell_type": "code",
   "execution_count": 23,
   "id": "e5685dcc",
   "metadata": {},
   "outputs": [
    {
     "data": {
      "text/plain": [
       "Ttest_indResult(statistic=-1.6039030787804238, pvalue=0.10905181451334159)"
      ]
     },
     "execution_count": 23,
     "metadata": {},
     "output_type": "execute_result"
    }
   ],
   "source": [
    "stats.ttest_ind(rvs1, rvs2)"
   ]
  },
  {
   "cell_type": "code",
   "execution_count": 24,
   "id": "db17b0f2",
   "metadata": {},
   "outputs": [
    {
     "data": {
      "text/plain": [
       "Ttest_indResult(statistic=-1.6039030787804238, pvalue=0.10905249452802411)"
      ]
     },
     "execution_count": 24,
     "metadata": {},
     "output_type": "execute_result"
    }
   ],
   "source": [
    "stats.ttest_ind(rvs1, rvs2, equal_var=False)"
   ]
  },
  {
   "cell_type": "code",
   "execution_count": null,
   "id": "6f99ebb6",
   "metadata": {},
   "outputs": [],
   "source": []
  },
  {
   "cell_type": "code",
   "execution_count": null,
   "id": "b48c61a4",
   "metadata": {},
   "outputs": [],
   "source": []
  },
  {
   "cell_type": "code",
   "execution_count": null,
   "id": "df202142",
   "metadata": {},
   "outputs": [],
   "source": []
  },
  {
   "cell_type": "code",
   "execution_count": null,
   "id": "84e6d696",
   "metadata": {},
   "outputs": [],
   "source": []
  },
  {
   "cell_type": "code",
   "execution_count": null,
   "id": "b75a6aee",
   "metadata": {},
   "outputs": [],
   "source": []
  },
  {
   "cell_type": "code",
   "execution_count": null,
   "id": "e972c403",
   "metadata": {},
   "outputs": [],
   "source": []
  },
  {
   "cell_type": "code",
   "execution_count": null,
   "id": "8f22d02a",
   "metadata": {},
   "outputs": [],
   "source": []
  },
  {
   "cell_type": "markdown",
   "id": "63a0bb3e",
   "metadata": {},
   "source": [
    "## References<a class=\"anchor\" id=\"References\"></a>\n",
    "***\n",
    "\n",
    "[1] https://brainder.org/2015/08/23/the-lady-tasting-tea-and-fishers-exact-test/#:~:text=The%20probability%20can%20be%20calculated%20as%3A&text=Thus%2C%20if%20the%20lady%20is,%2C%20i.e.%2C%20about%2024%25.\n",
    "\n",
    "[2] https://www.w3schools.com/python/ref_math_comb.asp#:~:text=The%20math.,method%20must%20be%20positive%20integers / https://docs.python.org/3/library/math.html \n",
    "\n",
    "[3] https://stackoverflow.com/a/4941932\n",
    "\n",
    "[4] https://docs.scipy.org/doc/scipy/tutorial/stats.html\n",
    "\n"
   ]
  },
  {
   "cell_type": "markdown",
   "id": "62ffca1b",
   "metadata": {},
   "source": [
    "### End"
   ]
  },
  {
   "cell_type": "code",
   "execution_count": 25,
   "id": "af6cd2fd",
   "metadata": {},
   "outputs": [
    {
     "ename": "SyntaxError",
     "evalue": "invalid syntax (2070381163.py, line 1)",
     "output_type": "error",
     "traceback": [
      "\u001b[0;36m  File \u001b[0;32m\"/tmp/ipykernel_2156/2070381163.py\"\u001b[0;36m, line \u001b[0;32m1\u001b[0m\n\u001b[0;31m    <br>\u001b[0m\n\u001b[0m    ^\u001b[0m\n\u001b[0;31mSyntaxError\u001b[0m\u001b[0;31m:\u001b[0m invalid syntax\n"
     ]
    }
   ],
   "source": [
    "<br>\n",
    "\n",
    "<center><img src=\"https://s3.us-east-2.amazonaws.com/brainder/2015/tastingtea/tasting_tea_550.jpg\"></center>\n",
    "\n",
    "\n",
    "\n",
    "<br>\n",
    "\n",
    "# **<center> The lady tasting tea experiment</center>**\n",
    "\n",
    "<br>\n",
    " \n",
    "***\n",
    "    \n",
    "*__<div style=\"text-align: right\"> Author: Denis Sarf </div>__*\n",
    "    \n",
    "<br>\n",
    "\n",
    "### Table of Contents\n",
    "\n",
    "***\n",
    "* [1. Introduction](#Introduction)\n",
    "\n",
    "* [2. Question 1](#Question_1)\n",
    "* [2.1 Bonus](#Bonus)\n",
    "* [3. Question 2](#Question_2)\n",
    "* [4. Question 3](#Question_3)\n",
    "* [References](#References)\n",
    "\n",
    "## 1. Introduction <a class=\"anchor\" id=\"Introduction\"></a>$^{[1]}$\n",
    "***\n",
    "\n",
    "<h5>The now famous story is that in an otherwise unremarkable summer afternoon in Cambridge in the 1920’s, a group of friends eventually discussed about the claims made by one of the presents about her abilities on discriminating whether milk was poured first or last when preparing a cup of tea with milk. One of the presents was Ronald Fisher, and the story, along with a detailed description of how to conduct a simple experiment to test the claimed ability, and how to obtain an exact solution, was presented at length in the Chapter 2 of his book The Design of Experiments, a few lines of which are quoted below:</h5>\n",
    "\n",
    "<div align=\"center\" class=\"alert alert-block alert-success\">A lady declares that by tasting a cup of tea made with milk she can discriminate whether the milk or the tea infusion was first added to the cup. We will consider the problem of designing an experiment by means of which this assertion can be tested. […] [It] consists in mixing eight cups of tea, four in one way and four in the other, and presenting them to the subject for judgment in a random order. The subject has been told in advance of that the test will consist, namely, that she will be asked to taste eight cups, that these shall be four of each kind […]</div>\n",
    "<div style=\"text-align: center\"><b>Fisher, 1935</b></div>\n",
    "\n",
    "<h5>The lady in question (Muriel Bristol) claimed to be able to tell whether the tea or the milk was added first to a cup. Fisher proposed to give her eight cups, four of each variety, in random order. One could then ask what the probability was for her getting the specific number of cups she identified correct, but just by chance.</h5>\n",
    "\n",
    "<h5>Fisher's description is less than 10 pages in length and is notable for its simplicity and completeness regarding terminology, calculations and design of the experiment.The example is loosely based on an event in Fisher's life. The test used was Fisher's exact test.</h5>\n",
    "\n",
    "***\n",
    "\n",
    "<h5>There are</h5> \n",
    "<br>\n",
    "$${8 \\choose 4} = \\frac{8!}{4!(8-4)!} = 70$$<br>\n",
    "<br>\n",
    "<h5>distinct possible orderings of these cups, and by telling the subject in advance that there are four cups of each type, this guarantees that the answer will include four of each.</h5>\n",
    "\n",
    "<br>\n",
    "\n",
    "<center><img src=\"https://s3.us-east-2.amazonaws.com/brainder/2015/tastingtea/tea_cups.png\"></center>\n",
    "\n",
    "\n",
    "<br>\n",
    "\n",
    "## 2. Question 1 <a class=\"anchor\" id=\"Question_1\"></a>\n",
    "\n",
    "***\n",
    "\n",
    "<div class=\"alert alert-info\"><h5> Calculate the minimum number of cups of tea required to ensure the probability of randomly selecting the correct cups is less than or equal to 1%.</h5></div>\n",
    "\n",
    "_We need to import Python modules, that can access code from another module by importing a file/function using import._\n",
    "\n",
    "# Math module.\n",
    "import math\n",
    "\n",
    "_The math.comb() method returns the number of ways picking k unordered outcomes from n possibilities, without repetition, also known as combinations.$^{[2]}$_\n",
    "\n",
    "**Parameters:**\n",
    "\n",
    "_**n**_: The positive integers of items from which to choose\n",
    "\n",
    "_**k**_: The positive integers of items to choose\n",
    "\n",
    "_The following is adapted from stackoverflow$^{[3]}$_\n",
    "\n",
    "\n",
    "# Number of ways of selecting 4 cups from 8.\n",
    "math.comb(8, 4)\n",
    "\n",
    "Possible outcomes of the **\"lady tasting tea\"** experiment  to get all *4* cups correct from *8* cups\n",
    "\n",
    "1.0 / math.comb(8, 4)\n",
    "\n",
    "# Number of ways of selecting 5 cups from 10.\n",
    "math.comb(10, 5)\n",
    "\n",
    "Possible outcomes of the **\"lady tasting tea\"** experiment  to get all *5* cups correct from *10* cups\n",
    "\n",
    "# Probability of randomly selecting correct 5 cups is:\n",
    "1.0 / math.comb(10, 5)\n",
    "\n",
    "_As a result of the experiment was performed with 10 cups, 5 with milk and 5 with tea, then the probability of a correct random selection is much less than 1%._\n",
    "\n",
    "Possible outcomes of the **\"lady tasting tea\"** experiment  to get all *6* cups correct from *12* cups\n",
    "\n",
    "math.comb(12, 4)\n",
    "\n",
    "math.comb(12, 8)\n",
    "\n",
    "We can notice that there were 12 cups in total, 4 with milk in the first and 8 with tea in the first - or vice versa, the probability is the same.\n",
    "\n",
    "\n",
    "### 2.1 *Bonus:*  <a class=\"anchor\" id=\"Bonus\"></a>\n",
    "***\n",
    "<div class=\"alert alert-info\"><h5>How many would be required if you were to let the taster get one cup wrong while maintaining the 1% threshold?</h5></div>\n",
    "\n",
    "# Number of ways of selecting 4 cups from 8.\n",
    "math.comb(8, 4)\n",
    "\n",
    "1.0 / math.comb(8, 4)\n",
    "\n",
    "math.comb(5, 4)\n",
    "\n",
    "1.0 / math.comb(4, 3)\n",
    "\n",
    "math.comb(5, 1)\n",
    "\n",
    "## 3. Question 2 <a class=\"anchor\" id=\"Question_2\"></a>\n",
    "***\n",
    "\n",
    "<div class=\"alert alert-info\"><h5>Use <a href=\"https://docs.scipy.org/doc/scipy/reference/generated/scipy.stats.fisher_exact.html\" style=\"color: #ff791e\">scipy's version of Fisher's exact test</a> to simulate the Lady Tasting Tea problem.</h5></div>\n",
    "\n",
    "**Perform a Fisher exact test on a 2x2 contingency table.**\n",
    "\n",
    "\n",
    "### `scipy.stats.fisher_exact`\n",
    "\n",
    "`scipy.stats.fisher_exact(table, alternative='two-sided')`\n",
    "<a href=\"https://github.com/scipy/scipy/blob/v1.9.2/scipy/stats/_stats_py.py#L4492-L4723\" style=\"color: #1bde58\">\n",
    " [source]</a>\n",
    "\n",
    "\n",
    "Fisher exact test on a 2x2 contingency table.\n",
    "\n",
    "\n",
    "|| Tea | Milk |\n",
    "| :- | -: | :-: |\n",
    "| Selected Tea | 4 | 0|\n",
    "| Selected Milk | 0 | 4|\n",
    "\n",
    "\n",
    "The null hypothesis is that the true odds ratio of the populations underlying the observations is one, and the observations were sampled from these populations under a condition: the marginals of the resulting table must equal those of the observed table. The statistic returned is the unconditional maximum likelihood estimate of the odds ratio, and the p-value is the probability under the null hypothesis of obtaining a table at least as extreme as the one that was actually observed. There are other possible choices of statistic and two-sided p-value definition associated with Fisher’s exact test.\n",
    "\n",
    "**Parameters:**\n",
    "\n",
    "_**table**_: array_like of ints \n",
    "- A 2x2 contingency table with non-negative integers.\n",
    "\n",
    "_**alternative**_: {‘two-sided’, ‘less’, ‘greater’}, optional\n",
    "- Defines the alternative hypothesis. The following options are available (default is ‘two-sided’):\n",
    "\n",
    " - ‘two-sided’: the odds ratio of the underlying population is not one\n",
    "\n",
    " - ‘less’: the odds ratio of the underlying population is less than one\n",
    "\n",
    " - ‘greater’: the odds ratio of the underlying population is greater than one\n",
    "\n",
    "\n",
    "\n",
    "\n",
    "\n",
    "# import statistical methods\n",
    "import scipy.stats as ss\n",
    "\n",
    "# Perform a Fisher exact test \n",
    "ss.fisher_exact\n",
    "\n",
    "# Create a probability table above given the lady tasting tea experiment\n",
    "ss.fisher_exact([[4, 0], [0, 4]])\n",
    "\n",
    "#### Table based on an experiment with a lady tasting tea\n",
    "|| Tea | Milk |\n",
    "| :- | -: | :-: |\n",
    "| Selected Tea | 4 | 0|\n",
    "| Selected Milk | 0 | 4|\n",
    "\n",
    "# Create a probability table above given the lady tasting tea experiment\n",
    "table = ([[4,0], [0,4]])\n",
    "\n",
    "# Perform a Fisher exact test \n",
    "oddsratio, p_value = ss.fisher_exact(table)\n",
    "p_value\n",
    "\n",
    "When running the Fisher Exact Test:`ss.fisher_exact(table)` without specifying the second `alternative` parameter, it goes by default as `two-sided`, but in our case, we have to use it as `greater`. Because the odds ratio of the underlying population is greater than one.\n",
    "\n",
    "Let's try to include the second parameter: `alternative` as `greater` to get the correct result.\n",
    "\n",
    "# Perform a Fisher exact test with adding the second parameter alternative='greater': the odds ratio of the underlying population is greater than one\n",
    "oddsratio, p_value = ss.fisher_exact(table, alternative='greater')\n",
    "p_value\n",
    "\n",
    "print(f'The probability of the lady-tasting tea experiment for 4 out of 8 cups that had milk added first is:{p_value}')\n",
    "\n",
    "## 4. Question 3 <a class=\"anchor\" id=\"Question_3\"></a>\n",
    "***\n",
    "<div class=\"alert alert-info\"><h5>Take the code from the <a href=\"https://docs.scipy.org/doc/scipy/reference/generated/scipy.stats.ttest_ind.html\" style=\"color: #ff791e\">Examples section of the scipy stats documentation for independent samples t-tests</a>, add it to your own notebook and add explain how it works using MarkDown cells and code comments. Improve it in any way you think it could be improved</h5></div>\n",
    "\n",
    "**The T-test for the means of two independent samples of scores.**\n",
    "\n",
    "### `scipy.stats.ttest_ind`\n",
    "\n",
    "`scipy.stats.ttest_ind(a, b, axis=0, equal_var=True, nan_policy='propagate', permutations=None, random_state=None, alternative='two-sided', trim=0)`\n",
    "<a href=\"https://github.com/scipy/scipy/blob/v1.9.2/scipy/stats/_stats_py.py#L6314-L6597\" style=\"color: #1bde58\">\n",
    " [source]</a>\n",
    " \n",
    " \n",
    " This is a test for the null hypothesis that 2 independent samples have identical average (expected) values. This test assumes that the populations have identical variances by default.\n",
    " \n",
    " **Parameters:**\n",
    "\n",
    "_**a, b**_: array_like \n",
    "- The arrays must have the same shape, except in the dimension corresponding to axis (the first, by default).\n",
    "\n",
    "_**axis**_: int or None, optional\n",
    "- Axis along which to compute test. If None, compute over the whole arrays, a, and b.\n",
    "\n",
    "_**equal_var**_: bool, optional\n",
    "- If True (default), perform a standard independent 2 sample test that assumes equal population variances. If False, perform Welch’s t-test, which does not assume equal population variance.\n",
    "\n",
    "_**nan_policy**_: {‘propagate’, ‘raise’, ‘omit’}, optional\n",
    "- Defines how to handle when input contains nan. The following options are available (default is ‘propagate’):\n",
    "\n",
    " - ‘propagate’: returns nan\n",
    "\n",
    " - ‘raise’: throws an error\n",
    "\n",
    " - ‘omit’: performs the calculations ignoring nan values\n",
    "\n",
    " The ‘omit’ option is not currently available for permutation tests or one-sided asympyotic tests.\n",
    " \n",
    "_**permutations**_: non-negative int, np.inf, or None (default), optional\n",
    "- If 0 or None (default), use the t-distribution to calculate p-values. Otherwise, permutations is the number of random permutations that will be used to estimate p-values using a permutation test. If permutations equals or exceeds the number of distinct partitions of the pooled data, an exact test is performed instead (i.e. each distinct partition is used exactly once). See Notes for details.\n",
    "\n",
    "_**random_state**_: {None, int, numpy.random.Generator, numpy.random.RandomState}, optional\n",
    "- If seed is None (or np.random), the numpy.random.RandomState singleton is used. If seed is an int, a new RandomState instance is used, seeded with seed. If seed is already a Generator or RandomState instance then that instance is used. Pseudorandom number generator state used to generate permutations (used only when permutations is not None).\n",
    "\n",
    "_**alternative**_: {‘two-sided’, ‘less’, ‘greater’}, optional\n",
    "- Defines the alternative hypothesis. The following options are available (default is ‘two-sided’):\n",
    "\n",
    " - ‘two-sided’: the means of the distributions underlying the samples are unequal.\n",
    "\n",
    " - ‘less’: the mean of the distribution underlying the first sample is less than the mean of the distribution underlying the second sample.\n",
    "\n",
    " - ‘greater’: the mean of the distribution underlying the first sample is greater than the mean of the distribution underlying the second sample.\n",
    " \n",
    "_**trim**_: float, optional\n",
    "- If nonzero, performs a trimmed (Yuen’s) t-test. Defines the fraction of elements to be trimmed from each end of the input samples. If 0 (default), no elements will be trimmed from either side. The number of trimmed elements from each tail is the floor of the trim times the number of elements. Valid range is [0, .5)\n",
    "\n",
    "_**statistic**_: float or array\n",
    "- The calculated t-statistic.\n",
    "\n",
    "_**pvalue**_: float or array\n",
    "- The p-value.\n",
    "\n",
    "#### Examples\n",
    "\n",
    "\n",
    "\n",
    "\n",
    "\n",
    "'''The scipy.stats module specializes in random variables and probability distributions. \n",
    "   It implements more than 80 continuous distributions and 10 discrete distributions. \n",
    "   In what follows we learn how to use the basic functionality. \n",
    "   For the more detailed reference manual we refer to[4]'''\n",
    "from scipy import stats\n",
    "import numpy as np\n",
    "\n",
    "rng = np.random.default_rng()\n",
    "\n",
    "rvs1 = stats.norm.rvs(loc=5, scale=10, size=500, random_state=rng)\n",
    "rvs2 = stats.norm.rvs(loc=5, scale=10, size=500, random_state=rng)\n",
    "\n",
    "stats.ttest_ind(rvs1, rvs2)\n",
    "\n",
    "stats.ttest_ind(rvs1, rvs2, equal_var=False)\n",
    "\n",
    "\n",
    "\n",
    "\n",
    "\n",
    "\n",
    "\n",
    "\n",
    "\n",
    "\n",
    "\n",
    "\n",
    "\n",
    "\n",
    "\n",
    "## References<a class=\"anchor\" id=\"References\"></a>\n",
    "***\n",
    "\n",
    "[1] https://brainder.org/2015/08/23/the-lady-tasting-tea-and-fishers-exact-test/#:~:text=The%20probability%20can%20be%20calculated%20as%3A&text=Thus%2C%20if%20the%20lady%20is,%2C%20i.e.%2C%20about%2024%25.\n",
    "\n",
    "[2] https://www.w3schools.com/python/ref_math_comb.asp#:~:text=The%20math.,method%20must%20be%20positive%20integers / https://docs.python.org/3/library/math.html \n",
    "\n",
    "[3] https://stackoverflow.com/a/4941932\n",
    "\n",
    "[4] https://docs.scipy.org/doc/scipy/tutorial/stats.html\n",
    "\n",
    "\n",
    "\n",
    "### End"
   ]
  }
 ],
 "metadata": {
  "kernelspec": {
   "display_name": "Python 3 (ipykernel)",
   "language": "python",
   "name": "python3"
  },
  "language_info": {
   "codemirror_mode": {
    "name": "ipython",
    "version": 3
   },
   "file_extension": ".py",
   "mimetype": "text/x-python",
   "name": "python",
   "nbconvert_exporter": "python",
   "pygments_lexer": "ipython3",
   "version": "3.8.10"
  }
 },
 "nbformat": 4,
 "nbformat_minor": 5
}
