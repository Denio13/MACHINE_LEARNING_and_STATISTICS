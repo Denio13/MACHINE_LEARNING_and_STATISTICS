{
 "cells": [
  {
   "cell_type": "markdown",
   "id": "45e9a123",
   "metadata": {},
   "source": [
    "<h4 style=\"text-align: left\">Topic IV:</h4>\n",
    "\n",
    "# **<center> Machine Learning </center>**\n",
    "\n",
    " \n",
    "***\n",
    "    \n",
    "*__<div style=\"text-align: right\"> Author: Denis Sarf </div>__*\n",
    "    \n",
    "<br>"
   ]
  },
  {
   "cell_type": "markdown",
   "id": "ceb27ebc",
   "metadata": {},
   "source": [
    "Install **Tensorflow** `conda install tensorflow`$^{[1]}$\n",
    "***\n",
    "Import all required libraries"
   ]
  },
  {
   "cell_type": "code",
   "execution_count": 2,
   "id": "7e02d1fc",
   "metadata": {},
   "outputs": [],
   "source": [
    "# Numerical arrays.\n",
    "import numpy as np\n",
    "\n",
    "# Plotting.\n",
    "import matplotlib.pyplot as plt\n",
    "\n",
    "# Neural networks.\n",
    "import tensorflow.keras as keras"
   ]
  },
  {
   "cell_type": "code",
   "execution_count": 3,
   "id": "1c94c461",
   "metadata": {},
   "outputs": [
    {
     "name": "stdout",
     "output_type": "stream",
     "text": [
      "2.11.0\n"
     ]
    }
   ],
   "source": [
    "# Check tensorflow version\n",
    "import tensorflow as tf; print(tf.__version__)"
   ]
  },
  {
   "cell_type": "code",
   "execution_count": 4,
   "id": "11440780",
   "metadata": {},
   "outputs": [],
   "source": [
    "# Horrible hack from: https://stackoverflow.com/a/53014308\n",
    "import os \n",
    "# for some reason, the following is needed to run\n",
    "os.environ['KMP_DUPLICATE_LIB_OK']='True'  "
   ]
  },
  {
   "cell_type": "code",
   "execution_count": 5,
   "id": "6c8e4c35",
   "metadata": {},
   "outputs": [],
   "source": [
    "# Identity activation function.\n",
    "def identity(x):\n",
    "    return x"
   ]
  },
  {
   "cell_type": "code",
   "execution_count": 6,
   "id": "c88e6f4a",
   "metadata": {},
   "outputs": [],
   "source": [
    "# Firing a neuron.\n",
    "def fire_neuron(x, w, phi):\n",
    "    return phi(np.sum(x * w))"
   ]
  },
  {
   "cell_type": "code",
   "execution_count": 7,
   "id": "a97fb603",
   "metadata": {},
   "outputs": [
    {
     "data": {
      "text/plain": [
       "(array([ 1., 10.]), array([2., 5.]))"
      ]
     },
     "execution_count": 7,
     "metadata": {},
     "output_type": "execute_result"
    }
   ],
   "source": [
    "# Our x values - always has to have 1.0 at index 0.\n",
    "x = np.array([1.0, 10.0])\n",
    "\n",
    "# Our weights.\n",
    "w = np.array([2.0, 5.0])\n",
    "\n",
    "x, w"
   ]
  },
  {
   "cell_type": "code",
   "execution_count": 8,
   "id": "d5f0240b",
   "metadata": {},
   "outputs": [
    {
     "data": {
      "text/plain": [
       "52.0"
      ]
     },
     "execution_count": 8,
     "metadata": {},
     "output_type": "execute_result"
    }
   ],
   "source": [
    "fire_neuron(x, w, identity)"
   ]
  },
  {
   "cell_type": "markdown",
   "id": "a26b1cf0",
   "metadata": {},
   "source": [
    "### Data\n",
    "***"
   ]
  },
  {
   "cell_type": "code",
   "execution_count": 9,
   "id": "37778f94",
   "metadata": {},
   "outputs": [
    {
     "data": {
      "text/plain": [
       "array([ 1.,  2.,  3.,  4.,  5.,  6.,  7.,  8.,  9., 10., 11., 12.])"
      ]
     },
     "execution_count": 9,
     "metadata": {},
     "output_type": "execute_result"
    }
   ],
   "source": [
    "# Real-world input values.\n",
    "data_in = np.arange(1.0, 13.0, 1.0)\n",
    "\n",
    "data_in"
   ]
  },
  {
   "cell_type": "code",
   "execution_count": 10,
   "id": "cff49d38",
   "metadata": {
    "scrolled": true
   },
   "outputs": [
    {
     "data": {
      "text/plain": [
       "array([ 2.10791688,  4.12264762,  6.05325037,  9.42338387,  9.74739374,\n",
       "       12.93779757, 14.19119213, 16.6495168 , 16.82307064, 21.52029899,\n",
       "       23.41700715, 25.13307554])"
      ]
     },
     "execution_count": 10,
     "metadata": {},
     "output_type": "execute_result"
    }
   ],
   "source": [
    "# Real-world output values.\n",
    "data_out = 2.0 * data_in + np.random.normal(0.0, 1.0, len(data_in))\n",
    "\n",
    "data_out"
   ]
  },
  {
   "cell_type": "code",
   "execution_count": 11,
   "id": "aa827bae",
   "metadata": {},
   "outputs": [],
   "source": [
    "# change figure size\n",
    "plt.rcParams['figure.figsize'] = [20, 6]"
   ]
  },
  {
   "cell_type": "code",
   "execution_count": 12,
   "id": "c90b7b51",
   "metadata": {
    "scrolled": true
   },
   "outputs": [
    {
     "data": {
      "image/png": "[encoded data removed]",
      "text/plain": [
       "<Figure size 1440x432 with 1 Axes>"
      ]
     },
     "metadata": {
      "needs_background": "light"
     },
     "output_type": "display_data"
    }
   ],
   "source": [
    "plt.plot(data_in, data_out, 'k.');"
   ]
  },
  {
   "cell_type": "markdown",
   "id": "bda80fec",
   "metadata": {},
   "source": [
    "### Training\n",
    "***"
   ]
  },
  {
   "cell_type": "code",
   "execution_count": 13,
   "id": "231ce104",
   "metadata": {},
   "outputs": [],
   "source": [
    "# An index in the data set.\n",
    "i = 5"
   ]
  },
  {
   "cell_type": "code",
   "execution_count": 14,
   "id": "3184f537",
   "metadata": {},
   "outputs": [
    {
     "data": {
      "text/plain": [
       "(6.0, 12.937797565511168)"
      ]
     },
     "execution_count": 14,
     "metadata": {},
     "output_type": "execute_result"
    }
   ],
   "source": [
    "# Actual input/output pair from the real world.\n",
    "data_in[i], data_out[i]"
   ]
  },
  {
   "cell_type": "code",
   "execution_count": 15,
   "id": "9142a2b5",
   "metadata": {},
   "outputs": [
    {
     "data": {
      "text/plain": [
       "30.0"
      ]
     },
     "execution_count": 15,
     "metadata": {},
     "output_type": "execute_result"
    }
   ],
   "source": [
    "# Initial weights.\n",
    "w =  np.array([0.0, 5.0])\n",
    "\n",
    "# What the neuron currently outputs for the real-world input, based on current weights.\n",
    "fire_neuron(np.array([1.0, data_in[i]]), w, identity)"
   ]
  },
  {
   "cell_type": "code",
   "execution_count": 16,
   "id": "bd9ea919",
   "metadata": {},
   "outputs": [
    {
     "data": {
      "text/plain": [
       "18.0"
      ]
     },
     "execution_count": 16,
     "metadata": {},
     "output_type": "execute_result"
    }
   ],
   "source": [
    "# The goal is to create an algorithm that updates w to move the output towards the real output.\n",
    "# Initial weights.\n",
    "w =  np.array([0.0, 3.0])\n",
    "\n",
    "# What the neuron could output for the real-world input, based on better weights.\n",
    "fire_neuron(np.array([1.0, data_in[i]]), w, identity)"
   ]
  },
  {
   "cell_type": "markdown",
   "id": "833c2b32",
   "metadata": {},
   "source": [
    "### Using keras\n",
    "***"
   ]
  },
  {
   "cell_type": "code",
   "execution_count": 19,
   "id": "3db50eb1",
   "metadata": {},
   "outputs": [],
   "source": [
    "# Create a new sequential neural network.\n",
    "model = keras.Sequential()"
   ]
  },
  {
   "cell_type": "code",
   "execution_count": 20,
   "id": "c1ad2039",
   "metadata": {},
   "outputs": [],
   "source": [
    "# Add a dense layer with 64 neurons and use the relu activation function.\n",
    "model.add(keras.layers.Dense(units=64, activation='relu'))"
   ]
  },
  {
   "cell_type": "code",
   "execution_count": 21,
   "id": "9aa37f82",
   "metadata": {},
   "outputs": [],
   "source": [
    "# Add a dense layer with 10 neurons and the softmax activation function.\n",
    "model.add(keras.layers.Dense(units=10, activation='softmax'))"
   ]
  },
  {
   "cell_type": "code",
   "execution_count": 22,
   "id": "632db697",
   "metadata": {},
   "outputs": [],
   "source": [
    "# Compile the neural network.\n",
    "model.compile(loss='categorical_crossentropy', optimizer='sgd', metrics=['accuracy'])"
   ]
  },
  {
   "cell_type": "code",
   "execution_count": 23,
   "id": "911d00cf",
   "metadata": {},
   "outputs": [],
   "source": [
    "# Create a fake training data set.\n",
    "x_train = np.random.normal(0.0, 1.0, (100, 64))\n",
    "y_train = np.random.normal(0.5, 0.1, (100, 10))"
   ]
  },
  {
   "cell_type": "code",
   "execution_count": 24,
   "id": "2c560f0b",
   "metadata": {},
   "outputs": [
    {
     "name": "stdout",
     "output_type": "stream",
     "text": [
      "Epoch 1/5\n",
      "4/4 [==============================] - 1s 6ms/step - loss: 12.8671 - accuracy: 0.0700\n",
      "Epoch 2/5\n",
      "4/4 [==============================] - 0s 5ms/step - loss: 12.8282 - accuracy: 0.0800\n",
      "Epoch 3/5\n",
      "4/4 [==============================] - 0s 10ms/step - loss: 12.7944 - accuracy: 0.0800\n",
      "Epoch 4/5\n",
      "4/4 [==============================] - 0s 6ms/step - loss: 12.7688 - accuracy: 0.0800\n",
      "Epoch 5/5\n",
      "4/4 [==============================] - 0s 5ms/step - loss: 12.7391 - accuracy: 0.0800\n"
     ]
    },
    {
     "data": {
      "text/plain": [
       "<keras.callbacks.History at 0x7f7bf00cdd60>"
      ]
     },
     "execution_count": 24,
     "metadata": {},
     "output_type": "execute_result"
    }
   ],
   "source": [
    "# Train the neural network.\n",
    "model.fit(x_train, y_train, epochs=5, batch_size=32)"
   ]
  },
  {
   "cell_type": "markdown",
   "id": "a81acbee",
   "metadata": {},
   "source": [
    "#### Single Neuron in keras\n",
    "***"
   ]
  },
  {
   "cell_type": "code",
   "execution_count": 25,
   "id": "298590ec",
   "metadata": {},
   "outputs": [],
   "source": [
    "# Create a new sequential neural network.\n",
    "model = keras.Sequential()"
   ]
  },
  {
   "cell_type": "code",
   "execution_count": 26,
   "id": "b5b4c9e6",
   "metadata": {},
   "outputs": [],
   "source": [
    "# Add a dense layer with 1 neuron and the identity activation function.\n",
    "model.add(keras.layers.Dense(units=1))"
   ]
  },
  {
   "cell_type": "code",
   "execution_count": 27,
   "id": "c3538e03",
   "metadata": {},
   "outputs": [],
   "source": [
    "# Compile the neural network.\n",
    "model.compile(loss='mean_squared_error', optimizer='sgd', metrics=['accuracy'])"
   ]
  },
  {
   "cell_type": "code",
   "execution_count": 28,
   "id": "ad6fccb7",
   "metadata": {},
   "outputs": [
    {
     "data": {
      "text/plain": [
       "array([[ 1.  ],\n",
       "       [ 1.01],\n",
       "       [ 1.02],\n",
       "       ...,\n",
       "       [12.97],\n",
       "       [12.98],\n",
       "       [12.99]])"
      ]
     },
     "execution_count": 28,
     "metadata": {},
     "output_type": "execute_result"
    }
   ],
   "source": [
    "# Real-world input values.\n",
    "data_in = np.arange(1.0, 13.0, 0.01)\n",
    "\n",
    "# https://stackoverflow.com/a/47468541\n",
    "data_in = data_in.reshape(-1, 1)\n",
    "\n",
    "data_in"
   ]
  },
  {
   "cell_type": "code",
   "execution_count": 29,
   "id": "50b066c4",
   "metadata": {},
   "outputs": [
    {
     "data": {
      "text/plain": [
       "array([[ 2.11953117],\n",
       "       [ 3.8073278 ],\n",
       "       [ 4.42166541],\n",
       "       ...,\n",
       "       [51.39193462],\n",
       "       [52.55891472],\n",
       "       [51.59474356]])"
      ]
     },
     "execution_count": 29,
     "metadata": {},
     "output_type": "execute_result"
    }
   ],
   "source": [
    "# Real-world output values.\n",
    "data_out = 4.0 * data_in + np.random.normal(0.0, 1.0, data_in.shape)\n",
    "\n",
    "data_out"
   ]
  },
  {
   "cell_type": "code",
   "execution_count": 30,
   "id": "a8a7af5f",
   "metadata": {},
   "outputs": [
    {
     "name": "stdout",
     "output_type": "stream",
     "text": [
      "Epoch 1/5\n",
      "38/38 [==============================] - 1s 2ms/step - loss: 29.1019 - accuracy: 0.0000e+00\n",
      "Epoch 2/5\n",
      "38/38 [==============================] - 0s 2ms/step - loss: 1.0683 - accuracy: 0.0000e+00\n",
      "Epoch 3/5\n",
      "38/38 [==============================] - 0s 2ms/step - loss: 1.0897 - accuracy: 0.0000e+00\n",
      "Epoch 4/5\n",
      "38/38 [==============================] - 0s 3ms/step - loss: 1.0669 - accuracy: 0.0000e+00\n",
      "Epoch 5/5\n",
      "38/38 [==============================] - 0s 2ms/step - loss: 1.0755 - accuracy: 0.0000e+00\n"
     ]
    },
    {
     "data": {
      "text/plain": [
       "<keras.callbacks.History at 0x7f7be862a3d0>"
      ]
     },
     "execution_count": 30,
     "metadata": {},
     "output_type": "execute_result"
    }
   ],
   "source": [
    "# Train the neural network.\n",
    "model.fit(data_in, data_out, epochs=5, batch_size=32)"
   ]
  },
  {
   "cell_type": "code",
   "execution_count": 31,
   "id": "8707897e",
   "metadata": {},
   "outputs": [
    {
     "name": "stdout",
     "output_type": "stream",
     "text": [
      "32/32 [==============================] - 0s 2ms/step\n"
     ]
    }
   ],
   "source": [
    "# Test input values.\n",
    "data_test = np.linspace(-10.0, 20.0, 1001).reshape(-1, 1)\n",
    "\n",
    "# Feed test values into neural network.\n",
    "preds = model.predict(data_test)"
   ]
  },
  {
   "cell_type": "code",
   "execution_count": 32,
   "id": "cedf5a8f",
   "metadata": {},
   "outputs": [
    {
     "data": {
      "image/png": "[encoded data removed]",
      "text/plain": [
       "<Figure size 864x432 with 1 Axes>"
      ]
     },
     "metadata": {
      "needs_background": "light"
     },
     "output_type": "display_data"
    }
   ],
   "source": [
    "# Plot the values.\n",
    "fig, ax = plt.subplots(figsize=(12, 6))\n",
    "\n",
    "# Plot the original data set.\n",
    "ax.plot(data_in.flatten(), data_out.flatten(), 'rx', label='Training')\n",
    "\n",
    "# Plot the predicted data set.\n",
    "ax.plot(data_test.flatten(), preds.flatten(), 'b.', label='Predictions');"
   ]
  },
  {
   "cell_type": "markdown",
   "id": "83913efc",
   "metadata": {},
   "source": [
    "#### Experiment with an existing simple project$^{[2]}$\n",
    "***\n",
    "\n",
    "##### Preparing the dataset \n",
    "- an input layer with 8x8 = 64 neurons\n",
    "- a hidden layer with 15 neurons\n",
    "- an output layer with 10 neurons corresponding to the 10 digit categories."
   ]
  },
  {
   "cell_type": "code",
   "execution_count": 33,
   "id": "f7813137",
   "metadata": {},
   "outputs": [],
   "source": [
    "# Import datasets for load and return the digits dataset [3]\n",
    "from sklearn import datasets\n",
    "digits = datasets.load_digits()"
   ]
  },
  {
   "cell_type": "code",
   "execution_count": 34,
   "id": "7cb3f1fc",
   "metadata": {},
   "outputs": [
    {
     "data": {
      "text/plain": [
       "(1797, 64)"
      ]
     },
     "execution_count": 34,
     "metadata": {},
     "output_type": "execute_result"
    }
   ],
   "source": [
    "# Make 2D to 1D array\n",
    "x = digits.images.reshape((len(digits.images), -1))\n",
    "x.shape"
   ]
  },
  {
   "cell_type": "markdown",
   "id": "83d80722",
   "metadata": {},
   "source": [
    "The solution is to translate each target value into a vector of length 10 with a technique called one-hot encoding:\n",
    "- target 0 is translated to [1, 0, 0, 0, 0, 0, 0, 0, 0, 0]\n",
    "- target 1 is translated to [0, 1, 0, 0, 0, 0, 0, 0, 0, 0]\n",
    "- ...\n",
    "- target 9 is translated to [0, 0, 0, 0, 0, 0, 0, 0, 0, 1]"
   ]
  },
  {
   "cell_type": "code",
   "execution_count": 35,
   "id": "57437202",
   "metadata": {},
   "outputs": [
    {
     "data": {
      "text/plain": [
       "array([0, 1, 2, ..., 8, 9, 8])"
      ]
     },
     "execution_count": 35,
     "metadata": {},
     "output_type": "execute_result"
    }
   ],
   "source": [
    "# digits.target contains the digit corresponding to each image in the dataset\n",
    "digits.target"
   ]
  },
  {
   "cell_type": "code",
   "execution_count": 36,
   "id": "119f234b",
   "metadata": {},
   "outputs": [
    {
     "name": "stdout",
     "output_type": "stream",
     "text": [
      "[0 1 2 ... 8 9 8]\n",
      "[[1. 0. 0. ... 0. 0. 0.]\n",
      " [0. 1. 0. ... 0. 0. 0.]\n",
      " [0. 0. 1. ... 0. 0. 0.]\n",
      " ...\n",
      " [0. 0. 0. ... 0. 1. 0.]\n",
      " [0. 0. 0. ... 0. 0. 1.]\n",
      " [0. 0. 0. ... 0. 1. 0.]]\n"
     ]
    }
   ],
   "source": [
    "from keras.utils import np_utils\n",
    "y = np_utils.to_categorical(digits.target,10)\n",
    "print(digits.target)\n",
    "print(y)"
   ]
  },
  {
   "cell_type": "code",
   "execution_count": 37,
   "id": "b302e724",
   "metadata": {},
   "outputs": [],
   "source": [
    "# split our data into a training sample\n",
    "split_limit=1000\n",
    "x_train = x[:split_limit]\n",
    "y_train = y[:split_limit]\n",
    "x_test = x[split_limit:]\n",
    "y_test = y[split_limit:]"
   ]
  },
  {
   "cell_type": "markdown",
   "id": "050e2637",
   "metadata": {},
   "source": [
    "The first 1000 images and labels are going to be used for training. The rest of the dataset will be used later to test the performance of our network.\n",
    "\n",
    "##### Creation of the neural network with Keras"
   ]
  },
  {
   "cell_type": "code",
   "execution_count": 39,
   "id": "8a7c3b78",
   "metadata": {},
   "outputs": [
    {
     "name": "stdout",
     "output_type": "stream",
     "text": [
      "Model: \"model\"\n",
      "_________________________________________________________________\n",
      " Layer (type)                Output Shape              Param #   \n",
      "=================================================================\n",
      " input_1 (InputLayer)        [(None, 64)]              0         \n",
      "                                                                 \n",
      " dense_4 (Dense)             (None, 15)                975       \n",
      "                                                                 \n",
      " dense_5 (Dense)             (None, 10)                160       \n",
      "                                                                 \n",
      "=================================================================\n",
      "Total params: 1,135\n",
      "Trainable params: 1,135\n",
      "Non-trainable params: 0\n",
      "_________________________________________________________________\n"
     ]
    }
   ],
   "source": [
    "# create the input layer\n",
    "# we specify that the input layer \n",
    "# should have 64 neurons, one for each pixel\n",
    "# in our images.  \n",
    "img_input = keras.layers.Input(shape=(64,))\n",
    "\n",
    "# create the hidden layer\n",
    "# This layer is a Dense layer, which means\n",
    "# that its neurons are fully connected to the \n",
    "# neurons in the previous layer (the input layer)\n",
    "# We will talk about the activation in a future post\n",
    "tmp = keras.layers.Dense(15, \n",
    "                   activation='sigmoid')(img_input)\n",
    "\n",
    "# create the output layer\n",
    "# The output layer is another Dense layer.\n",
    "# It must have 10 neurons, corresponding to \n",
    "# the 10 digit categories \n",
    "output = keras.layers.Dense(10, \n",
    "                      activation='softmax')(tmp)\n",
    "\n",
    "# create the neural network from the layers\n",
    "model = keras.Model(img_input, output)\n",
    "\n",
    "# print a summary of the model\n",
    "model.summary()\n",
    "\n",
    "# =================================================\n",
    "\n",
    "# For now, it is enough to know that regularization\n",
    "# helps the neural network converge properly. \n",
    "# I've added this regularization because it is \n",
    "# performed by default in scikit-learn, \n",
    "# and because we want to be able to compare the \n",
    "# results of scikit-learn and keras. \n",
    "l2_rate = 1e-4\n",
    "for layer in model.layers:\n",
    "    if hasattr(layer, 'kernel_regularizer'):\n",
    "        layer.kernel_regularizer = keras.regularizers.l2(l2_rate)\n",
    "        layer.bias_regularizer = keras.regularizers.l2(l2_rate)\n",
    "        layer.activity_regularizer = keras.regularizers.l2(l2_rate)\n",
    "# =================================================\n",
    "\n",
    "# define how the neural network will learn, \n",
    "# and compile the model. \n",
    "# models must be compiled before \n",
    "# they can be trained and used. \n",
    "# the loss, optimizer, and metrics arguments \n",
    "# will be covered in a future post. \n",
    "model.compile(loss='categorical_crossentropy',\n",
    "              optimizer = keras.optimizers.SGD(learning_rate=0.1, momentum=0.9),\n",
    "              metrics=['accuracy'])"
   ]
  },
  {
   "cell_type": "code",
   "execution_count": 40,
   "id": "3da42658",
   "metadata": {
    "scrolled": false
   },
   "outputs": [
    {
     "name": "stdout",
     "output_type": "stream",
     "text": [
      "Epoch 1/50\n",
      "10/10 [==============================] - 1s 37ms/step - loss: 2.2077 - accuracy: 0.2090 - val_loss: 1.9647 - val_accuracy: 0.4316\n",
      "Epoch 2/50\n",
      "10/10 [==============================] - 0s 17ms/step - loss: 1.7138 - accuracy: 0.5790 - val_loss: 1.4946 - val_accuracy: 0.7315\n",
      "Epoch 3/50\n",
      "10/10 [==============================] - 0s 9ms/step - loss: 1.2860 - accuracy: 0.7970 - val_loss: 1.1468 - val_accuracy: 0.7905\n",
      "Epoch 4/50\n",
      "10/10 [==============================] - 0s 10ms/step - loss: 0.9043 - accuracy: 0.8650 - val_loss: 0.8845 - val_accuracy: 0.8356\n",
      "Epoch 5/50\n",
      "10/10 [==============================] - 0s 9ms/step - loss: 0.6543 - accuracy: 0.9020 - val_loss: 0.7131 - val_accuracy: 0.8243\n",
      "Epoch 6/50\n",
      "10/10 [==============================] - 0s 10ms/step - loss: 0.4802 - accuracy: 0.9140 - val_loss: 0.6028 - val_accuracy: 0.8394\n",
      "Epoch 7/50\n",
      "10/10 [==============================] - 0s 10ms/step - loss: 0.3973 - accuracy: 0.9350 - val_loss: 0.5515 - val_accuracy: 0.8595\n",
      "Epoch 8/50\n",
      "10/10 [==============================] - 0s 9ms/step - loss: 0.3323 - accuracy: 0.9440 - val_loss: 0.5075 - val_accuracy: 0.8632\n",
      "Epoch 9/50\n",
      "10/10 [==============================] - 0s 9ms/step - loss: 0.2935 - accuracy: 0.9550 - val_loss: 0.4698 - val_accuracy: 0.8783\n",
      "Epoch 10/50\n",
      "10/10 [==============================] - 0s 10ms/step - loss: 0.2717 - accuracy: 0.9480 - val_loss: 0.4759 - val_accuracy: 0.8570\n",
      "Epoch 11/50\n",
      "10/10 [==============================] - 0s 10ms/step - loss: 0.2523 - accuracy: 0.9540 - val_loss: 0.4631 - val_accuracy: 0.8582\n",
      "Epoch 12/50\n",
      "10/10 [==============================] - 0s 10ms/step - loss: 0.2397 - accuracy: 0.9420 - val_loss: 0.3900 - val_accuracy: 0.9034\n",
      "Epoch 13/50\n",
      "10/10 [==============================] - 0s 10ms/step - loss: 0.1982 - accuracy: 0.9650 - val_loss: 0.5330 - val_accuracy: 0.8582\n",
      "Epoch 14/50\n",
      "10/10 [==============================] - 0s 10ms/step - loss: 0.2013 - accuracy: 0.9540 - val_loss: 0.4052 - val_accuracy: 0.8858\n",
      "Epoch 15/50\n",
      "10/10 [==============================] - 0s 9ms/step - loss: 0.1533 - accuracy: 0.9690 - val_loss: 0.3841 - val_accuracy: 0.8946\n",
      "Epoch 16/50\n",
      "10/10 [==============================] - 0s 10ms/step - loss: 0.1448 - accuracy: 0.9740 - val_loss: 0.3557 - val_accuracy: 0.9084\n",
      "Epoch 17/50\n",
      "10/10 [==============================] - 0s 9ms/step - loss: 0.1370 - accuracy: 0.9790 - val_loss: 0.3350 - val_accuracy: 0.9084\n",
      "Epoch 18/50\n",
      "10/10 [==============================] - 0s 13ms/step - loss: 0.1351 - accuracy: 0.9750 - val_loss: 0.3722 - val_accuracy: 0.9059\n",
      "Epoch 19/50\n",
      "10/10 [==============================] - 0s 12ms/step - loss: 0.1211 - accuracy: 0.9860 - val_loss: 0.3564 - val_accuracy: 0.9034\n",
      "Epoch 20/50\n",
      "10/10 [==============================] - 0s 9ms/step - loss: 0.1064 - accuracy: 0.9840 - val_loss: 0.3584 - val_accuracy: 0.9172\n",
      "Epoch 21/50\n",
      "10/10 [==============================] - 0s 9ms/step - loss: 0.0907 - accuracy: 0.9900 - val_loss: 0.3468 - val_accuracy: 0.9072\n",
      "Epoch 22/50\n",
      "10/10 [==============================] - 0s 13ms/step - loss: 0.0985 - accuracy: 0.9840 - val_loss: 0.3879 - val_accuracy: 0.8946\n",
      "Epoch 23/50\n",
      "10/10 [==============================] - 0s 11ms/step - loss: 0.0954 - accuracy: 0.9880 - val_loss: 0.3524 - val_accuracy: 0.9109\n",
      "Epoch 24/50\n",
      "10/10 [==============================] - 0s 9ms/step - loss: 0.0827 - accuracy: 0.9920 - val_loss: 0.3636 - val_accuracy: 0.9109\n",
      "Epoch 25/50\n",
      "10/10 [==============================] - 0s 15ms/step - loss: 0.0799 - accuracy: 0.9930 - val_loss: 0.3519 - val_accuracy: 0.9184\n",
      "Epoch 26/50\n",
      "10/10 [==============================] - 0s 12ms/step - loss: 0.0725 - accuracy: 0.9960 - val_loss: 0.3643 - val_accuracy: 0.9034\n",
      "Epoch 27/50\n",
      "10/10 [==============================] - 0s 10ms/step - loss: 0.0695 - accuracy: 0.9950 - val_loss: 0.3254 - val_accuracy: 0.9159\n",
      "Epoch 28/50\n",
      "10/10 [==============================] - 0s 10ms/step - loss: 0.0658 - accuracy: 0.9950 - val_loss: 0.3535 - val_accuracy: 0.9097\n",
      "Epoch 29/50\n",
      "10/10 [==============================] - 0s 11ms/step - loss: 0.0623 - accuracy: 0.9950 - val_loss: 0.3368 - val_accuracy: 0.9172\n",
      "Epoch 30/50\n",
      "10/10 [==============================] - 0s 11ms/step - loss: 0.0669 - accuracy: 0.9920 - val_loss: 0.3745 - val_accuracy: 0.8959\n",
      "Epoch 31/50\n",
      "10/10 [==============================] - 0s 13ms/step - loss: 0.0747 - accuracy: 0.9870 - val_loss: 0.3452 - val_accuracy: 0.9184\n",
      "Epoch 32/50\n",
      "10/10 [==============================] - 0s 12ms/step - loss: 0.0688 - accuracy: 0.9960 - val_loss: 0.3287 - val_accuracy: 0.9059\n",
      "Epoch 33/50\n",
      "10/10 [==============================] - 0s 10ms/step - loss: 0.0625 - accuracy: 0.9950 - val_loss: 0.3462 - val_accuracy: 0.9122\n",
      "Epoch 34/50\n",
      "10/10 [==============================] - 0s 9ms/step - loss: 0.0551 - accuracy: 0.9960 - val_loss: 0.3762 - val_accuracy: 0.9159\n",
      "Epoch 35/50\n",
      "10/10 [==============================] - 0s 12ms/step - loss: 0.0541 - accuracy: 0.9980 - val_loss: 0.3458 - val_accuracy: 0.9147\n",
      "Epoch 36/50\n",
      "10/10 [==============================] - 0s 13ms/step - loss: 0.0487 - accuracy: 0.9970 - val_loss: 0.3355 - val_accuracy: 0.9147\n",
      "Epoch 37/50\n",
      "10/10 [==============================] - 0s 10ms/step - loss: 0.0491 - accuracy: 0.9970 - val_loss: 0.3539 - val_accuracy: 0.9197\n",
      "Epoch 38/50\n",
      "10/10 [==============================] - 0s 10ms/step - loss: 0.0451 - accuracy: 0.9970 - val_loss: 0.3722 - val_accuracy: 0.9009\n",
      "Epoch 39/50\n",
      "10/10 [==============================] - 0s 12ms/step - loss: 0.0425 - accuracy: 0.9980 - val_loss: 0.3128 - val_accuracy: 0.9197\n",
      "Epoch 40/50\n",
      "10/10 [==============================] - 0s 10ms/step - loss: 0.0410 - accuracy: 0.9980 - val_loss: 0.3622 - val_accuracy: 0.9122\n",
      "Epoch 41/50\n",
      "10/10 [==============================] - 0s 10ms/step - loss: 0.0402 - accuracy: 0.9980 - val_loss: 0.3112 - val_accuracy: 0.9197\n",
      "Epoch 42/50\n",
      "10/10 [==============================] - 0s 10ms/step - loss: 0.0401 - accuracy: 0.9980 - val_loss: 0.3595 - val_accuracy: 0.9172\n",
      "Epoch 43/50\n",
      "10/10 [==============================] - 0s 10ms/step - loss: 0.0378 - accuracy: 0.9980 - val_loss: 0.3160 - val_accuracy: 0.9197\n",
      "Epoch 44/50\n",
      "10/10 [==============================] - 0s 10ms/step - loss: 0.0365 - accuracy: 0.9980 - val_loss: 0.3301 - val_accuracy: 0.9210\n",
      "Epoch 45/50\n",
      "10/10 [==============================] - 0s 8ms/step - loss: 0.0389 - accuracy: 0.9960 - val_loss: 0.3293 - val_accuracy: 0.9222\n",
      "Epoch 46/50\n",
      "10/10 [==============================] - 0s 13ms/step - loss: 0.0379 - accuracy: 0.9970 - val_loss: 0.3316 - val_accuracy: 0.9197\n",
      "Epoch 47/50\n",
      "10/10 [==============================] - 0s 14ms/step - loss: 0.0375 - accuracy: 0.9980 - val_loss: 0.3256 - val_accuracy: 0.9260\n",
      "Epoch 48/50\n",
      "10/10 [==============================] - 0s 16ms/step - loss: 0.0351 - accuracy: 0.9980 - val_loss: 0.3278 - val_accuracy: 0.9247\n",
      "Epoch 49/50\n",
      "10/10 [==============================] - 0s 11ms/step - loss: 0.0326 - accuracy: 0.9980 - val_loss: 0.3297 - val_accuracy: 0.9222\n",
      "Epoch 50/50\n",
      "10/10 [==============================] - 0s 10ms/step - loss: 0.0317 - accuracy: 0.9980 - val_loss: 0.3264 - val_accuracy: 0.9172\n"
     ]
    }
   ],
   "source": [
    "# train the network\n",
    "history = model.fit(x=x_train, y=y_train, validation_data=(x_test,y_test),\n",
    "                    batch_size=100, epochs=50)"
   ]
  },
  {
   "cell_type": "markdown",
   "id": "5ba44386",
   "metadata": {},
   "source": [
    "##### Evaluating the performance\n",
    "The predictions from the neural network are evaluated for all examples in the test sample by doing"
   ]
  },
  {
   "cell_type": "code",
   "execution_count": 41,
   "id": "810b57c6",
   "metadata": {},
   "outputs": [
    {
     "name": "stdout",
     "output_type": "stream",
     "text": [
      "25/25 [==============================] - 0s 2ms/step\n",
      "[2.1851906e-03 7.6846591e-06 8.5190630e-05 1.6968860e-04 9.6111624e-05\n",
      " 9.9669594e-01 4.1816451e-04 2.0395642e-05 2.1537677e-05 2.9994510e-04]\n"
     ]
    }
   ],
   "source": [
    "predictions = model.predict(x_test)\n",
    "print(predictions[3]) # changed from 3 to 5"
   ]
  },
  {
   "cell_type": "markdown",
   "id": "e3123541",
   "metadata": {},
   "source": [
    "Create a function to plot a given image, and to print the true and predicted categories"
   ]
  },
  {
   "cell_type": "code",
   "execution_count": 42,
   "id": "913ce553",
   "metadata": {},
   "outputs": [],
   "source": [
    "def plot_prediction(index):\n",
    "    print('predicted probabilities:')\n",
    "    print(predictions[index])\n",
    "    print('predicted category', np.argmax(predictions[index]))\n",
    "    print('true probabilities:')\n",
    "    print(y_test[index])\n",
    "    print('true category', np.argmax(y_test[index]))\n",
    "    img = x_test[index].reshape(8,8)\n",
    "    plt.imshow(img)"
   ]
  },
  {
   "cell_type": "code",
   "execution_count": 43,
   "id": "2b6299a4",
   "metadata": {
    "scrolled": true
   },
   "outputs": [
    {
     "name": "stdout",
     "output_type": "stream",
     "text": [
      "predicted probabilities:\n",
      "[8.6653083e-05 1.1810600e-03 5.5571207e-05 5.4804389e-03 5.7750814e-05\n",
      " 9.4852522e-02 8.2866427e-05 2.5043191e-04 1.5760650e-03 8.9637673e-01]\n",
      "predicted category 9\n",
      "true probabilities:\n",
      "[0. 0. 0. 0. 0. 0. 0. 0. 0. 1.]\n",
      "true category 9\n"
     ]
    },
    {
     "data": {
      "image/png": "[encoded data removed]",
      "text/plain": [
       "<Figure size 1440x432 with 1 Axes>"
      ]
     },
     "metadata": {
      "needs_background": "light"
     },
     "output_type": "display_data"
    }
   ],
   "source": [
    "# Use plot_prediction(index) function to have a look at a few examples \n",
    "#(just choose a different index to look at another example).\n",
    "plot_prediction(6)"
   ]
  },
  {
   "cell_type": "markdown",
   "id": "c98d89b2",
   "metadata": {},
   "source": [
    "Finally, let's compute the accuracy score, which is the probability to classify the digits correctly."
   ]
  },
  {
   "cell_type": "code",
   "execution_count": 44,
   "id": "17065fbe",
   "metadata": {},
   "outputs": [
    {
     "name": "stdout",
     "output_type": "stream",
     "text": [
      "(797,)\n"
     ]
    },
    {
     "data": {
      "text/plain": [
       "0.917189460476788"
      ]
     },
     "execution_count": 44,
     "metadata": {},
     "output_type": "execute_result"
    }
   ],
   "source": [
    "# the second argument of argmax specifies\n",
    "# that we want to get argmax for each example. \n",
    "# without this argument, argmax would return \n",
    "# the largest value in the whole array,\n",
    "# considering all examples\n",
    "y_test_best = np.argmax(y_test,1)\n",
    "print(y_test_best.shape)\n",
    "predictions_best = np.argmax(predictions,1)\n",
    "\n",
    "from sklearn.metrics import accuracy_score\n",
    "accuracy_score(y_test_best, predictions_best)"
   ]
  },
  {
   "cell_type": "markdown",
   "id": "5f497f78",
   "metadata": {},
   "source": [
    " #### The result is not deterministic, so the accuracy will vary every time we train the network. \n",
    " We should obtain an accuracy around 90%, similar to the one we had obtained in the same conditions with scikit-learn."
   ]
  },
  {
   "cell_type": "markdown",
   "id": "69dbc535",
   "metadata": {},
   "source": [
    "## References<a class=\"anchor\" id=\"References\"></a>\n",
    "***\n",
    "\n",
    "\n",
    "[1] https://keras.io/\n",
    "\n",
    "[2] https://thedatafrog.com/en/articles/first-neural-network-keras/\n",
    "\n",
    "[3] https://scikit-learn.org/stable/modules/generated/sklearn.datasets.load_digits.html\n",
    "\n",
    "https://numpy.org/doc/stable/reference/generated/numpy.reshape.html\n",
    "\n",
    "https://keras.io/api/utils/\n",
    "\n"
   ]
  },
  {
   "cell_type": "markdown",
   "id": "39eb726e",
   "metadata": {},
   "source": [
    "## **<center>End</center>**"
   ]
  }
 ],
 "metadata": {
  "kernelspec": {
   "display_name": "Python 3 (ipykernel)",
   "language": "python",
   "name": "python3"
  },
  "language_info": {
   "codemirror_mode": {
    "name": "ipython",
    "version": 3
   },
   "file_extension": ".py",
   "mimetype": "text/x-python",
   "name": "python",
   "nbconvert_exporter": "python",
   "pygments_lexer": "ipython3",
   "version": "3.8.10"
  }
 },
 "nbformat": 4,
 "nbformat_minor": 5
}
