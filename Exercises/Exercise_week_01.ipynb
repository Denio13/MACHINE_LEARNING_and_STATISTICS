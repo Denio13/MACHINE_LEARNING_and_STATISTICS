{
 "cells": [
  {
   "cell_type": "markdown",
   "id": "0cee1244",
   "metadata": {},
   "source": [
    "<br>\n",
    "\n",
    "<center><img src=\"Img/tasting_tea.jpg\"></center>\n",
    "\n",
    "\n",
    "\n",
    "<br>\n",
    "\n",
    "# **<center> The lady tasting tea experiment</center>**\n",
    "\n",
    "<br>\n",
    " \n",
    "***\n",
    "    \n",
    "*__<div style=\"text-align: right\"> Author: Denis Sarf </div>__*\n",
    "    \n",
    "<br>"
   ]
  },
  {
   "cell_type": "markdown",
   "id": "196cfabc",
   "metadata": {},
   "source": [
    "### Table of Contents\n",
    "\n",
    "***\n",
    "* [1. Introduction](#Introduction)\n",
    "\n",
    "* [2. Question 1](#Question_1)\n",
    "* [2.1 Bonus](#Bonus)\n",
    "* [3. Question 2](#Question_2)\n",
    "* [4. References](#References)"
   ]
  },
  {
   "cell_type": "markdown",
   "id": "e6127eb4",
   "metadata": {},
   "source": [
    "## 1. Introduction <a class=\"anchor\" id=\"Introduction\"></a>$^{[1]}$"
   ]
  },
  {
   "cell_type": "markdown",
   "id": "2b7a39ce",
   "metadata": {},
   "source": [
    "<h5>The now famous story is that in an otherwise unremarkable summer afternoon in Cambridge in the 1920’s, a group of friends eventually discussed about the claims made by one of the presents about her abilities on discriminating whether milk was poured first or last when preparing a cup of tea with milk. One of the presents was Ronald Fisher, and the story, along with a detailed description of how to conduct a simple experiment to test the claimed ability, and how to obtain an exact solution, was presented at length in the Chapter 2 of his book The Design of Experiments, a few lines of which are quoted below:</h5>"
   ]
  },
  {
   "cell_type": "markdown",
   "id": "94216cac",
   "metadata": {},
   "source": [
    "<div align=\"center\" class=\"alert alert-block alert-success\">A lady declares that by tasting a cup of tea made with milk she can discriminate whether the milk or the tea infusion was first added to the cup. We will consider the problem of designing an experiment by means of which this assertion can be tested. […] [It] consists in mixing eight cups of tea, four in one way and four in the other, and presenting them to the subject for judgment in a random order. The subject has been told in advance of that the test will consist, namely, that she will be asked to taste eight cups, that these shall be four of each kind […]</div>\n",
    "<div style=\"text-align: right\"><b>Fisher, 1935</b></div>"
   ]
  },
  {
   "cell_type": "markdown",
   "id": "68d912c3",
   "metadata": {},
   "source": [
    "<h5>The lady in question (Muriel Bristol) claimed to be able to tell whether the tea or the milk was added first to a cup. Fisher proposed to give her eight cups, four of each variety, in random order. One could then ask what the probability was for her getting the specific number of cups she identified correct, but just by chance.</h5>\n",
    "\n",
    "<h5>Fisher's description is less than 10 pages in length and is notable for its simplicity and completeness regarding terminology, calculations and design of the experiment.The example is loosely based on an event in Fisher's life. The test used was Fisher's exact test.</h5>"
   ]
  },
  {
   "cell_type": "markdown",
   "id": "0dd1eb92",
   "metadata": {},
   "source": [
    "***\n",
    "\n",
    "<h5>There are</h5> \n",
    "<br>\n",
    "$${8 \\choose 4} = \\frac{8!}{4!(8-4)!} = 70$$<br>\n",
    "<br>\n",
    "<h5>distinct possible orderings of these cups, and by telling the subject in advance that there are four cups of each type, this guarantees that the answer will include four of each.</h5>"
   ]
  },
  {
   "cell_type": "markdown",
   "id": "1b1cdddc",
   "metadata": {},
   "source": [
    "<br>\n",
    "\n",
    "<center><img src=\"Img/tea_cups.png\"></center>\n",
    "\n",
    "\n",
    "<br>"
   ]
  },
  {
   "cell_type": "markdown",
   "id": "c4ec09f5",
   "metadata": {},
   "source": [
    "## 2. Question 1 <a class=\"anchor\" id=\"Question_1\"></a>\n",
    "<h5> Calculate the minimum number of cups of tea required to ensure the probability of randomly selecting the correct cups is less than or equal to 1%.</h5>"
   ]
  },
  {
   "cell_type": "markdown",
   "id": "86a5d6e4",
   "metadata": {},
   "source": [
    "_We need to import Python modules, that can access code from another module by importing a file/function using import._"
   ]
  },
  {
   "cell_type": "code",
   "execution_count": 13,
   "id": "495477e4",
   "metadata": {},
   "outputs": [],
   "source": [
    "# Math module.\n",
    "import math"
   ]
  },
  {
   "cell_type": "markdown",
   "id": "d4b89c2c",
   "metadata": {},
   "source": [
    "_The math.comb() method returns the number of ways picking k unordered outcomes from n possibilities, without repetition, also known as combinations.$^{[2]}$_\n",
    "\n",
    "_**n**_: The positive integers of items from which to choose\n",
    "\n",
    "_**k**_: The positive integers of items to choose\n",
    "\n",
    "_The following is adapted from stackoverflow$^{[3]}$_\n"
   ]
  },
  {
   "cell_type": "code",
   "execution_count": 2,
   "id": "7b55ddc4",
   "metadata": {},
   "outputs": [
    {
     "data": {
      "text/plain": [
       "70"
      ]
     },
     "execution_count": 2,
     "metadata": {},
     "output_type": "execute_result"
    }
   ],
   "source": [
    "# Number of ways of selecting 4 cups from 8.\n",
    "math.comb(8, 4)"
   ]
  },
  {
   "cell_type": "markdown",
   "id": "0d97ae94",
   "metadata": {},
   "source": [
    "Possible outcomes of the **\"lady tasting tea\"** experiment  to get all *4* cups correct from *8* cups"
   ]
  },
  {
   "cell_type": "code",
   "execution_count": 14,
   "id": "2b2a75bb",
   "metadata": {},
   "outputs": [
    {
     "data": {
      "text/plain": [
       "0.014285714285714285"
      ]
     },
     "execution_count": 14,
     "metadata": {},
     "output_type": "execute_result"
    }
   ],
   "source": [
    "1.0 / math.comb(8, 4)"
   ]
  },
  {
   "cell_type": "code",
   "execution_count": 3,
   "id": "96f52dfe",
   "metadata": {},
   "outputs": [
    {
     "data": {
      "text/plain": [
       "252"
      ]
     },
     "execution_count": 3,
     "metadata": {},
     "output_type": "execute_result"
    }
   ],
   "source": [
    "# Number of ways of selecting 5 cups from 10.\n",
    "math.comb(10, 5)"
   ]
  },
  {
   "cell_type": "markdown",
   "id": "d8f7274a",
   "metadata": {},
   "source": [
    "Possible outcomes of the **\"lady tasting tea\"** experiment  to get all *5* cups correct from *10* cups"
   ]
  },
  {
   "cell_type": "code",
   "execution_count": 4,
   "id": "ec3f4ed2",
   "metadata": {},
   "outputs": [
    {
     "data": {
      "text/plain": [
       "0.003968253968253968"
      ]
     },
     "execution_count": 4,
     "metadata": {},
     "output_type": "execute_result"
    }
   ],
   "source": [
    "# Probability of randomly selecting correct 5 cups is:\n",
    "1.0 / math.comb(10, 5)"
   ]
  },
  {
   "cell_type": "markdown",
   "id": "380c2d9b",
   "metadata": {},
   "source": [
    "_As a result of the experiment was performed with 10 cups, 5 with milk and 5 with tea, then the probability of a correct random selection is much less than 1%._\n",
    "\n",
    "Possible outcomes of the **\"lady tasting tea\"** experiment  to get all *6* cups correct from *12* cups"
   ]
  },
  {
   "cell_type": "code",
   "execution_count": 25,
   "id": "0b2d80f0",
   "metadata": {},
   "outputs": [
    {
     "data": {
      "text/plain": [
       "495"
      ]
     },
     "execution_count": 25,
     "metadata": {},
     "output_type": "execute_result"
    }
   ],
   "source": [
    "math.comb(12, 4)"
   ]
  },
  {
   "cell_type": "code",
   "execution_count": 23,
   "id": "75058fdf",
   "metadata": {},
   "outputs": [
    {
     "data": {
      "text/plain": [
       "495"
      ]
     },
     "execution_count": 23,
     "metadata": {},
     "output_type": "execute_result"
    }
   ],
   "source": [
    "math.comb(12, 8)"
   ]
  },
  {
   "cell_type": "markdown",
   "id": "257bd755",
   "metadata": {},
   "source": [
    "We can notice that there were 12 cups in total, 4 with milk in the first and 8 with tea in the first - or vice versa, the probability is the same."
   ]
  },
  {
   "cell_type": "markdown",
   "id": "c928a473",
   "metadata": {},
   "source": [
    "\n",
    "### 2.1 *Bonus:*  <a class=\"anchor\" id=\"Bonus\"></a>\n",
    "<h5>How many would be required if you were to let the taster get one cup wrong while maintaining the 1% threshold?</h5>"
   ]
  },
  {
   "cell_type": "code",
   "execution_count": 26,
   "id": "d549af80",
   "metadata": {},
   "outputs": [
    {
     "data": {
      "text/plain": [
       "70"
      ]
     },
     "execution_count": 26,
     "metadata": {},
     "output_type": "execute_result"
    }
   ],
   "source": [
    "# Number of ways of selecting 4 cups from 8.\n",
    "math.comb(8, 4)"
   ]
  },
  {
   "cell_type": "code",
   "execution_count": 27,
   "id": "fc79fab5",
   "metadata": {},
   "outputs": [
    {
     "data": {
      "text/plain": [
       "0.014285714285714285"
      ]
     },
     "execution_count": 27,
     "metadata": {},
     "output_type": "execute_result"
    }
   ],
   "source": [
    "1.0 / math.comb(8, 4)"
   ]
  },
  {
   "cell_type": "code",
   "execution_count": 28,
   "id": "313b0283",
   "metadata": {
    "scrolled": true
   },
   "outputs": [
    {
     "data": {
      "text/plain": [
       "5"
      ]
     },
     "execution_count": 28,
     "metadata": {},
     "output_type": "execute_result"
    }
   ],
   "source": [
    "math.comb(5, 4)"
   ]
  },
  {
   "cell_type": "code",
   "execution_count": 31,
   "id": "bc8c1659",
   "metadata": {},
   "outputs": [
    {
     "data": {
      "text/plain": [
       "0.25"
      ]
     },
     "execution_count": 31,
     "metadata": {},
     "output_type": "execute_result"
    }
   ],
   "source": [
    "1.0 / math.comb(4, 3)"
   ]
  },
  {
   "cell_type": "code",
   "execution_count": 29,
   "id": "6f9a7e76",
   "metadata": {},
   "outputs": [
    {
     "data": {
      "text/plain": [
       "5"
      ]
     },
     "execution_count": 29,
     "metadata": {},
     "output_type": "execute_result"
    }
   ],
   "source": [
    "math.comb(5, 1)"
   ]
  },
  {
   "cell_type": "markdown",
   "id": "59b85c7d",
   "metadata": {},
   "source": [
    "## 3. Question 2 <a class=\"anchor\" id=\"Question_2\"></a>\n",
    "<h5>Use <a href=\"https://docs.scipy.org/doc/scipy/reference/generated/scipy.stats.fisher_exact.html\" style=\"color: #ff791e\">scipy's version of Fisher's exact test</a> to simulate the Lady Tasting Tea problem.</h5>"
   ]
  },
  {
   "cell_type": "markdown",
   "id": "8718b31e",
   "metadata": {},
   "source": [
    "**Perform a Fisher exact test on a 2x2 contingency table.**\n",
    "\n",
    "\n",
    "\n",
    "\n",
    "|| Tea | Milk |\n",
    "| :- | -: | :-: |\n",
    "| Selected Tea | 4 | 0|\n",
    "| Selected Milk | 0 | 4|"
   ]
  },
  {
   "cell_type": "code",
   "execution_count": null,
   "id": "9bf3b093",
   "metadata": {},
   "outputs": [],
   "source": []
  },
  {
   "cell_type": "code",
   "execution_count": null,
   "id": "9be3fb77",
   "metadata": {},
   "outputs": [],
   "source": []
  },
  {
   "cell_type": "code",
   "execution_count": 9,
   "id": "23760035",
   "metadata": {},
   "outputs": [],
   "source": [
    "# Statistical methods.\n",
    "import scipy.stats as ss"
   ]
  },
  {
   "cell_type": "code",
   "execution_count": 10,
   "id": "993cc886",
   "metadata": {},
   "outputs": [
    {
     "data": {
      "text/plain": [
       "<function scipy.stats.stats.fisher_exact(table, alternative='two-sided')>"
      ]
     },
     "execution_count": 10,
     "metadata": {},
     "output_type": "execute_result"
    }
   ],
   "source": [
    "ss.fisher_exact"
   ]
  },
  {
   "cell_type": "code",
   "execution_count": 11,
   "id": "b50d09f6",
   "metadata": {},
   "outputs": [
    {
     "data": {
      "text/plain": [
       "(inf, 0.028571428571428536)"
      ]
     },
     "execution_count": 11,
     "metadata": {},
     "output_type": "execute_result"
    }
   ],
   "source": [
    "ss.fisher_exact([[4, 0], [0, 4]])"
   ]
  },
  {
   "cell_type": "code",
   "execution_count": null,
   "id": "38f15093",
   "metadata": {},
   "outputs": [],
   "source": []
  },
  {
   "cell_type": "code",
   "execution_count": null,
   "id": "ef29912f",
   "metadata": {},
   "outputs": [],
   "source": []
  },
  {
   "cell_type": "code",
   "execution_count": null,
   "id": "b692a0b8",
   "metadata": {},
   "outputs": [],
   "source": []
  },
  {
   "cell_type": "code",
   "execution_count": null,
   "id": "3c2df065",
   "metadata": {},
   "outputs": [],
   "source": []
  },
  {
   "cell_type": "code",
   "execution_count": null,
   "id": "32b98427",
   "metadata": {},
   "outputs": [],
   "source": []
  },
  {
   "cell_type": "markdown",
   "id": "63a0bb3e",
   "metadata": {},
   "source": [
    "## 4. References<a class=\"anchor\" id=\"References\"></a>\n",
    "\n",
    "[1] https://brainder.org/2015/08/23/the-lady-tasting-tea-and-fishers-exact-test/#:~:text=The%20probability%20can%20be%20calculated%20as%3A&text=Thus%2C%20if%20the%20lady%20is,%2C%20i.e.%2C%20about%2024%25.\n",
    "\n",
    "[2] https://www.w3schools.com/python/ref_math_comb.asp#:~:text=The%20math.,method%20must%20be%20positive%20integers / https://docs.python.org/3/library/math.html \n",
    "\n",
    "[3] https://stackoverflow.com/a/4941932\n",
    "\n",
    "[2] https://stackoverflow.com/a/4941932"
   ]
  },
  {
   "cell_type": "markdown",
   "id": "62ffca1b",
   "metadata": {},
   "source": [
    "### End"
   ]
  }
 ],
 "metadata": {
  "kernelspec": {
   "display_name": "Python 3 (ipykernel)",
   "language": "python",
   "name": "python3"
  },
  "language_info": {
   "codemirror_mode": {
    "name": "ipython",
    "version": 3
   },
   "file_extension": ".py",
   "mimetype": "text/x-python",
   "name": "python",
   "nbconvert_exporter": "python",
   "pygments_lexer": "ipython3",
   "version": "3.8.10"
  }
 },
 "nbformat": 4,
 "nbformat_minor": 5
}
